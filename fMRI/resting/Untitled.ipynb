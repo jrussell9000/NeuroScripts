{
 "cells": [
  {
   "cell_type": "code",
   "execution_count": 2,
   "id": "8b02b23d-4e21-409f-aab3-5a0b6275c8fb",
   "metadata": {
    "execution": {
     "iopub.execute_input": "2023-01-19T22:10:35.062669Z",
     "iopub.status.busy": "2023-01-19T22:10:35.062468Z",
     "iopub.status.idle": "2023-01-19T22:10:35.067623Z",
     "shell.execute_reply": "2023-01-19T22:10:35.067195Z",
     "shell.execute_reply.started": "2023-01-19T22:10:35.062653Z"
    },
    "tags": []
   },
   "outputs": [
    {
     "data": {
      "text/plain": [
       "'/Volumes/Users/jdrussell3/NeuroScripts/fMRI/resting'"
      ]
     },
     "execution_count": 2,
     "metadata": {},
     "output_type": "execute_result"
    }
   ],
   "source": [
    "%pwd"
   ]
  }
 ],
 "metadata": {
  "kernelspec": {
   "display_name": "Python 3 (ipykernel)",
   "language": "python",
   "name": "python3"
  },
  "language_info": {
   "codemirror_mode": {
    "name": "ipython",
    "version": 3
   },
   "file_extension": ".py",
   "mimetype": "text/x-python",
   "name": "python",
   "nbconvert_exporter": "python",
   "pygments_lexer": "ipython3",
   "version": "3.9.7"
  }
 },
 "nbformat": 4,
 "nbformat_minor": 5
}
