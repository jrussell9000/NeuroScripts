{
 "cells": [
  {
   "cell_type": "code",
   "execution_count": null,
   "metadata": {},
   "outputs": [],
   "source": [
    "import numpy as np\n",
    "\n",
    "from dipy.core.gradients import gradient_table\n",
    "from dipy.data import get_fnames, default_sphere\n",
    "from dipy.io.gradients import read_bvals_bvecs\n",
    "from dipy.io.image import load_nifti\n",
    "\n",
    "data, affine = load_nifti('/Users/jdrussell3/scratch/dtimodel/sub-001_ses-01_ppd.nii')\n",
    "bvals, bvecs = read_bvals_bvecs('/Users/jdrussell3/scratch/dtimodel/sub-001_ses-01_ppd.bval',\n",
    "                                '/Users/jdrussell3/scratch/dtimodel/sub-001_ses-01_ppd.bvec')\n",
    "\n",
    "gtab = gradient_table(bvals, bvecs)\n",
    "values = np.array(bvals)\n",
    "ii = np.where(values == bvals.min())[0]\n",
    "b0_average = np.mean(data[:,:,:,ii], axis=3)"
   ]
  },
  {
   "cell_type": "code",
   "execution_count": null,
   "metadata": {},
   "outputs": [],
   "source": [
    "maskdata = nib.load('/Users/jdrussell3/scratch/dtimodel/sub-001_ses-01_mask_ppd.nii').get_fdata()\n",
    "\n",
    "dti_model = dti.TensorModel(gtab)\n",
    "\n",
    "dti_fit = tenmodel.fit(data, maskdata)\n",
    "evals = dti_fit.evals.astype(np.float32)\n",
    "evecs = dti_fit.evecs.astype(np.float32)\n",
    "\n",
    "FA = fractional_anisotropy(dti_fit.evals)\n",
    "FA[np.isnan(FA)] = 0\n",
    "\n",
    "estimate_data = dti_fit.predict(gtab, S0=b0_average)\n"
   ]
  }
 ],
 "metadata": {
  "kernelspec": {
   "display_name": "Python 3",
   "language": "python",
   "name": "python3"
  },
  "language_info": {
   "codemirror_mode": {
    "name": "ipython",
    "version": 3
   },
   "file_extension": ".py",
   "mimetype": "text/x-python",
   "name": "python",
   "nbconvert_exporter": "python",
   "pygments_lexer": "ipython3",
   "version": "3.7.5"
  },
  "varInspector": {
   "cols": {
    "lenName": 16,
    "lenType": 16,
    "lenVar": 40
   },
   "kernels_config": {
    "python": {
     "delete_cmd_postfix": "",
     "delete_cmd_prefix": "del ",
     "library": "var_list.py",
     "varRefreshCmd": "print(var_dic_list())"
    },
    "r": {
     "delete_cmd_postfix": ") ",
     "delete_cmd_prefix": "rm(",
     "library": "var_list.r",
     "varRefreshCmd": "cat(var_dic_list()) "
    }
   },
   "types_to_exclude": [
    "module",
    "function",
    "builtin_function_or_method",
    "instance",
    "_Feature"
   ],
   "window_display": false
  }
 },
 "nbformat": 4,
 "nbformat_minor": 2
}
