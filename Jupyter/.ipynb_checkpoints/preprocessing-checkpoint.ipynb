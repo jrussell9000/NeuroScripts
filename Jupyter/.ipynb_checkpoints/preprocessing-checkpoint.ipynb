{
 "cells": [
  {
   "cell_type": "code",
   "execution_count": 1,
   "metadata": {
    "ExecuteTime": {
     "end_time": "2019-10-23T16:33:30.655345Z",
     "start_time": "2019-10-23T16:33:30.128936Z"
    },
    "scrolled": true
   },
   "outputs": [],
   "source": [
    "import string\n",
    "import os\n",
    "import sys\n",
    "import subprocess\n",
    "import shutil\n",
    "import time\n",
    "import webbrowser\n",
    "import numpy as np\n",
    "\n",
    "from glob import glob\n",
    "from pathlib import Path, PosixPath\n",
    "from IPython.display import HTML, IFrame, Image, display, clear_output\n",
    "\n",
    "# Neuroimaging Modules\n",
    "import IPython\n",
    "import pydicom\n",
    "import nibabel as nib\n",
    "import dipy.reconst.dti as dti\n",
    "from dipy.segment.mask import median_otsu\n",
    "from dipy.denoise.nlmeans import nlmeans\n",
    "from dipy.denoise.noise_estimate import estimate_sigma\n",
    "from dipy.core.gradients import gradient_table\n",
    "from dipy.io import read_bvals_bvecs\n",
    "from dipy.reconst.dti import fractional_anisotropy\n",
    "from dipy.io.bvectxt import reorient_vectors\n",
    "\n",
    "from lib.Utils.PNGViewer.PNGViewer import PNGViewer"
   ]
  },
  {
   "cell_type": "code",
   "execution_count": 2,
   "metadata": {
    "ExecuteTime": {
     "end_time": "2019-10-23T16:33:30.707693Z",
     "start_time": "2019-10-23T16:33:30.657595Z"
    },
    "scrolled": true
   },
   "outputs": [],
   "source": [
    "def mrtrix_preproc(dwi_pre, eddy_options):\n",
    "    #1. Convert to MIF \n",
    "    !mrconvert -force -nthreads 12 -fslgrad $input_bvec $input_bval $input_dwi $dwi_raw\n",
    "    #2. Denoise\n",
    "    !dwidenoise -force -nthreads 12 $dwi_raw $dwi_den\n",
    "    #3. Remove Gibbs rings\n",
    "    !mrdegibbs -force -nthreads 12 $dwi_den $dwi_den_deg\n",
    "    #4. Preprocess\n",
    "    !dwifslpreproc -force -info -nthreads 12 $dwi_den_deg $dwi_den_deg_preproc -pe_dir AP -rpe_none -scratch '/tmp' -eddy_options $eddy_options -eddyqc_all $preproc_out_eddyqc\n",
    "    #5. Bias correction\n",
    "    !dwibiascorrect -force -nthreads 12 -ants $dwi_den_deg_preproc $dwi_den_deg_preproc_unb -scratch '/tmp'\n",
    "    #6. Mask generation\n",
    "    ##a. Extract b0s\n",
    "    !dwiextract -force -nthreads 12 -bzero $dwi_den_deg_preproc_unb $dwi_den_deg_preproc_unb_b0s\n",
    "    ##b. Compute mean b0\n",
    "    !mrmath -force -nthreads 12 -axis 3 $dwi_den_deg_preproc_unb_b0s mean $dwi_den_deg_preproc_unb_meanb0\n",
    "    ##c. Convert mean b0 to NII\n",
    "    !mrconvert -force -nthreads 12 $dwi_den_deg_preproc_unb_meanb0 $dwi_den_deg_preproc_unb_meanb0NII\n",
    "    ##d. Create mask\n",
    "    !bet2 $dwi_den_deg_preproc_unb_meanb0NII $dwi_den_deg_preproc_unb_meanb0maskroot -m\n",
    "    ##e. Convert mask back to MIF\n",
    "    !mrconvert -force -nthreads 12 $dwi_den_deg_preproc_unb_meanb0maskNIIGZ $dwi_den_deg_preproc_unb_meanb0mask"
   ]
  },
  {
   "cell_type": "code",
   "execution_count": null,
   "metadata": {
    "ExecuteTime": {
     "start_time": "2019-10-23T16:33:30.024Z"
    }
   },
   "outputs": [
    {
     "name": "stdout",
     "output_type": "stream",
     "text": [
      "mrconvert: \u001b[00;31m[WARNING] existing output files will be overwritten\u001b[0m\n",
      "mrconvert: [100%] copying from \"/scratch/j...inal/sub-001_ses-01_dwi.nii\" to \"/scratch/j..._out/sub-001_ses-01_dwi.mif\"\u001b[0K\u001b[0K\u001b[?7h\u001b[?7l\u001b[?7l\u001b[?7l\u001b[?7l\u001b[?7l\u001b[?7l\u001b[?7l\u001b[?7l\u001b[?7l\u001b[?7l\u001b[?7l\u001b[?7l\u001b[?7l\u001b[?7l\u001b[?7l\u001b[?7l\n",
      "dwidenoise: \u001b[00;31m[WARNING] existing output files will be overwritten\u001b[0m\n",
      "dwidenoise: [100%] preloading data for \"/scratch/jdrussell3/dwiproc/sub-001/ses-01/dwi/preproc_out/sub-001_ses-01_dwi.mif\"\u001b[0K\u001b[0K\u001b[?7h\u001b[?7l\u001b[?7l\u001b[?7l\u001b[?7l\u001b[?7l\u001b[?7l\u001b[?7l\u001b[?7l\u001b[?7l\u001b[?7l\u001b[?7l\u001b[?7l\u001b[?7l\u001b[?7l\u001b[?7l\u001b[?7l\u001b[?7l\u001b[?7l\u001b[?7l\u001b[?7l\u001b[?7l\u001b[?7l\u001b[?7l\u001b[?7l\u001b[?7l\u001b[?7l\u001b[?7l\u001b[?7l\u001b[?7l\u001b[?7l\u001b[?7l\u001b[?7l\u001b[?7l\u001b[?7l\u001b[?7l\u001b[?7l\u001b[?7l\n",
      "dwidenoise: [100%] running MP-PCA denoising\u001b[0K\u001b[0K\u001b[?7h\u001b[?7l\u001b[?7l\u001b[?7l\u001b[?7l\u001b[?7l\u001b[?7l\u001b[?7l\u001b[?7l\u001b[?7l\u001b[?7l\u001b[?7l\u001b[?7l\u001b[?7l\u001b[?7l\u001b[?7l\u001b[?7l\u001b[?7l\u001b[?7l\u001b[?7l\u001b[?7l\u001b[?7l\u001b[?7l\u001b[?7l\u001b[?7l\u001b[?7l\u001b[?7l\u001b[?7l\u001b[?7l\u001b[?7l\u001b[?7l\u001b[?7l\u001b[?7l\u001b[?7l\u001b[?7l\u001b[?7l\u001b[?7l\u001b[?7l\u001b[?7l\u001b[?7l\u001b[?7l\u001b[?7l\u001b[?7l\u001b[?7l\u001b[?7l\u001b[?7l\u001b[?7l\u001b[?7l\u001b[?7l\u001b[?7l\u001b[?7l\u001b[?7l\u001b[?7l\u001b[?7l\u001b[?7l\u001b[?7l\u001b[?7l\u001b[?7l\u001b[?7l\u001b[?7l\u001b[?7l\u001b[?7l\u001b[?7l\u001b[?7l\u001b[?7l\u001b[?7l\u001b[?7l\u001b[?7l\u001b[?7l\u001b[?7l\u001b[?7l\u001b[?7l\u001b[?7l\u001b[?7l\u001b[?7l\u001b[?7l\u001b[?7l\u001b[?7l\u001b[?7l\u001b[?7l\u001b[?7l\u001b[?7l\u001b[?7l\u001b[?7l\u001b[?7l\u001b[?7l\u001b[?7l\u001b[?7l\u001b[?7l\u001b[?7l\u001b[?7l\u001b[?7l\u001b[?7l\u001b[?7l\u001b[?7l\u001b[?7l\u001b[?7l\u001b[?7l\u001b[?7l\u001b[?7l\n",
      "mrdegibbs: \u001b[00;31m[WARNING] existing output files will be overwritten\u001b[0m\n",
      "mrdegibbs: [ 29%] performing Gibbs ringing removal... \u001b[0K\u001b[?7h\u001b[?7l\u001b[?7l\u001b[?7l\u001b[?7l\u001b[?7l\u001b[?7l\u001b[?7l\u001b[?7l\u001b[?7l\u001b[?7l\u001b[?7l\u001b[?7l\u001b[?7l\u001b[?7l\u001b[?7l\u001b[?7l\u001b[?7l\u001b[?7l\u001b[?7l\u001b[?7l\u001b[?7l\u001b[?7l\u001b[?7l\u001b[?7l\u001b[?7l\u001b[?7l\u001b[?7l\u001b[?7l"
     ]
    }
   ],
   "source": [
    "BIDSmasterdir = Path(\"/Volumes/Vol6/YouthPTSD/BIDS_master\")\n",
    "BIDSprocdir = Path(\"/Volumes/Vol6/YouthPTSD/BIDS_Processed\")\n",
    "Scratchprocdir = Path(\"/scratch/jdrussell3/dwiproc\")\n",
    "\n",
    "for subjdir in sorted(BIDSmasterdir.glob('sub*')):\n",
    "    for sesdir in sorted(subjdir.glob('ses*')):\n",
    "        for dwidir in sesdir.glob('dwi'):\n",
    "            output_dir = Path(Scratchprocdir, subjdir.name, sesdir.name, 'dwi')\n",
    "            if output_dir.exists():\n",
    "                shutil.rmtree(output_dir)\n",
    "            output_dir.mkdir(parents=True)\n",
    "            for rawdwi in dwidir.glob('*.nii*'):\n",
    "                #Get sub-XXX_ses-YY string (dwi_pre)\n",
    "                baseout_list = rawdwi.name.split('_')[0:2]\n",
    "                s = \"_\"\n",
    "                baseout_stem = s.join(baseout_list)\n",
    "                dwi_pre = baseout_stem\n",
    "                \n",
    "                #Copy original files from BIDS_Master to BIDS_Processesd/../../original\n",
    "                orig_dwi = rawdwi\n",
    "                orig_bval = rawdwi.with_suffix('.bval')\n",
    "                orig_bvec = rawdwi.with_suffix('.bvec')\n",
    "                \n",
    "                new_orig_dir = Path(output_dir, 'original')\n",
    "                new_orig_dir.mkdir(parents=True)\n",
    "                new_orig_dwi = new_orig_dir / str(dwi_pre + \"_dwi.nii\")\n",
    "                new_orig_bval = new_orig_dir / str(dwi_pre + \"_dwi.bval\")\n",
    "                new_orig_bvec = new_orig_dir / str(dwi_pre + \"_dwi.bvec\")\n",
    "                shutil.copyfile(orig_dwi, new_orig_dwi)\n",
    "                shutil.copyfile(orig_bval, new_orig_bval)\n",
    "                shutil.copyfile(orig_bvec, new_orig_bvec)\n",
    "                \n",
    "                #Begin defining preprocessing variables\n",
    "                preproc_out = Path(output_dir, \"preproc_out\")\n",
    "                preproc_out.mkdir(parents=True)\n",
    "                preproc_out_eddyqc = Path(preproc_out, \"eddy_qc\")\n",
    "                temp_dir = '/tmp'\n",
    "                eddy_options = \"'--verbose --slm=linear '\"\n",
    "                input_dwi = new_orig_dwi\n",
    "                input_bvec = new_orig_bvec\n",
    "                input_bval = new_orig_bval\n",
    "                dwi_raw = Path(preproc_out, str(dwi_pre + \"_dwi.mif\"))\n",
    "                dwi_den = Path(preproc_out, str(dwi_pre + \"_dwi_den.mif\"))\n",
    "                dwi_den_deg = Path(preproc_out, str(dwi_pre + \"_dwi_den_deg.mif\"))\n",
    "                dwi_den_deg_preproc = Path(preproc_out, str(\n",
    "                    dwi_pre + \"_dwi_den_deg_preproc.mif\"))\n",
    "                dwi_den_deg_preproc_unb = Path(preproc_out, str(\n",
    "                    dwi_pre + \"_dwi_den_deg_preproc_unb.mif\"))\n",
    "                dwi_den_deg_preproc_unb_b0s = Path(preproc_out, str(\n",
    "                    dwi_pre + \"_dwi_den_deg_preproc_unb_b0s.mif\"))\n",
    "                dwi_den_deg_preproc_unb_meanb0 = Path(preproc_out, str(\n",
    "                    dwi_pre + \"_dwi_den_deg_preproc_unb_meanb0.mif\"))\n",
    "                dwi_den_deg_preproc_unb_meanb0NII = Path(preproc_out, str(\n",
    "                    dwi_pre + \"_dwi_den_deg_preproc_unb_meanb0.nii\"))\n",
    "                dwi_den_deg_preproc_unb_meanb0maskroot = Path(\n",
    "                    preproc_out, str(dwi_pre + \"_dwi_den_deg_preproc_unb_meanb0\"))\n",
    "                dwi_den_deg_preproc_unb_meanb0maskNIIGZ = Path(preproc_out, str(\n",
    "                    dwi_pre + \"_dwi_den_deg_preproc_unb_meanb0_mask.nii.gz\"))\n",
    "                dwi_den_deg_preproc_unb_meanb0mask = Path(preproc_out, str(\n",
    "                    dwi_pre + \"_dwi_den_deg_preproc_unb_meanb0_mask.mif\"))\n",
    "                dwi_den_deg_preproc_unb_meanb0mask_templ = Path(preproc_out, str(\n",
    "                    dwi_pre + \"_dwi_den_deg_preproc_unb_meanb0_mask_templ.mif\"))\n",
    "                dwi_den_deg_preproc_unb_meanb0mask_ups = Path(preproc_out, str(\n",
    "                    dwi_pre + \"_dwi_den_deg_preproc_unb_meanb0_mask_ups.mif\"))\n",
    "                \n",
    "                mrtrix_preproc(dwi_pre, eddy_options)\n",
    "                #group_average_response = Path(preproc_out, \"sub-023_ses-01_response.txt\")\n",
    "                #output_fod = Path(preproc_out, \"sub-023_ses-01_fod.mif\")\n",
    "                #mask = \"/scratch/jdrussell3/dipytest/meanb0_brain_mask.nii.gz\"\n",
    "                #mask_template = \"/scratch/jdrussell/\"\n",
    "                \n",
    "                \n",
    "                #mrtrix_preproc(dwi_pre, eddy_options)"
   ]
  },
  {
   "cell_type": "code",
   "execution_count": null,
   "metadata": {},
   "outputs": [],
   "source": []
  }
 ],
 "metadata": {
  "kernelspec": {
   "display_name": "Python 3",
   "language": "python",
   "name": "python3"
  },
  "language_info": {
   "codemirror_mode": {
    "name": "ipython",
    "version": 3
   },
   "file_extension": ".py",
   "mimetype": "text/x-python",
   "name": "python",
   "nbconvert_exporter": "python",
   "pygments_lexer": "ipython3",
   "version": "3.7.4"
  },
  "varInspector": {
   "cols": {
    "lenName": 16,
    "lenType": 16,
    "lenVar": 40
   },
   "kernels_config": {
    "python": {
     "delete_cmd_postfix": "",
     "delete_cmd_prefix": "del ",
     "library": "var_list.py",
     "varRefreshCmd": "print(var_dic_list())"
    },
    "r": {
     "delete_cmd_postfix": ") ",
     "delete_cmd_prefix": "rm(",
     "library": "var_list.r",
     "varRefreshCmd": "cat(var_dic_list()) "
    }
   },
   "types_to_exclude": [
    "module",
    "function",
    "builtin_function_or_method",
    "instance",
    "_Feature"
   ],
   "window_display": false
  }
 },
 "nbformat": 4,
 "nbformat_minor": 2
}
