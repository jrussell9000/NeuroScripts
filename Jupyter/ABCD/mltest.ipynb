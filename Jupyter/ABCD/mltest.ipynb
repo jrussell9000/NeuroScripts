{
 "cells": [
  {
   "cell_type": "code",
   "execution_count": 2,
   "metadata": {
    "ExecuteTime": {
     "end_time": "2021-06-03T00:18:50.484953Z",
     "start_time": "2021-06-03T00:18:50.460747Z"
    }
   },
   "outputs": [
    {
     "ename": "ModuleNotFoundError",
     "evalue": "No module named 'bctpy'",
     "output_type": "error",
     "traceback": [
      "\u001b[0;31m---------------------------------------------------------------------------\u001b[0m",
      "\u001b[0;31mModuleNotFoundError\u001b[0m                       Traceback (most recent call last)",
      "\u001b[0;32m<ipython-input-2-288ed4babffb>\u001b[0m in \u001b[0;36m<module>\u001b[0;34m\u001b[0m\n\u001b[1;32m      7\u001b[0m \u001b[0;32mimport\u001b[0m \u001b[0mnumpy\u001b[0m \u001b[0;32mas\u001b[0m \u001b[0mnp\u001b[0m\u001b[0;34m\u001b[0m\u001b[0;34m\u001b[0m\u001b[0m\n\u001b[1;32m      8\u001b[0m \u001b[0;32mimport\u001b[0m \u001b[0mtensorflow\u001b[0m \u001b[0;32mas\u001b[0m \u001b[0mtf\u001b[0m\u001b[0;34m\u001b[0m\u001b[0;34m\u001b[0m\u001b[0m\n\u001b[0;32m----> 9\u001b[0;31m \u001b[0;32mimport\u001b[0m \u001b[0mbctpy\u001b[0m\u001b[0;34m\u001b[0m\u001b[0;34m\u001b[0m\u001b[0m\n\u001b[0m",
      "\u001b[0;31mModuleNotFoundError\u001b[0m: No module named 'bctpy'"
     ]
    }
   ],
   "source": [
    "import sys\n",
    "import pandas as pd\n",
    "from pathlib import Path\n",
    "from IPython.display import clear_output\n",
    "import dask\n",
    "from dask import dataframe as dd\n",
    "import numpy as np\n",
    "import tensorflow as tf\n",
    "import bctpy"
   ]
  },
  {
   "cell_type": "code",
   "execution_count": null,
   "metadata": {
    "ExecuteTime": {
     "end_time": "2021-05-30T03:01:17.194746Z",
     "start_time": "2021-05-30T00:45:30.671149Z"
    }
   },
   "outputs": [],
   "source": [
    "pconncsv_dir = Path('/fast_scratch/jdr/ABCD/ABCD_3165_Pipe/pconns_working/pconn_csv')\n",
    "subjIDs = []\n",
    "allArrays = []\n",
    "\n",
    "for pconncsv in pconncsv_dir.glob('*.csv'):\n",
    "    clear_output(wait=True)\n",
    "    subjIDs.append(pconncsv.name.split('_')[0])\n",
    "    \n",
    "    csv_in_sq = pd.read_csv(pconncsv, sep=\"\\t\", header=None).values\n",
    "    csv_in_flat = csv_in_sq[np.tril_indices(453, k = -1)]\n",
    "    \n",
    "    if len(allArrays) == 0:\n",
    "        allArrays = csv_in_flat\n",
    "    else:\n",
    "        allArrays = np.vstack((allArrays, csv_in_flat))\n",
    "    print(pconncsv)\n",
    "    \n",
    "allArraysPath = Path('/fast_scratch/jdr/ABCD/ABCD_3165_Pipe/Data/allArrays.npy')\n",
    "np.save(allArraysPath, allArrays)\n",
    "\n",
    "subjIDs_arrayPath = Path('/fast_scratch/jdr/ABCD/ABCD_3165_Pipe/Data/subjIDs.npy')\n",
    "np.save(subjIDs_arrayPath, np.asarray(subjIDs))"
   ]
  },
  {
   "cell_type": "code",
   "execution_count": null,
   "metadata": {
    "ExecuteTime": {
     "end_time": "2021-05-30T17:14:55.104294Z",
     "start_time": "2021-05-30T17:14:55.015849Z"
    }
   },
   "outputs": [],
   "source": [
    "c_data = pd.read_table('/fast_scratch/jdr/ABCD/ABCD_3165_Pipe/Data/abcd_ptsd01.txt', header=0, skiprows=[1])\n",
    "c_data = c_data[c_data[\"eventname\"] == \"baseline_year_1_arm_1\"]\n",
    "c_data = c_data.drop(['collection_id', 'abcd_ptsd01_id', 'dataset_id', \n",
    "                      'src_subject_id', 'interview_date', 'eventname', 'collection_title'], axis=1)\n",
    "c_data['subjectkey'] = 'sub-' + c_data['subjectkey'].str.replace('_', '')\n",
    "c_data = c_data.drop(['ExposureTotal', 'IPVTotal'], axis=1, errors='ignore')\n",
    "c_data['ExposureTotal'] = c_data.iloc[:, 3:19].sum(axis=1)\n",
    "c_data['IPVTotal'] = c_data.iloc[:, 7:18].sum(axis=1)\n",
    "c_data['ExposureAny'] = np.where(c_data['ExposureTotal'] == 0, 0, 1)\n",
    "c_data['IPVAny'] = np.where(c_data['IPVTotal'] == 0, 0, 1)\n",
    "c_data['Sex01'] = np.where(c_data['sex'] == 'M', 1, 0) # Must use numeric data as input (not M, F)"
   ]
  },
  {
   "cell_type": "code",
   "execution_count": null,
   "metadata": {
    "ExecuteTime": {
     "end_time": "2021-05-30T17:44:25.582588Z",
     "start_time": "2021-05-30T17:44:25.566519Z"
    },
    "scrolled": true
   },
   "outputs": [],
   "source": [
    "subjIDs_df = pd.DataFrame(subjIDs,columns=['subjectkey'])\n",
    " = subjIDs_df.merge(c_data, how='left', on='subjectkey')\n",
    "df_comb.info()"
   ]
  },
  {
   "cell_type": "code",
   "execution_count": null,
   "metadata": {
    "ExecuteTime": {
     "end_time": "2021-05-30T17:44:32.848556Z",
     "start_time": "2021-05-30T17:44:29.839484Z"
    }
   },
   "outputs": [],
   "source": [
    "from sklearn.model_selection import train_test_split\n",
    "\n",
    "x_train, x_test, y_train, y_test = train_test_split(allArrays, df_comb['Sex01'].values)"
   ]
  },
  {
   "cell_type": "code",
   "execution_count": null,
   "metadata": {
    "ExecuteTime": {
     "end_time": "2021-06-02T21:05:18.279192Z",
     "start_time": "2021-06-02T21:05:18.266712Z"
    }
   },
   "outputs": [],
   "source": [
    "\n",
    "subjIDs"
   ]
  },
  {
   "cell_type": "code",
   "execution_count": null,
   "metadata": {
    "ExecuteTime": {
     "end_time": "2021-05-30T17:44:47.307071Z",
     "start_time": "2021-05-30T17:44:47.275527Z"
    }
   },
   "outputs": [],
   "source": [
    "#Creating the classification model\n",
    "import keras\n",
    "from keras.models import Sequential\n",
    "from keras.layers import Dense\n",
    "from keras.optimizers import Adam\n",
    "\n",
    "classifier = Sequential()\n",
    "#First Hidden Layer\n",
    "classifier.add(Dense(32, activation='tanh', kernel_initializer='random_normal', input_shape=x_train.shape[1:]))\n",
    "#Second  Hidden Layer\n",
    "classifier.add(Dense(16, activation='relu', kernel_initializer='random_normal'))\n",
    "#Third  Hidden Layer\n",
    "classifier.add(Dense(16, activation='relu', kernel_initializer='random_normal'))\n",
    "#Output Layer\n",
    "classifier.add(Dense(1, activation='sigmoid', kernel_initializer='random_normal'))"
   ]
  },
  {
   "cell_type": "code",
   "execution_count": null,
   "metadata": {
    "ExecuteTime": {
     "end_time": "2021-05-30T17:44:52.086878Z",
     "start_time": "2021-05-30T17:44:52.079545Z"
    }
   },
   "outputs": [],
   "source": [
    "classifier.compile(optimizer = Adam(lr =.0001),loss='binary_crossentropy', metrics =['accuracy'])"
   ]
  },
  {
   "cell_type": "code",
   "execution_count": null,
   "metadata": {
    "ExecuteTime": {
     "end_time": "2021-05-30T17:46:23.854178Z",
     "start_time": "2021-05-30T17:44:55.076416Z"
    }
   },
   "outputs": [],
   "source": [
    "classifier.fit(x_train_tf,y_train_recode, batch_size=32, epochs=100)"
   ]
  },
  {
   "cell_type": "code",
   "execution_count": null,
   "metadata": {},
   "outputs": [],
   "source": []
  }
 ],
 "metadata": {
  "kernelspec": {
   "display_name": "Python 3",
   "language": "python",
   "name": "python3"
  },
  "language_info": {
   "codemirror_mode": {
    "name": "ipython",
    "version": 3
   },
   "file_extension": ".py",
   "mimetype": "text/x-python",
   "name": "python",
   "nbconvert_exporter": "python",
   "pygments_lexer": "ipython3",
   "version": "3.7.10"
  },
  "varInspector": {
   "cols": {
    "lenName": 16,
    "lenType": 16,
    "lenVar": 40
   },
   "kernels_config": {
    "python": {
     "delete_cmd_postfix": "",
     "delete_cmd_prefix": "del ",
     "library": "var_list.py",
     "varRefreshCmd": "print(var_dic_list())"
    },
    "r": {
     "delete_cmd_postfix": ") ",
     "delete_cmd_prefix": "rm(",
     "library": "var_list.r",
     "varRefreshCmd": "cat(var_dic_list()) "
    }
   },
   "types_to_exclude": [
    "module",
    "function",
    "builtin_function_or_method",
    "instance",
    "_Feature"
   ],
   "window_display": false
  }
 },
 "nbformat": 4,
 "nbformat_minor": 4
}
