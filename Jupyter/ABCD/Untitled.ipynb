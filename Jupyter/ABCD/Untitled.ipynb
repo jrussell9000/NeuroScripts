{
 "cells": [
  {
   "cell_type": "code",
   "execution_count": 1,
   "id": "eb6b4eab",
   "metadata": {
    "ExecuteTime": {
     "end_time": "2021-08-10T16:29:18.392874Z",
     "start_time": "2021-08-10T16:29:17.810050Z"
    }
   },
   "outputs": [],
   "source": [
    "import csv\n",
    "import importlib\n",
    "import itertools\n",
    "import numpy as np\n",
    "import pandas as pd\n",
    "import pickle\n",
    "import os, shutil, time, h5py\n",
    "\n",
    "from bct import *\n",
    "importlib.reload(nbs)\n",
    "from IPython.display import clear_output\n",
    "from pathlib import Path\n",
    "from sklearn import preprocessing\n",
    "from scipy import stats"
   ]
  },
  {
   "cell_type": "code",
   "execution_count": 2,
   "id": "c9055fb5",
   "metadata": {
    "ExecuteTime": {
     "end_time": "2021-08-10T16:29:18.700360Z",
     "start_time": "2021-08-10T16:29:18.653563Z"
    }
   },
   "outputs": [],
   "source": [
    "%%capture\n",
    "#from tqdm import tqdm_notebook as tqdm\n",
    "from tqdm.notebook import tqdm\n",
    "tqdm().pandas()"
   ]
  },
  {
   "cell_type": "code",
   "execution_count": 3,
   "id": "0172707d",
   "metadata": {
    "ExecuteTime": {
     "end_time": "2021-08-10T16:29:19.507234Z",
     "start_time": "2021-08-10T16:29:19.505305Z"
    }
   },
   "outputs": [],
   "source": [
    "# Setting Variables\n",
    "\n",
    "## CSV Matrices of Connectivitiy Values as Z-scores (via cifti-connectivity)\n",
    "pconncsv_dir = Path('/fast_scratch/jdr/ABCD/ABCD_3165_Pipe/pconns_working/pconn_csv')\n",
    "datadir = Path('/fast_scratch/jdr/ABCD/ABCD_3165_Pipe/Data/IPV_Networks')\n",
    "ROI_labels_path = Path('/fast_scratch/jdr/atlases/Schaefer400Tian4/Schaefer2018_400Parcels_7Networks_order_Tian_Subcortex_S4_label_reformatted.txt')\n",
    "allArraysPath = Path('/fast_scratch/jdr/ABCD/ABCD_3165_Pipe/Data/IPV_Networks/allArrays.pkl')"
   ]
  },
  {
   "cell_type": "code",
   "execution_count": 4,
   "id": "d74ecd26",
   "metadata": {
    "ExecuteTime": {
     "end_time": "2021-08-10T16:29:31.800289Z",
     "start_time": "2021-08-10T16:29:20.588570Z"
    }
   },
   "outputs": [],
   "source": [
    "allArrays = None\n",
    "with open(allArraysPath, 'rb') as f:\n",
    "    allArrays = pickle.load(f)"
   ]
  },
  {
   "cell_type": "code",
   "execution_count": 254,
   "id": "c06ed084",
   "metadata": {
    "ExecuteTime": {
     "end_time": "2021-07-29T01:35:52.448948Z",
     "start_time": "2021-07-29T01:35:52.348793Z"
    }
   },
   "outputs": [],
   "source": [
    "## Grab the ABCD file with the IPV exposure data and import to a table (skipping the header)\n",
    "behav_df = pd.read_table('/fast_scratch/jdr/ABCD/ABCD_3165_Pipe/Data/abcd_ptsd01.txt', header=0, skiprows=[1])\n",
    "\n",
    "## Subset to only include the baseline data\n",
    "behav_df = behav_df[behav_df[\"eventname\"] == \"baseline_year_1_arm_1\"]\n",
    "\n",
    "## Drop unnecessary variables\n",
    "behav_df = behav_df.drop(['collection_id', 'abcd_ptsd01_id', 'dataset_id', \n",
    "                      'src_subject_id', 'interview_date', 'eventname', 'collection_title'], axis=1)\n",
    "\n",
    "## Reformat the 'subjectkey' variable to match the format in the CSV files\n",
    "behav_df['subjectkey'] = 'sub-' + behav_df['subjectkey'].str.replace('_', '')\n",
    "\n",
    "## In case they exist, drop the variables we're about to calculate\n",
    "behav_df = behav_df.drop(['ExposureTotal', 'IPVTotal', 'ExposureAny', 'IPVAny'], axis=1, errors='ignore')\n",
    "\n",
    "## Compute total overall exposure (all items) and total IPV exposure (IPV items only)\n",
    "behav_df['ExposureTotal'] = behav_df.iloc[:, 3:19].sum(axis=1)\n",
    "behav_df['IPVTotal'] = behav_df.iloc[:, 7:18].sum(axis=1)\n",
    "\n",
    "## Binarize total and IPV exposure items \n",
    "behav_df['ExposureAny'] = np.where(behav_df['ExposureTotal'] == 0, 0, 1)\n",
    "behav_df['IPVAny'] = np.where(behav_df['IPVTotal'] == 0, 0, 1)\n",
    "\n",
    "## Dummy code sex variable to Sex01\n",
    "behav_df['Sex01'] = np.where(behav_df['sex'] == 'M', 1, 0) # Must use numeric data as input (not M, F)"
   ]
  },
  {
   "cell_type": "code",
   "execution_count": 152,
   "id": "b57172b2",
   "metadata": {
    "ExecuteTime": {
     "end_time": "2021-07-28T19:45:22.390264Z",
     "start_time": "2021-07-28T19:44:57.552406Z"
    }
   },
   "outputs": [
    {
     "data": {
      "application/vnd.jupyter.widget-view+json": {
       "model_id": "0c35807dd7254e0fa3acba8e3f0ac363",
       "version_major": 2,
       "version_minor": 0
      },
      "text/plain": [
       "  0%|          | 0/7220 [00:00<?, ?it/s]"
      ]
     },
     "metadata": {},
     "output_type": "display_data"
    }
   ],
   "source": [
    "fcArrays_list = []\n",
    "subjkey_list = []\n",
    "\n",
    "for i in tqdm(list(range(len(allArrays)))):\n",
    "    fcMatrix = allArrays[i][1].to_numpy()\n",
    "    fcArray = fcMatrix[np.tril_indices(fcMatrix.shape[0], -1)]\n",
    "    fcArrays_list.append(fcArray)\n",
    "    \n",
    "    subjkey = allArrays[i][0]\n",
    "    subjkey_list.append(subjkey)\n",
    "    \n",
    "fcArrays = np.vstack(fcArrays_list)\n",
    "subjkeys = np.vstack(subjkey_list)"
   ]
  },
  {
   "cell_type": "code",
   "execution_count": null,
   "id": "c5ac72a2",
   "metadata": {
    "ExecuteTime": {
     "end_time": "2021-07-29T01:32:31.914482Z",
     "start_time": "2021-07-29T01:32:27.755226Z"
    }
   },
   "outputs": [],
   "source": [
    "fcArrays_df = pd.DataFrame(fcArrays)\n",
    "subjkeys_df = pd.DataFrame(subjkeys)\n",
    "fc_df = pd.concat([subjkeys_df, fcArrays_df], axis=1, ignore_index=True)\n",
    "fc_df=df.rename(columns = {0:'subjectkey'})\n",
    "\n",
    "behav_df = behav_df.drop(behav_df.iloc[:,2:len(behav_df.columns)-1], axis = 1)\n",
    "behav_df = behav_df.drop(behav_df.columns[[1]], axis=1)\n",
    "comb_df = fc_df.merge(behav_df, on=\"subjectkey\", how=\"left\")\n",
    "\n",
    "fcFeatures = comb_df.drop(comb_df.columns[[0,len(df.columns)]], axis=1)\n",
    "sexLabels = comb_df.Sex01"
   ]
  },
  {
   "cell_type": "code",
   "execution_count": 259,
   "id": "6a223e74",
   "metadata": {
    "ExecuteTime": {
     "end_time": "2021-07-29T01:40:31.244708Z",
     "start_time": "2021-07-29T01:40:25.210753Z"
    }
   },
   "outputs": [],
   "source": [
    "#Splitting data into training and testing\n",
    "\n",
    "from sklearn.model_selection import train_test_split\n",
    "X_train, X_test, y_train, y_test = train_test_split(fcFeatures, sexLabels, test_size=0.3)"
   ]
  },
  {
   "cell_type": "code",
   "execution_count": 262,
   "id": "ef11513a",
   "metadata": {
    "ExecuteTime": {
     "end_time": "2021-07-29T01:46:11.670325Z",
     "start_time": "2021-07-29T01:45:14.269405Z"
    }
   },
   "outputs": [],
   "source": [
    "#Creating the classification model\n",
    "import keras\n",
    "from keras.models import Sequential\n",
    "from keras.layers import Dense\n",
    "from keras.optimizers import Adam\n",
    "\n",
    "classifier = Sequential()\n",
    "#First Hidden Layer\n",
    "classifier.add(Dense(32, activation='tanh', kernel_initializer='random_normal', input_shape=fcFeatures.shape[1:]))\n",
    "#Second  Hidden Layer\n",
    "classifier.add(Dense(16, activation='relu', kernel_initializer='random_normal'))\n",
    "#Third  Hidden Layer\n",
    "classifier.add(Dense(16, activation='relu', kernel_initializer='random_normal'))\n",
    "#Output Layer\n",
    "classifier.add(Dense(1, activation='sigmoid', kernel_initializer='random_normal'))"
   ]
  },
  {
   "cell_type": "code",
   "execution_count": 267,
   "id": "a4b84847",
   "metadata": {
    "ExecuteTime": {
     "end_time": "2021-07-29T02:00:06.034887Z",
     "start_time": "2021-07-29T02:00:06.030252Z"
    }
   },
   "outputs": [
    {
     "name": "stdout",
     "output_type": "stream",
     "text": [
      "Model: \"sequential\"\n",
      "_________________________________________________________________\n",
      "Layer (type)                 Output Shape              Param #   \n",
      "=================================================================\n",
      "dense (Dense)                (None, 32)                3290624   \n",
      "_________________________________________________________________\n",
      "dense_1 (Dense)              (None, 16)                528       \n",
      "_________________________________________________________________\n",
      "dense_2 (Dense)              (None, 16)                272       \n",
      "_________________________________________________________________\n",
      "dense_3 (Dense)              (None, 1)                 17        \n",
      "=================================================================\n",
      "Total params: 3,291,441\n",
      "Trainable params: 3,291,441\n",
      "Non-trainable params: 0\n",
      "_________________________________________________________________\n"
     ]
    }
   ],
   "source": [
    "classifier.summary()"
   ]
  },
  {
   "cell_type": "code",
   "execution_count": 263,
   "id": "ec880c4b",
   "metadata": {
    "ExecuteTime": {
     "end_time": "2021-07-29T01:46:14.916745Z",
     "start_time": "2021-07-29T01:46:14.906683Z"
    }
   },
   "outputs": [],
   "source": [
    "#Compiling the model\n",
    "classifier.compile(optimizer = Adam(lr =.0001),loss='binary_crossentropy', metrics =['accuracy'])"
   ]
  },
  {
   "cell_type": "code",
   "execution_count": 264,
   "id": "ba13b8ae",
   "metadata": {
    "ExecuteTime": {
     "end_time": "2021-07-29T01:48:22.085723Z",
     "start_time": "2021-07-29T01:46:18.250455Z"
    }
   },
   "outputs": [
    {
     "name": "stdout",
     "output_type": "stream",
     "text": [
      "Epoch 1/100\n",
      "158/158 [==============================] - 2s 6ms/step - loss: nan - accuracy: 0.4885\n",
      "Epoch 2/100\n",
      "158/158 [==============================] - 1s 6ms/step - loss: nan - accuracy: 0.5067\n",
      "Epoch 3/100\n",
      "158/158 [==============================] - 1s 6ms/step - loss: nan - accuracy: 0.5176\n",
      "Epoch 4/100\n",
      "158/158 [==============================] - 1s 7ms/step - loss: nan - accuracy: 0.5129\n",
      "Epoch 5/100\n",
      "158/158 [==============================] - 1s 9ms/step - loss: nan - accuracy: 0.4973\n",
      "Epoch 6/100\n",
      "158/158 [==============================] - 2s 10ms/step - loss: nan - accuracy: 0.5044\n",
      "Epoch 7/100\n",
      "158/158 [==============================] - 2s 10ms/step - loss: nan - accuracy: 0.5053\n",
      "Epoch 8/100\n",
      "158/158 [==============================] - 2s 10ms/step - loss: nan - accuracy: 0.5023\n",
      "Epoch 9/100\n",
      "158/158 [==============================] - 2s 12ms/step - loss: nan - accuracy: 0.5091\n",
      "Epoch 10/100\n",
      "158/158 [==============================] - 2s 12ms/step - loss: nan - accuracy: 0.5124\n",
      "Epoch 11/100\n",
      "158/158 [==============================] - 1s 9ms/step - loss: nan - accuracy: 0.5043\n",
      "Epoch 12/100\n",
      "158/158 [==============================] - 2s 12ms/step - loss: nan - accuracy: 0.4934\n",
      "Epoch 13/100\n",
      "158/158 [==============================] - 2s 11ms/step - loss: nan - accuracy: 0.5056\n",
      "Epoch 14/100\n",
      "158/158 [==============================] - 2s 10ms/step - loss: nan - accuracy: 0.5109\n",
      "Epoch 15/100\n",
      "158/158 [==============================] - 1s 9ms/step - loss: nan - accuracy: 0.5133\n",
      "Epoch 16/100\n",
      "158/158 [==============================] - 2s 10ms/step - loss: nan - accuracy: 0.4985\n",
      "Epoch 17/100\n",
      "158/158 [==============================] - 1s 8ms/step - loss: nan - accuracy: 0.5014\n",
      "Epoch 18/100\n",
      "158/158 [==============================] - 1s 9ms/step - loss: nan - accuracy: 0.4945\n",
      "Epoch 19/100\n",
      "158/158 [==============================] - 2s 10ms/step - loss: nan - accuracy: 0.5121\n",
      "Epoch 20/100\n",
      "158/158 [==============================] - 1s 9ms/step - loss: nan - accuracy: 0.5016\n",
      "Epoch 21/100\n",
      "158/158 [==============================] - 1s 8ms/step - loss: nan - accuracy: 0.5077\n",
      "Epoch 22/100\n",
      "158/158 [==============================] - 1s 8ms/step - loss: nan - accuracy: 0.5049\n",
      "Epoch 23/100\n",
      "158/158 [==============================] - 1s 8ms/step - loss: nan - accuracy: 0.4954\n",
      "Epoch 24/100\n",
      "158/158 [==============================] - 1s 9ms/step - loss: nan - accuracy: 0.4992\n",
      "Epoch 25/100\n",
      "158/158 [==============================] - 2s 10ms/step - loss: nan - accuracy: 0.4944\n",
      "Epoch 26/100\n",
      "158/158 [==============================] - 1s 9ms/step - loss: nan - accuracy: 0.4995\n",
      "Epoch 27/100\n",
      "158/158 [==============================] - 1s 8ms/step - loss: nan - accuracy: 0.4973\n",
      "Epoch 28/100\n",
      "158/158 [==============================] - 1s 6ms/step - loss: nan - accuracy: 0.5074\n",
      "Epoch 29/100\n",
      "158/158 [==============================] - 1s 6ms/step - loss: nan - accuracy: 0.5056\n",
      "Epoch 30/100\n",
      "158/158 [==============================] - 1s 8ms/step - loss: nan - accuracy: 0.5007\n",
      "Epoch 31/100\n",
      "158/158 [==============================] - 1s 7ms/step - loss: nan - accuracy: 0.5018\n",
      "Epoch 32/100\n",
      "158/158 [==============================] - 1s 8ms/step - loss: nan - accuracy: 0.5098\n",
      "Epoch 33/100\n",
      "158/158 [==============================] - 1s 7ms/step - loss: nan - accuracy: 0.5079\n",
      "Epoch 34/100\n",
      "158/158 [==============================] - 1s 6ms/step - loss: nan - accuracy: 0.5051\n",
      "Epoch 35/100\n",
      "158/158 [==============================] - 1s 6ms/step - loss: nan - accuracy: 0.5088\n",
      "Epoch 36/100\n",
      "158/158 [==============================] - 1s 6ms/step - loss: nan - accuracy: 0.5011\n",
      "Epoch 37/100\n",
      "158/158 [==============================] - 1s 6ms/step - loss: nan - accuracy: 0.5027\n",
      "Epoch 38/100\n",
      "158/158 [==============================] - 1s 6ms/step - loss: nan - accuracy: 0.5074\n",
      "Epoch 39/100\n",
      "158/158 [==============================] - 1s 6ms/step - loss: nan - accuracy: 0.5068\n",
      "Epoch 40/100\n",
      "158/158 [==============================] - 1s 8ms/step - loss: nan - accuracy: 0.5035\n",
      "Epoch 41/100\n",
      "158/158 [==============================] - 1s 7ms/step - loss: nan - accuracy: 0.5003\n",
      "Epoch 42/100\n",
      "158/158 [==============================] - 1s 6ms/step - loss: nan - accuracy: 0.5058\n",
      "Epoch 43/100\n",
      "158/158 [==============================] - 1s 7ms/step - loss: nan - accuracy: 0.5035\n",
      "Epoch 44/100\n",
      "158/158 [==============================] - 1s 6ms/step - loss: nan - accuracy: 0.5128\n",
      "Epoch 45/100\n",
      "158/158 [==============================] - 1s 7ms/step - loss: nan - accuracy: 0.4879\n",
      "Epoch 46/100\n",
      "158/158 [==============================] - 1s 8ms/step - loss: nan - accuracy: 0.5140\n",
      "Epoch 47/100\n",
      "158/158 [==============================] - 1s 6ms/step - loss: nan - accuracy: 0.4970\n",
      "Epoch 48/100\n",
      "158/158 [==============================] - 1s 6ms/step - loss: nan - accuracy: 0.5041\n",
      "Epoch 49/100\n",
      "158/158 [==============================] - 1s 7ms/step - loss: nan - accuracy: 0.4921\n",
      "Epoch 50/100\n",
      "158/158 [==============================] - 1s 6ms/step - loss: nan - accuracy: 0.5062\n",
      "Epoch 51/100\n",
      "158/158 [==============================] - 1s 7ms/step - loss: nan - accuracy: 0.5022\n",
      "Epoch 52/100\n",
      "158/158 [==============================] - 1s 7ms/step - loss: nan - accuracy: 0.5115\n",
      "Epoch 53/100\n",
      "158/158 [==============================] - 1s 9ms/step - loss: nan - accuracy: 0.5143\n",
      "Epoch 54/100\n",
      "158/158 [==============================] - 1s 7ms/step - loss: nan - accuracy: 0.4985\n",
      "Epoch 55/100\n",
      "158/158 [==============================] - 1s 7ms/step - loss: nan - accuracy: 0.5102\n",
      "Epoch 56/100\n",
      "158/158 [==============================] - 1s 5ms/step - loss: nan - accuracy: 0.5103\n",
      "Epoch 57/100\n",
      "158/158 [==============================] - 1s 5ms/step - loss: nan - accuracy: 0.5135\n",
      "Epoch 58/100\n",
      "158/158 [==============================] - 1s 5ms/step - loss: nan - accuracy: 0.5053\n",
      "Epoch 59/100\n",
      "158/158 [==============================] - 1s 5ms/step - loss: nan - accuracy: 0.5114\n",
      "Epoch 60/100\n",
      "158/158 [==============================] - 1s 6ms/step - loss: nan - accuracy: 0.4929\n",
      "Epoch 61/100\n",
      "158/158 [==============================] - 1s 5ms/step - loss: nan - accuracy: 0.5142\n",
      "Epoch 62/100\n",
      "158/158 [==============================] - 1s 6ms/step - loss: nan - accuracy: 0.5157\n",
      "Epoch 63/100\n",
      "158/158 [==============================] - 1s 5ms/step - loss: nan - accuracy: 0.5007\n",
      "Epoch 64/100\n",
      "158/158 [==============================] - 1s 6ms/step - loss: nan - accuracy: 0.5021\n",
      "Epoch 65/100\n",
      "158/158 [==============================] - 1s 6ms/step - loss: nan - accuracy: 0.4989\n",
      "Epoch 66/100\n",
      "158/158 [==============================] - 1s 8ms/step - loss: nan - accuracy: 0.4960\n",
      "Epoch 67/100\n",
      "158/158 [==============================] - 1s 6ms/step - loss: nan - accuracy: 0.4985\n",
      "Epoch 68/100\n",
      "158/158 [==============================] - 1s 6ms/step - loss: nan - accuracy: 0.5012\n",
      "Epoch 69/100\n",
      "158/158 [==============================] - 1s 6ms/step - loss: nan - accuracy: 0.4999\n",
      "Epoch 70/100\n",
      "158/158 [==============================] - 1s 6ms/step - loss: nan - accuracy: 0.5010\n",
      "Epoch 71/100\n",
      "158/158 [==============================] - 1s 7ms/step - loss: nan - accuracy: 0.4968\n",
      "Epoch 72/100\n",
      "158/158 [==============================] - 1s 6ms/step - loss: nan - accuracy: 0.4984\n",
      "Epoch 73/100\n",
      "158/158 [==============================] - 1s 6ms/step - loss: nan - accuracy: 0.5043\n",
      "Epoch 74/100\n",
      "158/158 [==============================] - 1s 6ms/step - loss: nan - accuracy: 0.5087\n",
      "Epoch 75/100\n",
      "158/158 [==============================] - 1s 6ms/step - loss: nan - accuracy: 0.5053\n",
      "Epoch 76/100\n",
      "158/158 [==============================] - 1s 7ms/step - loss: nan - accuracy: 0.5043\n",
      "Epoch 77/100\n",
      "158/158 [==============================] - 1s 8ms/step - loss: nan - accuracy: 0.5110\n",
      "Epoch 78/100\n",
      "158/158 [==============================] - 1s 9ms/step - loss: nan - accuracy: 0.4888\n",
      "Epoch 79/100\n",
      "158/158 [==============================] - 1s 8ms/step - loss: nan - accuracy: 0.5060\n",
      "Epoch 80/100\n",
      "158/158 [==============================] - 1s 8ms/step - loss: nan - accuracy: 0.5016\n",
      "Epoch 81/100\n",
      "158/158 [==============================] - 1s 8ms/step - loss: nan - accuracy: 0.5022\n",
      "Epoch 82/100\n",
      "158/158 [==============================] - 1s 7ms/step - loss: nan - accuracy: 0.5104\n",
      "Epoch 83/100\n",
      "158/158 [==============================] - 1s 8ms/step - loss: nan - accuracy: 0.5072\n",
      "Epoch 84/100\n",
      "158/158 [==============================] - 1s 7ms/step - loss: nan - accuracy: 0.5053\n",
      "Epoch 85/100\n",
      "158/158 [==============================] - 1s 7ms/step - loss: nan - accuracy: 0.5121\n",
      "Epoch 86/100\n",
      "158/158 [==============================] - 1s 7ms/step - loss: nan - accuracy: 0.4990\n",
      "Epoch 87/100\n",
      "158/158 [==============================] - 1s 6ms/step - loss: nan - accuracy: 0.5077\n",
      "Epoch 88/100\n",
      "158/158 [==============================] - 1s 6ms/step - loss: nan - accuracy: 0.5025\n",
      "Epoch 89/100\n",
      "158/158 [==============================] - 1s 6ms/step - loss: nan - accuracy: 0.5081\n",
      "Epoch 90/100\n",
      "158/158 [==============================] - 1s 5ms/step - loss: nan - accuracy: 0.5085\n",
      "Epoch 91/100\n",
      "158/158 [==============================] - 1s 5ms/step - loss: nan - accuracy: 0.5115\n",
      "Epoch 92/100\n",
      "158/158 [==============================] - 1s 6ms/step - loss: nan - accuracy: 0.5027\n",
      "Epoch 93/100\n",
      "158/158 [==============================] - 1s 6ms/step - loss: nan - accuracy: 0.5059\n",
      "Epoch 94/100\n",
      "158/158 [==============================] - 1s 5ms/step - loss: nan - accuracy: 0.5153\n",
      "Epoch 95/100\n",
      "158/158 [==============================] - 1s 6ms/step - loss: nan - accuracy: 0.4917\n",
      "Epoch 96/100\n",
      "158/158 [==============================] - 1s 6ms/step - loss: nan - accuracy: 0.5002\n",
      "Epoch 97/100\n",
      "158/158 [==============================] - 1s 6ms/step - loss: nan - accuracy: 0.4962\n",
      "Epoch 98/100\n",
      "158/158 [==============================] - 1s 5ms/step - loss: nan - accuracy: 0.4882\n",
      "Epoch 99/100\n",
      "158/158 [==============================] - 1s 5ms/step - loss: nan - accuracy: 0.5042\n",
      "Epoch 100/100\n",
      "158/158 [==============================] - 1s 5ms/step - loss: nan - accuracy: 0.5211\n"
     ]
    },
    {
     "data": {
      "text/plain": [
       "<tensorflow.python.keras.callbacks.History at 0x7fb2507f45d0>"
      ]
     },
     "execution_count": 264,
     "metadata": {},
     "output_type": "execute_result"
    }
   ],
   "source": [
    "#Fitting the model\n",
    "classifier.fit(np.array(X_train),np.array(y_train), batch_size=32, epochs=100)"
   ]
  },
  {
   "cell_type": "code",
   "execution_count": 265,
   "id": "f7014517",
   "metadata": {
    "ExecuteTime": {
     "end_time": "2021-07-29T01:54:46.298371Z",
     "start_time": "2021-07-29T01:54:36.720000Z"
    }
   },
   "outputs": [
    {
     "name": "stdout",
     "output_type": "stream",
     "text": [
      "158/158 [==============================] - 1s 2ms/step - loss: nan - accuracy: 0.5042\n"
     ]
    },
    {
     "data": {
      "text/plain": [
       "[nan, 0.5041550993919373]"
      ]
     },
     "execution_count": 265,
     "metadata": {},
     "output_type": "execute_result"
    }
   ],
   "source": [
    "#Determining accuracy on training\n",
    "eval_model=classifier.evaluate(np.array(X_train), np.array(y_train))\n",
    "eval_model"
   ]
  }
 ],
 "metadata": {
  "kernelspec": {
   "display_name": "Python 3 (ipykernel)",
   "language": "python",
   "name": "python3"
  },
  "language_info": {
   "codemirror_mode": {
    "name": "ipython",
    "version": 3
   },
   "file_extension": ".py",
   "mimetype": "text/x-python",
   "name": "python",
   "nbconvert_exporter": "python",
   "pygments_lexer": "ipython3",
   "version": "3.9.7"
  }
 },
 "nbformat": 4,
 "nbformat_minor": 5
}
