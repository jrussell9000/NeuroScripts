{
 "cells": [
  {
   "cell_type": "code",
   "execution_count": 2,
   "id": "f79d2f6c",
   "metadata": {
    "ExecuteTime": {
     "end_time": "2021-07-28T17:06:59.121311Z",
     "start_time": "2021-07-28T17:06:58.547718Z"
    }
   },
   "outputs": [],
   "source": [
    "import csv\n",
    "import importlib\n",
    "import itertools\n",
    "import numpy as np\n",
    "import pandas as pd\n",
    "import pickle\n",
    "import os, shutil, time, h5py\n",
    "\n",
    "from bct import *\n",
    "importlib.reload(nbs)\n",
    "from IPython.display import clear_output\n",
    "from pathlib import Path\n",
    "from sklearn import preprocessing\n",
    "from scipy import stats"
   ]
  },
  {
   "cell_type": "code",
   "execution_count": 12,
   "id": "02e36d02",
   "metadata": {
    "ExecuteTime": {
     "end_time": "2021-07-28T17:20:17.408050Z",
     "start_time": "2021-07-28T17:20:17.351170Z"
    }
   },
   "outputs": [],
   "source": [
    "%%capture\n",
    "#from tqdm import tqdm_notebook as tqdm\n",
    "from tqdm.notebook import tqdm\n",
    "tqdm().pandas()"
   ]
  },
  {
   "cell_type": "code",
   "execution_count": 3,
   "id": "65da601e",
   "metadata": {
    "ExecuteTime": {
     "end_time": "2021-07-28T17:06:59.124730Z",
     "start_time": "2021-07-28T17:06:59.122591Z"
    }
   },
   "outputs": [],
   "source": [
    "# Setting Variables\n",
    "\n",
    "## CSV Matrices of Connectivitiy Values as Z-scores (via cifti-connectivity)\n",
    "pconncsv_dir = Path('/fast_scratch/jdr/ABCD/ABCD_3165_Pipe/pconns_working/pconn_csv')\n",
    "datadir = Path('/fast_scratch/jdr/ABCD/ABCD_3165_Pipe/Data/IPV_Networks')\n",
    "ROI_labels_path = Path('/fast_scratch/jdr/atlases/Schaefer400Tian4/Schaefer2018_400Parcels_7Networks_order_Tian_Subcortex_S4_label_reformatted.txt')\n",
    "allArraysPath = Path('/fast_scratch/jdr/ABCD/ABCD_3165_Pipe/Data/IPV_Networks/allArrays.pkl')"
   ]
  },
  {
   "cell_type": "code",
   "execution_count": 4,
   "id": "46103342",
   "metadata": {
    "ExecuteTime": {
     "end_time": "2021-07-28T17:07:10.785393Z",
     "start_time": "2021-07-28T17:06:59.917810Z"
    }
   },
   "outputs": [],
   "source": [
    "allArrays = None\n",
    "with open(allArraysPath, 'rb') as f:\n",
    "    allArrays = pickle.load(f)"
   ]
  },
  {
   "cell_type": "code",
   "execution_count": 254,
   "id": "a339921b",
   "metadata": {
    "ExecuteTime": {
     "end_time": "2021-07-29T01:35:52.448948Z",
     "start_time": "2021-07-29T01:35:52.348793Z"
    }
   },
   "outputs": [],
   "source": [
    "## Grab the ABCD file with the IPV exposure data and import to a table (skipping the header)\n",
    "behav_df = pd.read_table('/fast_scratch/jdr/ABCD/ABCD_3165_Pipe/Data/abcd_ptsd01.txt', header=0, skiprows=[1])\n",
    "\n",
    "## Subset to only include the baseline data\n",
    "behav_df = behav_df[behav_df[\"eventname\"] == \"baseline_year_1_arm_1\"]\n",
    "\n",
    "## Drop unnecessary variables\n",
    "behav_df = behav_df.drop(['collection_id', 'abcd_ptsd01_id', 'dataset_id', \n",
    "                      'src_subject_id', 'interview_date', 'eventname', 'collection_title'], axis=1)\n",
    "\n",
    "## Reformat the 'subjectkey' variable to match the format in the CSV files\n",
    "behav_df['subjectkey'] = 'sub-' + behav_df['subjectkey'].str.replace('_', '')\n",
    "\n",
    "## In case they exist, drop the variables we're about to calculate\n",
    "behav_df = behav_df.drop(['ExposureTotal', 'IPVTotal', 'ExposureAny', 'IPVAny'], axis=1, errors='ignore')\n",
    "\n",
    "## Compute total overall exposure (all items) and total IPV exposure (IPV items only)\n",
    "behav_df['ExposureTotal'] = behav_df.iloc[:, 3:19].sum(axis=1)\n",
    "behav_df['IPVTotal'] = behav_df.iloc[:, 7:18].sum(axis=1)\n",
    "\n",
    "## Binarize total and IPV exposure items \n",
    "behav_df['ExposureAny'] = np.where(behav_df['ExposureTotal'] == 0, 0, 1)\n",
    "behav_df['IPVAny'] = np.where(behav_df['IPVTotal'] == 0, 0, 1)\n",
    "\n",
    "## Dummy code sex variable to Sex01\n",
    "behav_df['Sex01'] = np.where(behav_df['sex'] == 'M', 1, 0) # Must use numeric data as input (not M, F)"
   ]
  },
  {
   "cell_type": "code",
   "execution_count": 152,
   "id": "6737f9b9",
   "metadata": {
    "ExecuteTime": {
     "end_time": "2021-07-28T19:45:22.390264Z",
     "start_time": "2021-07-28T19:44:57.552406Z"
    }
   },
   "outputs": [
    {
     "data": {
      "application/vnd.jupyter.widget-view+json": {
       "model_id": "0c35807dd7254e0fa3acba8e3f0ac363",
       "version_major": 2,
       "version_minor": 0
      },
      "text/plain": [
       "  0%|          | 0/7220 [00:00<?, ?it/s]"
      ]
     },
     "metadata": {},
     "output_type": "display_data"
    }
   ],
   "source": [
    "fcArrays_list = []\n",
    "subjkey_list = []\n",
    "\n",
    "for i in tqdm(list(range(len(allArrays)))):\n",
    "    fcMatrix = allArrays[i][1].to_numpy()\n",
    "    fcArray = fcMatrix[np.tril_indices(fcMatrix.shape[0], -1)]\n",
    "    fcArrays_list.append(fcArray)\n",
    "    \n",
    "    subjkey = allArrays[i][0]\n",
    "    subjkey_list.append(subjkey)\n",
    "    \n",
    "fcArrays = np.vstack(fcArrays_list)\n",
    "subjkeys = np.vstack(subjkey_list)"
   ]
  },
  {
   "cell_type": "code",
   "execution_count": null,
   "id": "c9d0c8bb",
   "metadata": {
    "ExecuteTime": {
     "end_time": "2021-07-29T01:32:31.914482Z",
     "start_time": "2021-07-29T01:32:27.755226Z"
    }
   },
   "outputs": [],
   "source": [
    "fcArrays_df = pd.DataFrame(fcArrays)\n",
    "subjkeys_df = pd.DataFrame(subjkeys)\n",
    "fc_df = pd.concat([subjkeys_df, fcArrays_df], axis=1, ignore_index=True)\n",
    "fc_df=df.rename(columns = {0:'subjectkey'})\n",
    "\n",
    "behav_df = behav_df.drop(behav_df.iloc[:,2:len(behav_df.columns)-1], axis = 1)\n",
    "behav_df = behav_df.drop(behav_df.columns[[1]], axis=1)\n",
    "comb_df = fc_df.merge(behav_df, on=\"subjectkey\", how=\"left\")\n",
    "\n",
    "fcFeatures = comb_df.drop(comb_df.columns[[0,len(df.columns)]], axis=1)\n",
    "sexLabels = comb_df.Sex01"
   ]
  },
  {
   "cell_type": "code",
   "execution_count": null,
   "id": "1b29c456",
   "metadata": {},
   "outputs": [],
   "source": [
    "#Splitting data into training and testing\n",
    "\n",
    "from sklearn.model_selection import train_test_split\n",
    "X_train, X_test, y_train, y_test = train_test_split(connectivity_biomarkers['correlation'], labels, test_size=0.3)"
   ]
  }
 ],
 "metadata": {
  "kernelspec": {
   "display_name": "Python 3",
   "language": "python",
   "name": "python3"
  },
  "language_info": {
   "codemirror_mode": {
    "name": "ipython",
    "version": 3
   },
   "file_extension": ".py",
   "mimetype": "text/x-python",
   "name": "python",
   "nbconvert_exporter": "python",
   "pygments_lexer": "ipython3",
   "version": "3.7.10"
  }
 },
 "nbformat": 4,
 "nbformat_minor": 5
}
