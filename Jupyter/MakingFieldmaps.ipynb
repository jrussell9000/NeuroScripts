{
 "cells": [
  {
   "cell_type": "code",
   "execution_count": 15,
   "metadata": {
    "ExecuteTime": {
     "end_time": "2019-11-01T02:23:40.692968Z",
     "start_time": "2019-11-01T02:21:50.414665Z"
    }
   },
   "outputs": [
    {
     "name": "stdout",
     "output_type": "stream",
     "text": [
      "/scratch/jdrussell3/104/s11_fmap/__Fieldmap_(DTI)_20140507172900_11_e1a.nii\n",
      "/scratch/jdrussell3/104/s11_fmap/__Fieldmap_(DTI)_20140507172900_11_e1.nii\n",
      "test\n",
      "test2\n"
     ]
    }
   ],
   "source": [
    "from pathlib import Path\n",
    "import subprocess\n",
    "import os\n",
    "\n",
    "fmap_dir=Path(\"/scratch/jdrussell3/104/s11_fmap/\")\n",
    "os.chdir(fmap_dir)\n",
    "fmaptype = \"DTI\"\n",
    "\n",
    "def getrawfiles():\n",
    "    gen = (rawfmapfile for rawfmapfile in fmap_dir.glob('*.nii') if rawfmapfile.name.__contains__(fmaptype))\n",
    "    for rawfmapfile in gen:\n",
    "        print(rawfmapfile)\n",
    "        if str(rawfmapfile).__contains__('_e1a.'):\n",
    "            rawfmapfile_2 = str(rawfmapfile)\n",
    "        elif str(rawfmapfile).__contains__('_e1.'):\n",
    "            rawfmapfile_1 = str(rawfmapfile)\n",
    "        else:\n",
    "            next    \n",
    "    try:\n",
    "        rawfmapfile_2\n",
    "        rawfmapfile_1\n",
    "    except AttributeError:\n",
    "        quit\n",
    "\n",
    "    # if rawfmapfile_2 is None or rawfmapfile_1 is None:\n",
    "    #     print(\"No fieldmap files found...\")\n",
    "    #     return None\n",
    "\n",
    "\n",
    "    real1 = str(rawfmapfile_1 + '[2]')\n",
    "    real2 = str(rawfmapfile_2 + '[2]')\n",
    "    imag1 = str(rawfmapfile_1 + '[3]')\n",
    "    imag2 = str(rawfmapfile_2 + '[3]')     \n",
    "    subprocess.call([\"3dcalc\", \"-float\", \"-a\", real1, \"-b\", imag1, \"-c\", real2, \"-d\", imag2, \"-expr\", \n",
    "    \"(atan2((b*c-d*a),(a*c+b*d)))\", \"-prefix\", \"tmp.wrappedphasediff.nii.gz\"])\n",
    "\n",
    "    subprocess.call([\"3dcalc\", \"-a\", str(rawfmapfile_1 + '[0]'), \"-expr\", \"a\", \"-prefix\", \"magnitude1.nii.gz\"])\n",
    "\n",
    "    subprocess.call([\"bet2\", \"magnitude1.nii.gz\", \"magnitude1_brain.nii.gz\"])\n",
    "\n",
    "    subprocess.call([\"fslmaths\", \"magnitude1_brain.nii.gz\", \"-ero\", \"magnitude1_brain_ero.nii.gz\"])\n",
    "\n",
    "    subprocess.call([\"3dresample\", \"-master\", \"tmp.wrappedphasediff.nii.gz\", \"-prefix\", \"magnitude1_brain_ero_reg.nii.gz\", \"-input\", \"magnitude1_brain_ero.nii.gz\"])\n",
    "    print(\"test\")\n",
    "    subprocess.call([\"prelude\", \"-v\", \"-p\", \"tmp.wrappedphasediff.nii.gz\", \"-a\", \"magnitude1_brain_ero.nii.gz\", \"-o\", \"tmp.phasediff.rads.nii.gz\", \n",
    "    \"-m\", \"magnitude1_brain_ero_reg.nii.gz\"])\n",
    "    print(\"test2\")\n",
    "    subprocess.call([\"3dresample\", \"-input\", \"tmp.phasediff.rads.nii.gz\", \"-prefix\", \"DTI_RealFieldmap_rads.nii.gz\", \"-orient\", \"LPI\"])\n",
    "\n",
    "\n",
    "    subprocess.call([\"3dcalc\", \"-a\", \"DTI_RealFieldmap_rads.nii.gz\", \"-expr\", \"a*0.1592\", \"-prefix\", \"DTI_RealFieldmap_Hz.nii.gz\"])\n",
    "    \n",
    "getrawfiles()"
   ]
  },
  {
   "cell_type": "code",
   "execution_count": null,
   "metadata": {},
   "outputs": [],
   "source": []
  }
 ],
 "metadata": {
  "kernelspec": {
   "display_name": "Python 3",
   "language": "python",
   "name": "python3"
  },
  "language_info": {
   "codemirror_mode": {
    "name": "ipython",
    "version": 3
   },
   "file_extension": ".py",
   "mimetype": "text/x-python",
   "name": "python",
   "nbconvert_exporter": "python",
   "pygments_lexer": "ipython3",
   "version": "3.7.11"
  },
  "varInspector": {
   "cols": {
    "lenName": 16,
    "lenType": 16,
    "lenVar": 40
   },
   "kernels_config": {
    "python": {
     "delete_cmd_postfix": "",
     "delete_cmd_prefix": "del ",
     "library": "var_list.py",
     "varRefreshCmd": "print(var_dic_list())"
    },
    "r": {
     "delete_cmd_postfix": ") ",
     "delete_cmd_prefix": "rm(",
     "library": "var_list.r",
     "varRefreshCmd": "cat(var_dic_list()) "
    }
   },
   "position": {
    "height": "287.85px",
    "left": "1550px",
    "right": "20px",
    "top": "120px",
    "width": "350px"
   },
   "types_to_exclude": [
    "module",
    "function",
    "builtin_function_or_method",
    "instance",
    "_Feature"
   ],
   "window_display": true
  }
 },
 "nbformat": 4,
 "nbformat_minor": 2
}
