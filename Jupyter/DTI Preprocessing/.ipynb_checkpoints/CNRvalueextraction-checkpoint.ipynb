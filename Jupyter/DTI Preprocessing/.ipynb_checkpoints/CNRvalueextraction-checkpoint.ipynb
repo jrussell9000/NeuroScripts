{
 "cells": [
  {
   "cell_type": "code",
   "execution_count": 58,
   "metadata": {
    "ExecuteTime": {
     "end_time": "2020-01-23T21:46:20.138968Z",
     "start_time": "2020-01-23T21:46:19.801257Z"
    }
   },
   "outputs": [],
   "source": [
    "import pandas as pd\n",
    "import json\n",
    "import os\n",
    "import numpy as np\n",
    "from pathlib import Path\n",
    "from scipy import stats\n",
    "\n",
    "# Reading the json as a dict\n",
    "with open('/Users/jdrussell3/youthptsd/BIDS_Processed/squad/group_db.json') as json_data:\n",
    "    data = json.load(json_data)\n",
    "\n",
    "# using the from_dict load function. Note that the 'orient' parameter \n",
    "#is not using the default value (or it will give the same error than you had)\n",
    "# We transpose the resulting df and set index column as its index to get this result\n",
    "\n"
   ]
  },
  {
   "cell_type": "code",
   "execution_count": 37,
   "metadata": {
    "ExecuteTime": {
     "end_time": "2020-01-23T21:33:59.701492Z",
     "start_time": "2020-01-23T21:33:59.696493Z"
    }
   },
   "outputs": [
    {
     "data": {
      "text/plain": [
       "array([60.40999985, 68.69000244, 53.72999954, 68.69000244, 71.44999695,\n",
       "       67.12999725, 66.12000275, 70.66000366, 55.74000168, 51.95000076,\n",
       "       59.97999954, 47.79999924, 56.84000015, 55.83000183, 60.29000092,\n",
       "       57.        , 71.69999695, 35.65000153, 37.45000076, 45.84999847,\n",
       "       61.45000076, 26.30999947, 70.36000061, 61.65000153, 66.80000305,\n",
       "       67.86000061, 66.83999634, 64.69999695, 47.83000183, 55.13000107,\n",
       "       46.25999832, 57.45999908, 59.86999893, 54.93999863, 60.43999863,\n",
       "       65.13999939, 66.41000366, 58.97000122, 63.29999924, 62.99000168,\n",
       "       61.36000061, 66.65000153, 65.18000031, 34.52000046, 73.56999969,\n",
       "       74.94999695, 72.19000244, 63.25999832, 71.66000366, 70.43000031,\n",
       "       68.41999817, 67.29000092, 58.09000015, 71.54000092, 55.47999954,\n",
       "       64.88999939, 61.34999847, 53.34000015, 59.18000031, 69.87000275,\n",
       "       73.91999817, 64.23000336, 71.26000214, 38.40999985, 63.59999847,\n",
       "       69.02999878, 56.95000076, 63.04999924, 60.75      , 58.56999969,\n",
       "       65.76999664, 54.09000015, 66.75      , 52.61999893, 60.79000092,\n",
       "       62.90999985, 61.20999908, 58.77999878, 71.80000305, 72.66000366,\n",
       "       70.97000122, 71.98999786, 48.43000031, 64.73999786, 70.91999817,\n",
       "       71.20999908, 62.86999893, 70.18000031, 65.41000366, 68.93000031,\n",
       "       64.70999908, 70.63999939, 66.73000336, 70.72000122, 63.04000092,\n",
       "       70.27999878, 63.        , 70.22000122, 51.09999847, 56.02999878,\n",
       "       66.38999939, 65.12000275, 64.08999634, 70.95999908, 69.13999939,\n",
       "       65.33999634, 63.41999817, 64.97000122, 61.15999985, 56.75      ,\n",
       "       68.58000183, 64.98000336, 67.18000031, 45.95000076, 61.40000153,\n",
       "       62.63999939, 61.40999985, 72.73000336, 61.04999924, 62.52000046,\n",
       "       61.27000046, 52.58000183, 55.63000107, 63.45999908, 60.36000061,\n",
       "       63.70000076, 69.77999878, 71.54000092, 60.29999924, 70.58999634,\n",
       "       63.56999969, 71.16000366, 69.34999847, 58.77999878, 66.83000183,\n",
       "       55.18999863, 68.69000244, 64.01999664, 60.36000061, 58.41999817,\n",
       "       62.04000092, 68.18000031, 69.33000183, 60.22999954, 58.56000137,\n",
       "       64.81999969, 73.94000244, 70.75      , 75.05000305])"
      ]
     },
     "execution_count": 37,
     "metadata": {},
     "output_type": "execute_result"
    }
   ],
   "source": [
    "snrcnr = np.asarray(data['qc_cnr'])\n",
    "cnr = snrcnr[:,0]"
   ]
  },
  {
   "cell_type": "code",
   "execution_count": 56,
   "metadata": {
    "ExecuteTime": {
     "end_time": "2020-01-23T21:43:00.111669Z",
     "start_time": "2020-01-23T21:43:00.090827Z"
    }
   },
   "outputs": [
    {
     "name": "stdout",
     "output_type": "stream",
     "text": [
      "Lowest CNR value is: 26.309999465942383, in directory: /Volumes/Vol6/YouthPTSD/BIDS_Processed/sub-025/ses-01\n"
     ]
    }
   ],
   "source": [
    "cnr_min = np.amin(cnr) # Lowest CNR value\n",
    "cnr_min_index = np.where(cnr == np.amin(cnr_min)) # Index of the lowest CNR value\n",
    "bidsproc_dir = Path('/Volumes/Vol6/YouthPTSD/BIDS_Processed/')\n",
    "ses_dirs_str = (str(ses_dir) for ses_dir in sorted(bidsproc_dir.glob('*/ses-*')) if Path(ses_dir / 'dwi' / 'preprocessed').exists())\n",
    "ses_list = list(ses_dirs_str)\n",
    "int(cnr_min_index[0])\n",
    "min_subjses = ses_list[int(cnr_min_index[0])]\n",
    "print(\"Lowest CNR value is: \" + str(cnr_min) + \", in directory: \" + str(min_subjses))"
   ]
  },
  {
   "cell_type": "code",
   "execution_count": 76,
   "metadata": {
    "ExecuteTime": {
     "end_time": "2020-01-23T21:54:30.726203Z",
     "start_time": "2020-01-23T21:54:30.722683Z"
    }
   },
   "outputs": [
    {
     "data": {
      "text/plain": [
       "'/Volumes/Vol6/YouthPTSD/BIDS_Processed/sub-056/ses-02'"
      ]
     },
     "execution_count": 76,
     "metadata": {},
     "output_type": "execute_result"
    }
   ],
   "source": [
    "cnr_sort = np.sort(cnr)\n",
    "cnr_z = stats.zscore(cnr_sort)\n",
    "cnr_z\n"
   ]
  },
  {
   "cell_type": "code",
   "execution_count": 74,
   "metadata": {
    "ExecuteTime": {
     "end_time": "2020-01-23T21:53:05.221201Z",
     "start_time": "2020-01-23T21:53:05.215258Z"
    }
   },
   "outputs": [
    {
     "data": {
      "text/plain": [
       "array([21, 43])"
      ]
     },
     "execution_count": 74,
     "metadata": {},
     "output_type": "execute_result"
    }
   ],
   "source": [
    "cnr_lt35 = np.where(cnr < 35)\n",
    "#s1 = ses_list[int(cnr_lt35[0])]\n",
    "cnr_lt35[0]\n",
    "\n",
    "#Lowest two SNR values are in sub-025_ses-01 and sub-056_ses-02"
   ]
  }
 ],
 "metadata": {
  "kernelspec": {
   "display_name": "Python 3",
   "language": "python",
   "name": "python3"
  },
  "language_info": {
   "codemirror_mode": {
    "name": "ipython",
    "version": 3
   },
   "file_extension": ".py",
   "mimetype": "text/x-python",
   "name": "python",
   "nbconvert_exporter": "python",
   "pygments_lexer": "ipython3",
   "version": "3.7.5"
  },
  "varInspector": {
   "cols": {
    "lenName": 16,
    "lenType": 16,
    "lenVar": 40
   },
   "kernels_config": {
    "python": {
     "delete_cmd_postfix": "",
     "delete_cmd_prefix": "del ",
     "library": "var_list.py",
     "varRefreshCmd": "print(var_dic_list())"
    },
    "r": {
     "delete_cmd_postfix": ") ",
     "delete_cmd_prefix": "rm(",
     "library": "var_list.r",
     "varRefreshCmd": "cat(var_dic_list()) "
    }
   },
   "types_to_exclude": [
    "module",
    "function",
    "builtin_function_or_method",
    "instance",
    "_Feature"
   ],
   "window_display": false
  }
 },
 "nbformat": 4,
 "nbformat_minor": 2
}
