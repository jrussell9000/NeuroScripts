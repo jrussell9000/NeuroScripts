{
 "cells": [
  {
   "cell_type": "code",
   "execution_count": 2,
   "metadata": {},
   "outputs": [],
   "source": [
    "import numpy as np\n",
    "import nibabel as nib\n",
    "from dipy.align.imwarp import SymmetricDiffeomorphicRegistration\n",
    "from dipy.align.imwarp import DiffeomorphicMap\n",
    "from dipy.align.metrics import CCMetric\n",
    "import os.path\n",
    "from dipy.viz import regtools"
   ]
  },
  {
   "cell_type": "code",
   "execution_count": 3,
   "metadata": {},
   "outputs": [
    {
     "name": "stdout",
     "output_type": "stream",
     "text": [
      "Creating new folder /Users/jdrussell3/.dipy/stanford_hardi\n",
      "Downloading \"HARDI150.nii.gz\" to /Users/jdrussell3/.dipy/stanford_hardi\n",
      "Download Progress: [########################################] 100.00%  of 87.15 MBDownloading \"HARDI150.bval\" to /Users/jdrussell3/.dipy/stanford_hardi\n",
      "Download Progress: [########################################] 100.00%  of 0.00 MBDownloading \"HARDI150.bvec\" to /Users/jdrussell3/.dipy/stanford_hardi\n",
      "Download Progress: [########################################] 100.00%  of 0.00 MBFiles successfully downloaded to /Users/jdrussell3/.dipy/stanford_hardi\n",
      "Dataset is already in place. If you want to fetch it again please first remove the folder /Users/jdrussell3/.dipy/stanford_hardi \n"
     ]
    }
   ],
   "source": [
    "from dipy.data import fetch_stanford_hardi, read_stanford_hardi\n",
    "fetch_stanford_hardi()\n",
    "nib_stanford, gtab_stanford = read_stanford_hardi()\n",
    "stanford_b0 = np.squeeze(nib_stanford.get_data())[...,0]"
   ]
  },
  {
   "cell_type": "code",
   "execution_count": 4,
   "metadata": {},
   "outputs": [
    {
     "name": "stdout",
     "output_type": "stream",
     "text": [
      "Creating new folder /Users/jdrussell3/.dipy/syn_test\n",
      "Data size is approximately 12MB\n",
      "Downloading \"t1.nii.gz\" to /Users/jdrussell3/.dipy/syn_test\n",
      "Download Progress: [########################################] 100.00%  of 10.25 MBDownloading \"b0.nii.gz\" to /Users/jdrussell3/.dipy/syn_test\n",
      "Download Progress: [########################################] 100.00%  of 1.34 MBFiles successfully downloaded to /Users/jdrussell3/.dipy/syn_test\n",
      "Data size is approximately 12MB\n",
      "Dataset is already in place. If you want to fetch it again please first remove the folder /Users/jdrussell3/.dipy/syn_test \n"
     ]
    }
   ],
   "source": [
    "from dipy.data.fetcher import fetch_syn_data, read_syn_data\n",
    "fetch_syn_data()\n",
    "nib_syn_t1, nib_syn_b0 = read_syn_data()\n",
    "syn_b0 = np.array(nib_syn_b0.get_data())"
   ]
  },
  {
   "cell_type": "code",
   "execution_count": null,
   "metadata": {},
   "outputs": [],
   "source": [
    "from dipy.segment.mask import median_otsu\n",
    "stanford_b0_masked, stanford_b0_mask = median_otsu(stanford_b0, median_radius=4, numpass=4)\n",
    "syn_b0_masked, syn_b0_mask = median_otsu(syn_b0, median_radius=4, numpass=4)\n",
    "static = stanford_b0_masked"
   ]
  }
 ],
 "metadata": {
  "kernelspec": {
   "display_name": "Python 3",
   "language": "python",
   "name": "python3"
  },
  "language_info": {
   "codemirror_mode": {
    "name": "ipython",
    "version": 3
   },
   "file_extension": ".py",
   "mimetype": "text/x-python",
   "name": "python",
   "nbconvert_exporter": "python",
   "pygments_lexer": "ipython3",
   "version": "3.7.4"
  }
 },
 "nbformat": 4,
 "nbformat_minor": 2
}
