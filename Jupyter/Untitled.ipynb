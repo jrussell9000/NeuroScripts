{
 "cells": [
  {
   "cell_type": "code",
   "execution_count": 3,
   "id": "4d66f427",
   "metadata": {
    "ExecuteTime": {
     "end_time": "2021-08-17T15:56:46.215474Z",
     "start_time": "2021-08-17T15:56:46.212836Z"
    }
   },
   "outputs": [
    {
     "name": "stdout",
     "output_type": "stream",
     "text": [
      "True\n"
     ]
    }
   ],
   "source": [
    "import torch\n",
    "use_cuda = torch.cuda.is_available()\n",
    "print(use_cuda)"
   ]
  },
  {
   "cell_type": "code",
   "execution_count": 4,
   "id": "504647fd",
   "metadata": {
    "ExecuteTime": {
     "end_time": "2021-08-17T15:56:59.216917Z",
     "start_time": "2021-08-17T15:56:59.213724Z"
    }
   },
   "outputs": [
    {
     "data": {
      "text/plain": [
       "'Tesla V100-PCIE-32GB'"
      ]
     },
     "execution_count": 4,
     "metadata": {},
     "output_type": "execute_result"
    }
   ],
   "source": [
    "torch.cuda.get_device_name(0)"
   ]
  }
 ],
 "metadata": {
  "kernelspec": {
   "display_name": "Python 3 (ipykernel)",
   "language": "python",
   "name": "python3"
  },
  "language_info": {
   "codemirror_mode": {
    "name": "ipython",
    "version": 3
   },
   "file_extension": ".py",
   "mimetype": "text/x-python",
   "name": "python",
   "nbconvert_exporter": "python",
   "pygments_lexer": "ipython3",
   "version": "3.9.7"
  }
 },
 "nbformat": 4,
 "nbformat_minor": 5
}
