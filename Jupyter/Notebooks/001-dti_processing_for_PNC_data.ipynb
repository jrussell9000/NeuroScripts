<h1 id="section">2019-01-15 12:12:36</h1>
<p>I’m following the directions from https://fsl.fmrib.ox.ac.uk/fslcourse/lectures/practicals/fdt1/index.html to run the DTI pipeline on the PNC data we just downloaded.</p>
<p>It doesn’t seem like FSL can deal with DICOMs, so the first step is to convert them to NIFTI. I used Paul’s tool to do it, and based on his e-mail I just need:</p>
<div class="sourceCode" id="cb1"><pre class="sourceCode bash"><code class="sourceCode bash"><a class="sourceLine" id="cb1-1" data-line-number="1"><span class="ex">fat_proc_convert_dcm_dwis</span>  \</a>
<a class="sourceLine" id="cb1-2" data-line-number="2">        -indir  <span class="st">&quot;DTI_35dir/* DTI_36dir/*&quot;</span>                 \</a>
<a class="sourceLine" id="cb1-3" data-line-number="3">        -prefix  OFILE</a></code></pre></div>
<p>For each subject. That generates 71 bvals, 71 vecs, and a .nii.gz with 71 bricks (each 128 x 128 x 70). Now, we can go on with either the FATCAT or the FSL pipeline, knowing that there is no need for DRBUDDI.</p>
<h1 id="section-1">2019-01-18 10:44:08</h1>
<p>Following Paul’s recommendations by e-mail, let’s run one subject all the way. And by that, I mean including TORTOISE, but assuming that no volumes are bad so I don’t have to do the visual QC.</p>
<div class="sourceCode" id="cb2"><pre class="sourceCode bash"><code class="sourceCode bash"><a class="sourceLine" id="cb2-1" data-line-number="1"><span class="bu">cd</span> /data/NCR_SBRB/pnc/dti</a>
<a class="sourceLine" id="cb2-2" data-line-number="2"><span class="fu">tar</span> -zxvf ../600009963128_1.tar.gz</a>
<a class="sourceLine" id="cb2-3" data-line-number="3"><span class="ex">module</span> load afni</a>
<a class="sourceLine" id="cb2-4" data-line-number="4"><span class="ex">Dimon</span> -infile_prefix <span class="st">&quot;600009963128/T1_3DAXIAL/Dicoms/*.dcm&quot;</span> -gert_to3d_prefix 600009963128_t1.nii.gz -gert_create_dataset</a>
<a class="sourceLine" id="cb2-5" data-line-number="5"><span class="ex">fat_proc_convert_dcm_dwis</span> -indir  <span class="st">&quot;600009963128/DTI_35dir/* 600009963128/DTI_36dir/*&quot;</span> -prefix 600009963128_dwi</a>
<a class="sourceLine" id="cb2-6" data-line-number="6"><span class="fu">rm</span> -rf 600009963128</a>
<a class="sourceLine" id="cb2-7" data-line-number="7"><span class="ex">@SSwarper</span> -input 600009963128_t1.nii.gz -base TT_N27_SSW.nii.gz -subid 600009963128</a>
<a class="sourceLine" id="cb2-8" data-line-number="8"><span class="ex">fat_proc_imit2w_from_t1w</span> -inset 600009963128_t1_ax.nii.gz -prefix 600009963128_t2_ax_immi -mask anatSS.600009963128.nii</a>
<a class="sourceLine" id="cb2-9" data-line-number="9"><span class="co"># I got the phase information after using ImportDICOM tool from TORTOISE and checking the .list file</span></a>
<a class="sourceLine" id="cb2-10" data-line-number="10"><span class="ex">DIFFPREP</span> --dwi 600009963128_dwi.nii --bvecs 600009963128_dwi_rvec.dat --bvals 600009963128_dwi_bval.dat --structural 600009963128_t2_ax_immi.nii --phase vertical</a>
<a class="sourceLine" id="cb2-11" data-line-number="11"><span class="ex">@GradFlipTest</span> -in_dwi 600009963128_dwi_DMC.nii -in_col_matT 600009963128_dwi_DMC.bmtxt -prefix 600009963128_GradFlipTest_rec.txt</a>
<a class="sourceLine" id="cb2-12" data-line-number="12"><span class="va">my_flip=</span><span class="kw">`</span><span class="fu">cat</span> 600009963128_GradFlipTest_rec.txt<span class="kw">`</span>;</a>
<a class="sourceLine" id="cb2-13" data-line-number="13"><span class="ex">fat_proc_dwi_to_dt</span> \</a>
<a class="sourceLine" id="cb2-14" data-line-number="14">    -in_dwi       600009963128_dwi_DMC.nii                    \</a>
<a class="sourceLine" id="cb2-15" data-line-number="15">    -in_col_matT  600009963128_dwi_DMC.bmtxt                  \</a>
<a class="sourceLine" id="cb2-16" data-line-number="16">    -in_struc_res 600009963128_dwi_DMC_structural.nii               \</a>
<a class="sourceLine" id="cb2-17" data-line-number="17">    -in_ref_orig  600009963128_dwi_DMC_template.nii          \</a>
<a class="sourceLine" id="cb2-18" data-line-number="18">    -prefix       600009963128_dwi                           \</a>
<a class="sourceLine" id="cb2-19" data-line-number="19">    -mask_from_struc                                   \</a>
<a class="sourceLine" id="cb2-20" data-line-number="20">    <span class="va">$my_flip</span></a>
<a class="sourceLine" id="cb2-21" data-line-number="21"><span class="ex">fat_proc_decmap</span>                                     \</a>
<a class="sourceLine" id="cb2-22" data-line-number="22">    -in_fa       dt_FA.nii.gz     \</a>
<a class="sourceLine" id="cb2-23" data-line-number="23">    -in_v1       dt_V1.nii.gz     \</a>
<a class="sourceLine" id="cb2-24" data-line-number="24">    -mask        600009963128_dwi_mask.nii.gz  \</a>
<a class="sourceLine" id="cb2-25" data-line-number="25">    -prefix      DEC</a></code></pre></div>
<p>Note that we’ll need to stop in the middle to allow for the IRTAs to do the visual QC. So, let’s create a wrapper script that does some of the steps above:</p>
<div class="sourceCode" id="cb3"><pre class="sourceCode bash"><code class="sourceCode bash"><a class="sourceLine" id="cb3-1" data-line-number="1"><span class="bu">cd</span> /data/NCR_SBRB/pnc</a>
<a class="sourceLine" id="cb3-2" data-line-number="2"><span class="kw">for</span> <span class="ex">m</span> in <span class="kw">`</span><span class="fu">cat</span> have_imaging.txt<span class="kw">`;</span> <span class="kw">do</span></a>
<a class="sourceLine" id="cb3-3" data-line-number="3">    <span class="bu">echo</span> <span class="st">&quot;bash ~/research_code/dti/tortoise_pnc_wrapper.sh </span><span class="va">${m}</span><span class="st">&quot;</span> <span class="op">&gt;&gt;</span> swarm.tortoise<span class="kw">;</span></a>
<a class="sourceLine" id="cb3-4" data-line-number="4"><span class="kw">done</span>;</a>
<a class="sourceLine" id="cb3-5" data-line-number="5"><span class="ex">swarm</span> -g 10 -t 16 --job-name tortoise --time 4:00:00 -f swarm.tortoise \</a>
<a class="sourceLine" id="cb3-6" data-line-number="6">    -m afni,TORTOISE --partition quick --logdir trash</a></code></pre></div>
<h1 id="section-2">2019-01-29 10:38:23</h1>
<p>I was chatting with Ryan, and apparently their approach for GenR is to process all volumes all the time. Then, use quantitative variables to figure out which subjects to remove. We can try that approach here, especially considering that we will likely run DTIPrep to get some additional QC metrics, and we rarely ever use the subjects when we remove more than a couple volumes anyways.</p>
<p>So, let’s run the first 100 subjects in the new TORTOISE pipeline, then we can do the same for the FSL pipeline once I have that working.</p>
<div class="sourceCode" id="cb4"><pre class="sourceCode bash"><code class="sourceCode bash"><a class="sourceLine" id="cb4-1" data-line-number="1"><span class="bu">cd</span> /data/NCR_SBRB/pnc</a>
<a class="sourceLine" id="cb4-2" data-line-number="2"><span class="kw">for</span> <span class="ex">m</span> in <span class="kw">`</span><span class="fu">cat</span> first100.txt<span class="kw">`;</span> <span class="kw">do</span></a>
<a class="sourceLine" id="cb4-3" data-line-number="3">    <span class="bu">echo</span> <span class="st">&quot;bash ~/research_code/dti/tortoise_pnc_wrapper.sh </span><span class="va">${m}</span><span class="st">&quot;</span> <span class="op">&gt;&gt;</span> swarm.tortoise<span class="kw">;</span></a>
<a class="sourceLine" id="cb4-4" data-line-number="4"><span class="kw">done</span>;</a>
<a class="sourceLine" id="cb4-5" data-line-number="5"><span class="ex">swarm</span> -g 10 -t 16 --job-name tortoise --time 4:00:00 -f swarm.tortoise \</a>
<a class="sourceLine" id="cb4-6" data-line-number="6">    -m afni,TORTOISE --partition quick --logdir trash</a></code></pre></div>
<p>For the FSL pipeline, we can do something like this:</p>
<div class="sourceCode" id="cb5"><pre class="sourceCode bash"><code class="sourceCode bash"><a class="sourceLine" id="cb5-1" data-line-number="1"><span class="ex">fslroi</span> dwi b0 0 1</a>
<a class="sourceLine" id="cb5-2" data-line-number="2"><span class="ex">bet</span> b0 b0_brain -m -f 0.2</a>
<a class="sourceLine" id="cb5-3" data-line-number="3"><span class="va">idx=</span><span class="st">&#39;&#39;</span>; <span class="kw">for</span> <span class="ex">i</span> in <span class="dt">{1..71}</span><span class="kw">;</span> <span class="kw">do</span> <span class="va">a=$a</span><span class="st">&#39; &#39;</span>1; <span class="kw">done</span>; <span class="bu">echo</span> <span class="va">$a</span> <span class="op">&gt;</span> index.txt</a>
<a class="sourceLine" id="cb5-4" data-line-number="4"><span class="bu">echo</span> <span class="st">&quot;0 -1 0 0.102&quot;</span> <span class="op">&gt;</span> acqparams.txt</a>
<a class="sourceLine" id="cb5-5" data-line-number="5"><span class="ex">eddy_openmp</span> --imain=dwi --mask=b0_brain_mask --index=index.txt --acqp=acqparams.txt --bvecs=dwi_cvec.dat --bvals=dwi_bval.dat --fwhm=0 --flm=quadratic --out=eddy_unwarped_images --cnr_maps --repol --mporder=6</a>
<a class="sourceLine" id="cb5-6" data-line-number="6"></a>
<a class="sourceLine" id="cb5-7" data-line-number="7"><span class="co"># OR</span></a>
<a class="sourceLine" id="cb5-8" data-line-number="8"></a>
<a class="sourceLine" id="cb5-9" data-line-number="9"><span class="ex">sinteractive</span> --gres=gpu:k20x:1</a>
<a class="sourceLine" id="cb5-10" data-line-number="10"><span class="ex">module</span> load CUDA/7.5</a>
<a class="sourceLine" id="cb5-11" data-line-number="11"><span class="ex">eddy_cuda</span> --imain=dwi --acqp=acqparams.txt --index=index.txt --mask=b0_brain_mask --bvals=dwi_bval.dat --bvecs=dwi_cvec.dat --out=eddy_s2v_unwarped_images --niter=8 --fwhm=10,6,4,2,0,0,0,0 --repol --ol_type=both --mporder=8 --s2v_niter=8 --slspec=my_slspec.txt --cnr_maps</a>
<a class="sourceLine" id="cb5-12" data-line-number="12"></a>
<a class="sourceLine" id="cb5-13" data-line-number="13"><span class="ex">dtifit</span> --data=eddy_s2v_unwarped_images --mask=b0_brain_mask --bvals=dwi_bval.dat --bvecs=dwi_cvec.dat --sse --out=dti</a></code></pre></div>
<p>I got the parameters for acquisition from running dcm2niix_afni on both DTI sequences (35 and 35), and then looking for Phase, PE, and Echo in the jsons. In the end, they matched the example in https://fsl.fmrib.ox.ac.uk/fsl/fslwiki/eddy/Faq#How_do_I_know_what_to_put_into_my_–acqp_file.</p>
<p>I also used the json to construct the myslspec.txt file, using the Matlab code from https://fsl.fmrib.ox.ac.uk/fsl/fslwiki/eddy/Faq#How_should_my_–slspec_file_look.3F</p>
<p>So, I put all of that in a script, which I ran like this:</p>
<div class="sourceCode" id="cb6"><pre class="sourceCode bash"><code class="sourceCode bash"><a class="sourceLine" id="cb6-1" data-line-number="1"><span class="bu">cd</span> /data/NCR_SBRB/pnc</a>
<a class="sourceLine" id="cb6-2" data-line-number="2"><span class="kw">for</span> <span class="ex">m</span> in <span class="kw">`</span><span class="fu">cat</span> first100.txt<span class="kw">`;</span> <span class="kw">do</span></a>
<a class="sourceLine" id="cb6-3" data-line-number="3">    <span class="bu">echo</span> <span class="st">&quot;bash ~/research_code/dti/fdt_pnc_wrapper.sh </span><span class="va">${m}</span><span class="st">&quot;</span> <span class="op">&gt;&gt;</span> swarm.fdt<span class="kw">;</span></a>
<a class="sourceLine" id="cb6-4" data-line-number="4"><span class="kw">done</span>;</a>
<a class="sourceLine" id="cb6-5" data-line-number="5"><span class="ex">swarm</span> -g 4 --job-name fdt --time 4:00:00 -f swarm.fdt --partition gpu \</a>
<a class="sourceLine" id="cb6-6" data-line-number="6">    --logdir trash_fdt --gres=gpu:k80:2</a></code></pre></div>
<h1 id="section-3">2019-02-12 17:38:14</h1>
<p>I made a few changes to the fdt wrapper to include Qc pictures and warping to the FMRIB58 space. The results look decent, so it’s time to run it for everybody and start looking at the QC pictures. I’ll then write wrappers to grab the motion and outlier parameters, as well as something to collect the tract averages, brain QC images (to be more organized for easy QCing), do the rest of the TBSS analysis, and also output the SSE and CNR maps for further QCing.</p>
<p>Let’s go ahead and all 647 overnight.</p>
<h1 id="section-4">2019-02-13 11:31:26</h1>
<p>I’ll ignore the CNR maps for now. We have plenty here after chaking the brain masks, warping, and SSE. We’re also looking for numbers of outliers and movement variables, so let’s grab those.</p>
<div class="sourceCode" id="cb7"><pre class="sourceCode bash"><code class="sourceCode bash"><a class="sourceLine" id="cb7-1" data-line-number="1"><span class="va">out_fname=</span>~/tmp/mvmt_report.csv;</a>
<a class="sourceLine" id="cb7-2" data-line-number="2"><span class="bu">echo</span> <span class="st">&quot;id,Noutliers,PROPoutliers,NoutVolumes,norm.trans,norm.rot,RMS1stVol,RMSprevVol&quot;</span> <span class="op">&gt;</span> <span class="va">$out_fname</span><span class="kw">;</span></a>
<a class="sourceLine" id="cb7-3" data-line-number="3"><span class="kw">for</span> <span class="ex">m</span> in <span class="kw">`</span><span class="fu">cat</span> ~/tmp/pnc<span class="kw">`;</span> <span class="kw">do</span></a>
<a class="sourceLine" id="cb7-4" data-line-number="4">    <span class="bu">echo</span> <span class="st">&#39;Collecting metrics for&#39;</span> <span class="va">$m</span><span class="kw">;</span></a>
<a class="sourceLine" id="cb7-5" data-line-number="5">    <span class="kw">if</span><span class="bu"> [</span> <span class="ot">-e</span> <span class="va">${m}</span>/eddy_s2v_unwarped_images.eddy_outlier_report<span class="bu"> ]</span>; <span class="kw">then</span></a>
<a class="sourceLine" id="cb7-6" data-line-number="6">        <span class="va">noutliers=</span><span class="kw">`</span><span class="fu">cat</span> <span class="va">${m}</span>/eddy_s2v_unwarped_images.eddy_outlier_report <span class="kw">|</span> <span class="fu">wc</span> -l<span class="kw">`</span>;</a>
<a class="sourceLine" id="cb7-7" data-line-number="7">        <span class="co"># figuring out the percetnage of total slices the outliers represent</span></a>
<a class="sourceLine" id="cb7-8" data-line-number="8">        <span class="va">nslices=</span><span class="kw">`</span><span class="fu">tail</span> <span class="va">${m}</span>/eddy_s2v_unwarped_images.eddy_outlier_map <span class="kw">|</span> <span class="fu">awk</span> <span class="st">&#39;{ print NF; exit } &#39;</span><span class="kw">`</span>;</a>
<a class="sourceLine" id="cb7-9" data-line-number="9">        <span class="va">nvol=</span><span class="kw">`</span><span class="fu">cat</span> <span class="va">${m}</span>/dwi_cvec.dat <span class="kw">|</span> <span class="fu">wc</span> -l<span class="kw">`</span>;</a>
<a class="sourceLine" id="cb7-10" data-line-number="10">        <span class="bu">let</span> totalSlices=<span class="va">$nslices</span>*<span class="va">$nvol</span><span class="kw">;</span></a>
<a class="sourceLine" id="cb7-11" data-line-number="11">        <span class="va">pctOutliers=</span><span class="kw">`</span><span class="bu">echo</span> <span class="st">&quot;scale=4; </span><span class="va">$noutliers</span><span class="st"> / </span><span class="va">$totalSlices</span><span class="st">&quot;</span> <span class="kw">|</span> <span class="fu">bc</span><span class="kw">`</span>;</a>
<a class="sourceLine" id="cb7-12" data-line-number="12">        <span class="co"># figuring out how many volumes were completely removed (row of 1s)</span></a>
<a class="sourceLine" id="cb7-13" data-line-number="13">        <span class="fu">awk</span> <span class="st">&#39;{sum=0; for(i=1; i&lt;=NF; i++){sum+=$i}; sum/=NF; print sum}&#39;</span> \</a>
<a class="sourceLine" id="cb7-14" data-line-number="14">            <span class="va">${m}</span>/eddy_s2v_unwarped_images.eddy_outlier_map <span class="op">&gt;</span> outlier_avg.txt<span class="kw">;</span></a>
<a class="sourceLine" id="cb7-15" data-line-number="15">        <span class="va">nOutVols=</span><span class="kw">`</span><span class="fu">grep</span> -c -e <span class="st">&quot;^1$&quot;</span> outlier_avg.txt<span class="kw">`</span>;</a>
<a class="sourceLine" id="cb7-16" data-line-number="16">        <span class="ex">1d_tool.py</span> -infile <span class="va">${m}</span>/eddy_s2v_unwarped_images.eddy_movement_over_time \</a>
<a class="sourceLine" id="cb7-17" data-line-number="17">            -select_cols <span class="st">&#39;0..2&#39;</span> -collapse_cols euclidean_norm -overwrite \</a>
<a class="sourceLine" id="cb7-18" data-line-number="18">            -write trans_norm.1D<span class="kw">;</span></a>
<a class="sourceLine" id="cb7-19" data-line-number="19">        <span class="va">trans=</span><span class="kw">`</span><span class="ex">1d_tool.py</span> -infile trans_norm.1D -show_mmms <span class="kw">|</span> <span class="kw">\</span></a>
<a class="sourceLine" id="cb7-20" data-line-number="20">            <span class="fu">tail</span> -n -1 <span class="kw">|</span> <span class="fu">awk</span> <span class="st">&#39;{ print $8 }&#39;</span> <span class="kw">|</span> <span class="fu">sed</span> <span class="st">&#39;s/,//&#39;</span><span class="kw">`</span>;</a>
<a class="sourceLine" id="cb7-21" data-line-number="21">        <span class="ex">1d_tool.py</span> -infile <span class="va">${m}</span>/eddy_s2v_unwarped_images.eddy_movement_over_time \</a>
<a class="sourceLine" id="cb7-22" data-line-number="22">            -select_cols <span class="st">&#39;3..5&#39;</span> -collapse_cols euclidean_norm -overwrite \</a>
<a class="sourceLine" id="cb7-23" data-line-number="23">            -write rot_norm.1D<span class="kw">;</span></a>
<a class="sourceLine" id="cb7-24" data-line-number="24">        <span class="va">rot=</span><span class="kw">`</span><span class="ex">1d_tool.py</span> -infile rot_norm.1D -show_mmms <span class="kw">|</span> <span class="kw">\</span></a>
<a class="sourceLine" id="cb7-25" data-line-number="25">            <span class="fu">tail</span> -n -1 <span class="kw">|</span> <span class="fu">awk</span> <span class="st">&#39;{ print $8 }&#39;</span> <span class="kw">|</span> <span class="fu">sed</span> <span class="st">&#39;s/,//&#39;</span><span class="kw">`</span>;</a>
<a class="sourceLine" id="cb7-26" data-line-number="26">        <span class="ex">1d_tool.py</span> -infile <span class="va">${m}</span>/eddy_s2v_unwarped_images.eddy_movement_rms \</a>
<a class="sourceLine" id="cb7-27" data-line-number="27">            -show_mmms <span class="op">&gt;</span> mean_rms.txt<span class="kw">;</span></a>
<a class="sourceLine" id="cb7-28" data-line-number="28">        <span class="va">vol1=</span><span class="kw">`</span><span class="fu">head</span> -n +2 mean_rms.txt <span class="kw">|</span> <span class="fu">awk</span> <span class="st">&#39;{ print $8 }&#39;</span> <span class="kw">|</span> <span class="fu">sed</span> <span class="st">&#39;s/,//&#39;</span><span class="kw">`</span>;</a>
<a class="sourceLine" id="cb7-29" data-line-number="29">        <span class="va">pvol=</span><span class="kw">`</span><span class="fu">tail</span> -n -1 mean_rms.txt <span class="kw">|</span> <span class="fu">awk</span> <span class="st">&#39;{ print $8 }&#39;</span> <span class="kw">|</span> <span class="fu">sed</span> <span class="st">&#39;s/,//&#39;</span><span class="kw">`</span>;</a>
<a class="sourceLine" id="cb7-30" data-line-number="30">    <span class="kw">else</span></a>
<a class="sourceLine" id="cb7-31" data-line-number="31">        <span class="bu">echo</span> <span class="st">&quot;Could not find outlier report for </span><span class="va">$m</span><span class="st">&quot;</span></a>
<a class="sourceLine" id="cb7-32" data-line-number="32">        <span class="va">noutliers=</span><span class="st">&#39;NA&#39;</span>;</a>
<a class="sourceLine" id="cb7-33" data-line-number="33">        <span class="va">pctOutliers=</span><span class="st">&#39;NA&#39;</span>;</a>
<a class="sourceLine" id="cb7-34" data-line-number="34">        <span class="va">nOutVols=</span><span class="st">&#39;NA&#39;</span>;</a>
<a class="sourceLine" id="cb7-35" data-line-number="35">        <span class="va">trans=</span><span class="st">&#39;NA&#39;</span>;</a>
<a class="sourceLine" id="cb7-36" data-line-number="36">        <span class="va">rot=</span><span class="st">&#39;NA&#39;</span>;</a>
<a class="sourceLine" id="cb7-37" data-line-number="37">        <span class="va">vol1=</span><span class="st">&#39;NA&#39;</span>;</a>
<a class="sourceLine" id="cb7-38" data-line-number="38">        <span class="va">pvol=</span><span class="st">&#39;NA&#39;</span>;</a>
<a class="sourceLine" id="cb7-39" data-line-number="39">    <span class="kw">fi</span>;</a>
<a class="sourceLine" id="cb7-40" data-line-number="40">    <span class="bu">echo</span> <span class="va">$m</span>, <span class="va">$noutliers</span>, <span class="va">$pctOutliers</span>, <span class="va">$nOutVols</span>, <span class="va">$trans</span>, <span class="va">$rot</span>, <span class="va">$vol1</span>, <span class="va">$pvol</span> <span class="op">&gt;&gt;</span> <span class="va">$out_fname</span><span class="kw">;</span></a>
<a class="sourceLine" id="cb7-41" data-line-number="41"><span class="kw">done</span></a></code></pre></div>
<p>Note that Ryan’s output usually comes from bedpostX, so I’ll still need to run that. Or I can just go for a regular average over the mask mean. For example, see Ryan’s e-mail from December 06, 2016 10:11 AM.</p>
<p>I’m not going to go the CAMINO way, but we might end up running autoPtx. Need to see how it looks at Biowulf though:</p>
<p>https://hpc.nih.gov/apps/fsl.html</p>
<p>Ryan’s pipeline seems to spit out both OLS and RESTORE estimates, and he says they’re highly correlated. Just so we don’t have to jump between programs, let’s stic to the OLS etimates for now.</p>
<p>For bedpostx, I did something like this:</p>
<div class="sourceCode" id="cb8"><pre class="sourceCode bash"><code class="sourceCode bash"><a class="sourceLine" id="cb8-1" data-line-number="1"><span class="fu">ln</span> -s eddy_s2v_unwarped_images.nii.gz data.nii.gz</a>
<a class="sourceLine" id="cb8-2" data-line-number="2"><span class="fu">ln</span> -s dwi_bval.dat bvals</a>
<a class="sourceLine" id="cb8-3" data-line-number="3"><span class="fu">ln</span> -s eddy_s2v_unwarped_images.eddy_rotated_bvecs bvecs</a>
<a class="sourceLine" id="cb8-4" data-line-number="4"><span class="fu">ln</span> -s b0_brain_mask.nii.gz nodif_brain_mask.nii.gz</a>
<a class="sourceLine" id="cb8-5" data-line-number="5"><span class="ex">bedpostx</span> ./</a></code></pre></div>
<p>and that schedules a whole bunch of swarms just for the single subject. Over 60, I’d say, wach of 2 cores, 2h. Shouldn’t take too long to run in parallel, but that’s per subject, so it’ll take a while. It can run faster if I use GPU, but then I’m limited on how many GPUs I can allocate. Let’s think more about it later. But the command would be bedpostx_gpu.</p>
<p>Also note that from Joelle’s e-mails, we should only do one fiber orientation for our data, instead of 2 that is default in bedpost.</p>
<p>Before I go nuts running bedpost on everyone, let’s collect the QC that’s already finished:</p>
<div class="sourceCode" id="cb9"><pre class="sourceCode bash"><code class="sourceCode bash"><a class="sourceLine" id="cb9-1" data-line-number="1"><span class="fu">mkdir</span> /data/NCR_SBRB/pnc/dti_fdt/summary_QC</a>
<a class="sourceLine" id="cb9-2" data-line-number="2"><span class="bu">cd</span> /data/NCR_SBRB/pnc/dti_fdt/summary_QC/</a>
<a class="sourceLine" id="cb9-3" data-line-number="3"><span class="fu">mkdir</span> brainmask</a>
<a class="sourceLine" id="cb9-4" data-line-number="4"><span class="fu">mkdir</span> transform</a>
<a class="sourceLine" id="cb9-5" data-line-number="5"><span class="fu">mkdir</span> DEC</a>
<a class="sourceLine" id="cb9-6" data-line-number="6"><span class="fu">mkdir</span> SSE</a>
<a class="sourceLine" id="cb9-7" data-line-number="7"><span class="kw">for</span> <span class="ex">m</span> in <span class="kw">`</span><span class="fu">cat</span> ../myids.txt<span class="kw">`;</span> <span class="kw">do</span></a>
<a class="sourceLine" id="cb9-8" data-line-number="8">    <span class="fu">cp</span> ../<span class="va">${m}</span>/QC/brain_mask.axi.png brainmask/<span class="va">${m}</span>.axi.png</a>
<a class="sourceLine" id="cb9-9" data-line-number="9">    <span class="fu">cp</span> ../<span class="va">${m}</span>/QC/brain_mask.sag.png brainmask/<span class="va">${m}</span>.sag.png</a>
<a class="sourceLine" id="cb9-10" data-line-number="10">    <span class="fu">cp</span> ../<span class="va">${m}</span>/QC/brain_mask.cor.png brainmask/<span class="va">${m}</span>.cor.png</a>
<a class="sourceLine" id="cb9-11" data-line-number="11"></a>
<a class="sourceLine" id="cb9-12" data-line-number="12">    <span class="fu">cp</span> ../<span class="va">${m}</span>/QC/FA_transform.axi.png transform/<span class="va">${m}</span>.axi.png</a>
<a class="sourceLine" id="cb9-13" data-line-number="13">    <span class="fu">cp</span> ../<span class="va">${m}</span>/QC/FA_transform.sag.png transform/<span class="va">${m}</span>.sag.png</a>
<a class="sourceLine" id="cb9-14" data-line-number="14">    <span class="fu">cp</span> ../<span class="va">${m}</span>/QC/FA_transform.cor.png transform/<span class="va">${m}</span>.cor.png</a>
<a class="sourceLine" id="cb9-15" data-line-number="15"></a>
<a class="sourceLine" id="cb9-16" data-line-number="16">    <span class="fu">cp</span> ../<span class="va">${m}</span>/QC/DEC_qc_dec_sca07.axi.png DEC/<span class="va">${m}</span>.axi.png</a>
<a class="sourceLine" id="cb9-17" data-line-number="17">    <span class="fu">cp</span> ../<span class="va">${m}</span>/QC/DEC_qc_dec_sca07.sag.png DEC/<span class="va">${m}</span>.sag.png</a>
<a class="sourceLine" id="cb9-18" data-line-number="18">    <span class="fu">cp</span> ../<span class="va">${m}</span>/QC/DEC_qc_dec_sca07.cor.png DEC/<span class="va">${m}</span>.cor.png</a>
<a class="sourceLine" id="cb9-19" data-line-number="19"></a>
<a class="sourceLine" id="cb9-20" data-line-number="20">    <span class="fu">cp</span> ../<span class="va">${m}</span>/QC/sse.axi.png SSE/<span class="va">${m}</span>.axi.png</a>
<a class="sourceLine" id="cb9-21" data-line-number="21">    <span class="fu">cp</span> ../<span class="va">${m}</span>/QC/sse.cor.png SSE/<span class="va">${m}</span>.cor.png</a>
<a class="sourceLine" id="cb9-22" data-line-number="22">    <span class="fu">cp</span> ../<span class="va">${m}</span>/QC/sse.sag.png SSE/<span class="va">${m}</span>.sag.png</a>
<a class="sourceLine" id="cb9-23" data-line-number="23"><span class="kw">done</span></a></code></pre></div>
<p>To fill in the QC spreadsheet, we check who converted properly:</p>
<div class="sourceCode" id="cb10"><pre class="sourceCode bash"><code class="sourceCode bash"><a class="sourceLine" id="cb10-1" data-line-number="1"><span class="bu">cd</span> /data/NCR_SBRB/pnc/dti_fdt</a>
<a class="sourceLine" id="cb10-2" data-line-number="2"><span class="kw">for</span> <span class="ex">m</span> in <span class="kw">`</span><span class="fu">cat</span> ../have_imaging.txt<span class="kw">`;</span> <span class="kw">do</span></a>
<a class="sourceLine" id="cb10-3" data-line-number="3">    <span class="va">nvol=</span><span class="kw">`</span><span class="fu">cat</span> <span class="va">${m}</span>/dwi_cvec.dat <span class="kw">|</span> <span class="fu">wc</span> -l<span class="kw">`</span>;</a>
<a class="sourceLine" id="cb10-4" data-line-number="4">    <span class="kw">if</span><span class="bu"> [</span> <span class="ot">!</span> <span class="va">$nvol</span> <span class="ot">=</span> 71<span class="bu"> ]</span>; <span class="kw">then</span></a>
<a class="sourceLine" id="cb10-5" data-line-number="5">        <span class="bu">echo</span> <span class="va">$m</span>,<span class="va">$nvol</span> <span class="op">&gt;&gt;</span> ~/tmp/conversion_errors.txt<span class="kw">;</span></a>
<a class="sourceLine" id="cb10-6" data-line-number="6">    <span class="kw">fi</span>;</a>
<a class="sourceLine" id="cb10-7" data-line-number="7"><span class="kw">done</span></a></code></pre></div>
<p>Then, check that all brain masks were created:</p>
<div class="sourceCode" id="cb11"><pre class="sourceCode bash"><code class="sourceCode bash"><a class="sourceLine" id="cb11-1" data-line-number="1"><span class="bu">cd</span> /data/NCR_SBRB/pnc/dti_fdt</a>
<a class="sourceLine" id="cb11-2" data-line-number="2"><span class="kw">for</span> <span class="ex">m</span> in <span class="kw">`</span><span class="fu">cat</span> converted.txt<span class="kw">`;</span> <span class="kw">do</span></a>
<a class="sourceLine" id="cb11-3" data-line-number="3">    <span class="kw">if [[</span> <span class="ot">-e</span> <span class="va">${m}</span>/QC/brain_mask.axi.png &amp;&amp; <span class="ot">-e</span> <span class="va">${m}</span>/b0_brain_mask.nii.gz<span class="kw"> ]]</span>; <span class="kw">then</span></a>
<a class="sourceLine" id="cb11-4" data-line-number="4">        <span class="bu">echo</span> <span class="va">$m</span>,y <span class="op">&gt;&gt;</span> ~/tmp/mask_status.txt<span class="kw">;</span></a>
<a class="sourceLine" id="cb11-5" data-line-number="5">    <span class="kw">else</span></a>
<a class="sourceLine" id="cb11-6" data-line-number="6">        <span class="bu">echo</span> <span class="va">$m</span>,n <span class="op">&gt;&gt;</span> ~/tmp/mask_status.txt<span class="kw">;</span></a>
<a class="sourceLine" id="cb11-7" data-line-number="7">    <span class="kw">fi</span>;</a>
<a class="sourceLine" id="cb11-8" data-line-number="8"><span class="kw">done</span></a></code></pre></div>
<p>And then who has eddy:</p>
<div class="sourceCode" id="cb12"><pre class="sourceCode bash"><code class="sourceCode bash"><a class="sourceLine" id="cb12-1" data-line-number="1"><span class="bu">cd</span> /data/NCR_SBRB/pnc/dti_fdt</a>
<a class="sourceLine" id="cb12-2" data-line-number="2"><span class="kw">for</span> <span class="ex">m</span> in <span class="kw">`</span><span class="fu">cat</span> converted.txt<span class="kw">`;</span> <span class="kw">do</span></a>
<a class="sourceLine" id="cb12-3" data-line-number="3">    <span class="kw">if [[</span> <span class="ot">-e</span> <span class="va">${m}</span>/eddy_s2v_unwarped_images.eddy_rotated_bvecs &amp;&amp; <span class="ot">-e</span> <span class="va">${m}</span>/eddy_s2v_unwarped_images.nii.gz<span class="kw"> ]]</span>; <span class="kw">then</span></a>
<a class="sourceLine" id="cb12-4" data-line-number="4">        <span class="bu">echo</span> <span class="va">$m</span>,y <span class="op">&gt;&gt;</span> ~/tmp/eddy_status.txt<span class="kw">;</span></a>
<a class="sourceLine" id="cb12-5" data-line-number="5">    <span class="kw">else</span></a>
<a class="sourceLine" id="cb12-6" data-line-number="6">        <span class="bu">echo</span> <span class="va">$m</span>,n <span class="op">&gt;&gt;</span> ~/tmp/eddy_status.txt<span class="kw">;</span></a>
<a class="sourceLine" id="cb12-7" data-line-number="7">    <span class="kw">fi</span>;</a>
<a class="sourceLine" id="cb12-8" data-line-number="8"><span class="kw">done</span></a></code></pre></div>
<p>To run bedpostx, I’ll split the data into 6, so that each account can run a GPU to its limit and then a CPU one. Things might go faster that way.</p>
<div class="sourceCode" id="cb13"><pre class="sourceCode bash"><code class="sourceCode bash"><a class="sourceLine" id="cb13-1" data-line-number="1"><span class="kw">for</span> <span class="ex">m</span> in <span class="kw">`</span><span class="fu">cat</span> xaf<span class="kw">`;</span> <span class="kw">do</span></a>
<a class="sourceLine" id="cb13-2" data-line-number="2">    <span class="bu">cd</span> /data/NCR_SBRB/pnc/dti_fdt/<span class="va">${m}</span><span class="kw">;</span></a>
<a class="sourceLine" id="cb13-3" data-line-number="3">    <span class="fu">ln</span> -s eddy_s2v_unwarped_images.nii.gz data.nii.gz<span class="kw">;</span></a>
<a class="sourceLine" id="cb13-4" data-line-number="4">    <span class="fu">ln</span> -s dwi_bval.dat bvals<span class="kw">;</span></a>
<a class="sourceLine" id="cb13-5" data-line-number="5">    <span class="fu">ln</span> -s eddy_s2v_unwarped_images.eddy_rotated_bvecs bvecs<span class="kw">;</span></a>
<a class="sourceLine" id="cb13-6" data-line-number="6">    <span class="fu">ln</span> -s b0_brain_mask.nii.gz nodif_brain_mask.nii.gz<span class="kw">;</span></a>
<a class="sourceLine" id="cb13-7" data-line-number="7">    <span class="ex">bedpostx_gpu</span> -n 1 ./<span class="kw">;</span></a>
<a class="sourceLine" id="cb13-8" data-line-number="8"><span class="kw">done</span></a></code></pre></div>
<p>Run autoPtx first to make sure everything is fine!!!!</p>
<p>I had to make some changes to how I’m approaching this. That’s just because running autoPtx makes life much easier, but it redoes some of the steps I was doing in the wrapper before. So, let’s stop the wrapper right before we calculate dtifit (which is done by autoPtx), and we can generate the QC pictures afterwards.</p>
<p>autoPtx expects the data in the same format as what we’d send for bedpostx, so let’s do that formatting first. But keep in mind that symlinks don’t work, and the data is in the end moved to preproc. So, let’s actually copy them, because I don’t want to risk losing the eddy output:</p>
<div class="sourceCode" id="cb14"><pre class="sourceCode bash"><code class="sourceCode bash"><a class="sourceLine" id="cb14-1" data-line-number="1"><span class="co"># run in helix so we don&#39;t overload BW filesystem</span></a>
<a class="sourceLine" id="cb14-2" data-line-number="2"><span class="kw">for</span> <span class="ex">m</span> in <span class="kw">`</span><span class="fu">cat</span> xac<span class="kw">`;</span> <span class="kw">do</span></a>
<a class="sourceLine" id="cb14-3" data-line-number="3">    <span class="bu">echo</span> Copying <span class="va">$m</span><span class="kw">;</span></a>
<a class="sourceLine" id="cb14-4" data-line-number="4">    <span class="bu">cd</span> /data/NCR_SBRB/pnc/dti_fdt/<span class="va">${m}</span><span class="kw">;</span></a>
<a class="sourceLine" id="cb14-5" data-line-number="5">    <span class="fu">cp</span> eddy_s2v_unwarped_images.nii.gz data.nii.gz<span class="kw">;</span></a>
<a class="sourceLine" id="cb14-6" data-line-number="6">    <span class="fu">cp</span> dwi_bval.dat bvals<span class="kw">;</span></a>
<a class="sourceLine" id="cb14-7" data-line-number="7">    <span class="fu">cp</span> eddy_s2v_unwarped_images.eddy_rotated_bvecs bvecs<span class="kw">;</span></a>
<a class="sourceLine" id="cb14-8" data-line-number="8">    <span class="fu">cp</span> b0_brain_mask.nii.gz nodif_brain_mask.nii.gz<span class="kw">;</span></a>
<a class="sourceLine" id="cb14-9" data-line-number="9"><span class="kw">done</span></a></code></pre></div>
<p>Then, we run autoPtx. We can split it by users because it adds everything to the same directory, and just increments the final subject list.</p>
<p>Run it a long interactive session, because even though it schedules bedpostx, it still runs all kinds of registrations through FSL, so biowulf headnode won’t cut it!</p>
<div class="sourceCode" id="cb15"><pre class="sourceCode bash"><code class="sourceCode bash"><a class="sourceLine" id="cb15-1" data-line-number="1"><span class="va">data=</span><span class="st">&#39;&#39;</span>;</a>
<a class="sourceLine" id="cb15-2" data-line-number="2"><span class="kw">for</span> <span class="ex">m</span> in <span class="kw">`</span><span class="fu">cat</span> xaf<span class="kw">`;</span> <span class="kw">do</span></a>
<a class="sourceLine" id="cb15-3" data-line-number="3">    <span class="va">data=$data</span><span class="st">&#39; &#39;</span><span class="va">${m}</span>/data.nii.gz;</a>
<a class="sourceLine" id="cb15-4" data-line-number="4"><span class="kw">done</span></a>
<a class="sourceLine" id="cb15-5" data-line-number="5"><span class="ex">/data/NCR_SBRB/software/autoPtx/autoPtx_1_preproc</span> <span class="va">$data</span><span class="kw">;</span></a></code></pre></div>
<p>And of course we still need part 2 when we’re done.</p>
<h1 id="section-5">2019-02-20 10:58:43</h1>
<p>I changed the part 2 script so run the scans split between two accounts. Hopefully there won’t be issues with permissions…</p>
<p>But I had to reduce the number of subjects per file because we CPU recruitment limits in the cluster. Let’s try only 100. And still, better to only fire new ones when nothing else is queued (running is OK).</p>
<p>It creates one swarm per tract, with one job per subject in each tract. So, nsubjects * ntracts. I might need to use the subject file as an argument to split it across accounts.</p>
<p>But I don’t need to wait for the second part to do:</p>
<div class="sourceCode" id="cb16"><pre class="sourceCode bash"><code class="sourceCode bash"><a class="sourceLine" id="cb16-1" data-line-number="1"><span class="kw">for</span> <span class="ex">m</span> in <span class="kw">`</span><span class="fu">cat</span> ../xab<span class="kw">`;</span> <span class="kw">do</span></a>
<a class="sourceLine" id="cb16-2" data-line-number="2">    <span class="fu">bash</span> ~/research_code/dti/fdt_pnc_TBSS_and_QC.sh <span class="va">${m}</span><span class="kw">;</span></a>
<a class="sourceLine" id="cb16-3" data-line-number="3"><span class="kw">done</span></a></code></pre></div>
<p>Now we need to copy the QC images again:</p>
<div class="sourceCode" id="cb17"><pre class="sourceCode bash"><code class="sourceCode bash"><a class="sourceLine" id="cb17-1" data-line-number="1"><span class="va">qc_dir=</span>/data/NCR_SBRB/pnc/dti_fdt/summary_QC/</a>
<a class="sourceLine" id="cb17-2" data-line-number="2"><span class="va">img_dir=</span>/data/NCR_SBRB/pnc/dti_fdt/preproc/</a>
<a class="sourceLine" id="cb17-3" data-line-number="3"><span class="kw">for</span> <span class="ex">m</span> in <span class="kw">`</span><span class="fu">cat</span> ~/tmp/pnc_qc.txt<span class="kw">`;</span> <span class="kw">do</span></a>
<a class="sourceLine" id="cb17-4" data-line-number="4">    <span class="fu">cp</span> <span class="va">$img_dir</span>/<span class="va">${m}</span>/QC/FA_transform.axi.png <span class="va">$qc_dir</span>/transform/<span class="va">${m}</span>.axi.png</a>
<a class="sourceLine" id="cb17-5" data-line-number="5">    <span class="fu">cp</span> <span class="va">$img_dir</span>/<span class="va">${m}</span>/QC/FA_transform.sag.png <span class="va">$qc_dir</span>/transform/<span class="va">${m}</span>.sag.png</a>
<a class="sourceLine" id="cb17-6" data-line-number="6">    <span class="fu">cp</span> <span class="va">$img_dir</span>/<span class="va">${m}</span>/QC/FA_transform.cor.png <span class="va">$qc_dir</span>/transform/<span class="va">${m}</span>.cor.png</a>
<a class="sourceLine" id="cb17-7" data-line-number="7"></a>
<a class="sourceLine" id="cb17-8" data-line-number="8">    <span class="fu">cp</span> <span class="va">$img_dir</span>/<span class="va">${m}</span>/QC/DEC_qc_dec_sca07.axi.png <span class="va">$qc_dir</span>/DEC/<span class="va">${m}</span>.axi.png</a>
<a class="sourceLine" id="cb17-9" data-line-number="9">    <span class="fu">cp</span> <span class="va">$img_dir</span>/<span class="va">${m}</span>/QC/DEC_qc_dec_sca07.sag.png <span class="va">$qc_dir</span>/DEC/<span class="va">${m}</span>.sag.png</a>
<a class="sourceLine" id="cb17-10" data-line-number="10">    <span class="fu">cp</span> <span class="va">$img_dir</span>/<span class="va">${m}</span>/QC/DEC_qc_dec_sca07.cor.png <span class="va">$qc_dir</span>/DEC/<span class="va">${m}</span>.cor.png</a>
<a class="sourceLine" id="cb17-11" data-line-number="11"></a>
<a class="sourceLine" id="cb17-12" data-line-number="12">    <span class="fu">cp</span> <span class="va">$img_dir</span>/<span class="va">${m}</span>/QC/sse.axi.png <span class="va">$qc_dir</span>/SSE/<span class="va">${m}</span>.axi.png</a>
<a class="sourceLine" id="cb17-13" data-line-number="13">    <span class="fu">cp</span> <span class="va">$img_dir</span>/<span class="va">${m}</span>/QC/sse.cor.png <span class="va">$qc_dir</span>/SSE/<span class="va">${m}</span>.cor.png</a>
<a class="sourceLine" id="cb17-14" data-line-number="14">    <span class="fu">cp</span> <span class="va">$img_dir</span>/<span class="va">${m}</span>/QC/sse.sag.png <span class="va">$qc_dir</span>/SSE/<span class="va">${m}</span>.sag.png</a>
<a class="sourceLine" id="cb17-15" data-line-number="15"><span class="kw">done</span></a></code></pre></div>
<h1 id="section-6">2019-02-22 10:07:06</h1>
<p>While the IRTAs QC the resulting images, I’ll go ahead and start copying data to shaw/PNC_DTI. I’m using Globus web interface, because I’ll go for all directories for now. This is justa way to keep the results in our servers in case I need to make room in BW.</p>
<h1 id="section-7">2019-03-01 15:55:07</h1>
<p>Let’s also do some quick verification of the quality of the mean FA metric… do we see the Bi-gaussian distribution that was a problem in the past with the NCR data? In the end, we’ll use the TBSS pipeline, but it depends on a good transformation to the template space. Since this is a quick check, we don’t want to depend on that, so let’s derive per subject masks, and then we can just calculate the mean FA based on that mask. It’s quite similar to what we use in the master QC sheet:</p>
<div class="sourceCode" id="cb18"><pre class="sourceCode bash"><code class="sourceCode bash"><a class="sourceLine" id="cb18-1" data-line-number="1"><span class="va">mydir=</span>/lscratch/<span class="va">${SLURM_JOBID}</span>/</a>
<a class="sourceLine" id="cb18-2" data-line-number="2"><span class="va">mean_props=</span>~/tmp/mean_props.csv;</a>
<a class="sourceLine" id="cb18-3" data-line-number="3"><span class="bu">echo</span> <span class="st">&quot;id,mean_fa,mean_ad,mean_rd,nvox&quot;</span> <span class="op">&gt;</span> <span class="va">$mean_props</span><span class="kw">;</span></a>
<a class="sourceLine" id="cb18-4" data-line-number="4"><span class="kw">for</span> <span class="ex">m</span> in <span class="kw">`</span><span class="fu">cat</span> ~/tmp/pnc<span class="kw">`;</span> <span class="kw">do</span></a>
<a class="sourceLine" id="cb18-5" data-line-number="5">    <span class="bu">echo</span> <span class="va">$m</span><span class="kw">;</span></a>
<a class="sourceLine" id="cb18-6" data-line-number="6">    <span class="bu">cd</span> /data/NCR_SBRB/pnc/dti_fdt/preproc/<span class="va">$m</span> <span class="kw">&amp;&amp;</span></a>
<a class="sourceLine" id="cb18-7" data-line-number="7">    <span class="kw">if</span><span class="bu"> [</span> <span class="ot">-e</span> dti_FA.nii.gz<span class="bu"> ]</span>; <span class="kw">then</span></a>
<a class="sourceLine" id="cb18-8" data-line-number="8">        <span class="ex">3dcalc</span> -a dti_FA.nii.gz -expr <span class="st">&quot;step(a-.2)&quot;</span> -prefix <span class="va">${mydir}</span>/my_mask.nii <span class="op">2&gt;</span>/dev/null <span class="kw">&amp;&amp;</span></a>
<a class="sourceLine" id="cb18-9" data-line-number="9">        <span class="va">fa=</span><span class="kw">`</span><span class="ex">3dmaskave</span> -q -mask <span class="va">${mydir}</span>/my_mask.nii dti_FA.nii.gz <span class="op">2&gt;</span>/dev/null<span class="kw">`</span> <span class="kw">&amp;&amp;</span></a>
<a class="sourceLine" id="cb18-10" data-line-number="10">        <span class="va">ad=</span><span class="kw">`</span><span class="ex">3dmaskave</span> -q -mask <span class="va">${mydir}</span>/my_mask.nii dti_L1.nii.gz <span class="op">2&gt;</span>/dev/null<span class="kw">`</span> <span class="kw">&amp;&amp;</span></a>
<a class="sourceLine" id="cb18-11" data-line-number="11">        <span class="ex">3dcalc</span> -a dti_L2.nii.gz -b dti_L3.nii.gz -expr <span class="st">&quot;(a + b) / 2&quot;</span> \</a>
<a class="sourceLine" id="cb18-12" data-line-number="12">            -prefix <span class="va">${mydir}</span>/RD.nii <span class="op">2&gt;</span>/dev/null <span class="kw">&amp;&amp;</span></a>
<a class="sourceLine" id="cb18-13" data-line-number="13">        <span class="va">rd=</span><span class="kw">`</span><span class="ex">3dmaskave</span> -q -mask <span class="va">${mydir}</span>/my_mask.nii <span class="va">${mydir}</span>/RD.nii <span class="op">2&gt;</span>/dev/null<span class="kw">`</span> <span class="kw">&amp;&amp;</span></a>
<a class="sourceLine" id="cb18-14" data-line-number="14">        <span class="va">nvox=</span><span class="kw">`</span><span class="ex">3dBrickStat</span> -count -non-zero <span class="va">${mydir}</span>/my_mask.nii <span class="op">2&gt;</span>/dev/null<span class="kw">`</span> <span class="kw">&amp;&amp;</span></a>
<a class="sourceLine" id="cb18-15" data-line-number="15">        <span class="bu">echo</span> <span class="va">${m}</span>,<span class="va">${fa}</span>,<span class="va">${ad}</span>,<span class="va">${rd}</span>,<span class="va">${nvox}</span> <span class="op">&gt;&gt;</span> <span class="va">$mean_props</span><span class="kw">;</span></a>
<a class="sourceLine" id="cb18-16" data-line-number="16">        <span class="fu">rm</span> <span class="va">${mydir}</span>/*nii<span class="kw">;</span></a>
<a class="sourceLine" id="cb18-17" data-line-number="17">    <span class="kw">else</span></a>
<a class="sourceLine" id="cb18-18" data-line-number="18">        <span class="bu">echo</span> <span class="va">${m}</span>,NA,NA,NA,NA <span class="op">&gt;&gt;</span> <span class="va">$mean_props</span><span class="kw">;</span></a>
<a class="sourceLine" id="cb18-19" data-line-number="19">    <span class="kw">fi</span></a>
<a class="sourceLine" id="cb18-20" data-line-number="20"><span class="kw">done</span></a></code></pre></div>
<p><img src="images/2019-03-01-18-08-08.png" /></p>
<p>So, let’s go ahead and calculate the movement variables again, for these 564 IDs we’re waiting for visual QC (see above).</p>
<h1 id="section-8">2019-03-05 15:42:44</h1>
<p>Based on what I’m reading about autoPtx, probtrackx, and also reading the trackSubjectStruct script from autoPtx, our main result is tractsNorm, which combines forward and inverse (when needed), and then normalizes by waypoints. The maximum there is also 1, which I’d think it’s a good way to scale the different voxels.</p>
<p>The QC pictures only make use of autoPtx1 output, so let’s make sure all autoPtx2 ran for everyone:</p>
<div class="sourceCode" id="cb19"><pre class="sourceCode bash"><code class="sourceCode bash"><a class="sourceLine" id="cb19-1" data-line-number="1"><span class="bu">cd</span> /data/NCR_SBRB/pnc/dti_fdt/tracts</a>
<a class="sourceLine" id="cb19-2" data-line-number="2"><span class="kw">for</span> <span class="ex">s</span> in <span class="kw">`</span><span class="fu">cat</span> ~/tmp/pnc<span class="kw">`;</span> <span class="kw">do</span></a>
<a class="sourceLine" id="cb19-3" data-line-number="3">    <span class="kw">if</span><span class="bu"> [</span> <span class="ot">!</span> <span class="ot">-e</span> <span class="va">${s}</span>/fmi/tracts/tractsNorm.nii.gz<span class="bu"> ]</span>; <span class="kw">then</span></a>
<a class="sourceLine" id="cb19-4" data-line-number="4">        <span class="bu">echo</span> <span class="va">$s</span> <span class="op">&gt;&gt;</span> ../preproc/missing<span class="kw">;</span></a>
<a class="sourceLine" id="cb19-5" data-line-number="5">    <span class="kw">fi</span>;</a>
<a class="sourceLine" id="cb19-6" data-line-number="6"><span class="kw">done</span></a>
<a class="sourceLine" id="cb19-7" data-line-number="7"><span class="co"># edit the script first</span></a>
<a class="sourceLine" id="cb19-8" data-line-number="8"><span class="ex">/data/NCR_SBRB/software/autoPtx/autoPtx_2_launchTractography</span></a></code></pre></div>
<p>Then, it should just be a matter of weighting the property maps by tractNorm:</p>
<div class="sourceCode" id="cb20"><pre class="sourceCode bash"><code class="sourceCode bash"><a class="sourceLine" id="cb20-1" data-line-number="1"><span class="va">mydir=</span>/lscratch/<span class="va">${SLURM_JOBID}</span>/</a>
<a class="sourceLine" id="cb20-2" data-line-number="2"><span class="va">weighted_tracts=</span>~/tmp/weighted_tracts.csv;</a>
<a class="sourceLine" id="cb20-3" data-line-number="3"><span class="va">row=</span><span class="st">&quot;id&quot;</span>;</a>
<a class="sourceLine" id="cb20-4" data-line-number="4"><span class="kw">for</span> <span class="ex">t</span> in <span class="kw">`</span><span class="fu">cut</span> -d<span class="st">&quot; &quot;</span> -f 1 /data/NCR_SBRB/software/autoPtx/structureList<span class="kw">`;</span> <span class="kw">do</span></a>
<a class="sourceLine" id="cb20-5" data-line-number="5">    <span class="kw">for</span> <span class="ex">m</span> in fa ad rd<span class="kw">;</span> <span class="kw">do</span></a>
<a class="sourceLine" id="cb20-6" data-line-number="6">        <span class="va">row=${row}</span><span class="st">&#39;,&#39;</span><span class="va">${t}</span>_<span class="va">${m}</span>;</a>
<a class="sourceLine" id="cb20-7" data-line-number="7">    <span class="kw">done</span></a>
<a class="sourceLine" id="cb20-8" data-line-number="8"><span class="kw">done</span></a>
<a class="sourceLine" id="cb20-9" data-line-number="9"><span class="bu">echo</span> <span class="va">$row</span> <span class="op">&gt;</span> <span class="va">$weighted_tracts</span><span class="kw">;</span></a>
<a class="sourceLine" id="cb20-10" data-line-number="10"><span class="kw">for</span> <span class="ex">m</span> in <span class="kw">`</span><span class="fu">head</span> -n 3 ~/tmp/pnc<span class="kw">`;</span> <span class="kw">do</span></a>
<a class="sourceLine" id="cb20-11" data-line-number="11">    <span class="bu">echo</span> <span class="va">$m</span><span class="kw">;</span></a>
<a class="sourceLine" id="cb20-12" data-line-number="12">    <span class="va">row=</span><span class="st">&quot;</span><span class="va">${m}</span><span class="st">&quot;</span>;</a>
<a class="sourceLine" id="cb20-13" data-line-number="13">    <span class="bu">cd</span> /data/NCR_SBRB/pnc/dti_fdt/preproc/<span class="va">$m</span> <span class="kw">&amp;&amp;</span></a>
<a class="sourceLine" id="cb20-14" data-line-number="14">    <span class="kw">for</span> <span class="ex">t</span> in <span class="kw">`</span><span class="fu">cut</span> -d<span class="st">&quot; &quot;</span> -f 1 /data/NCR_SBRB/software/autoPtx/structureList<span class="kw">`;</span> <span class="kw">do</span></a>
<a class="sourceLine" id="cb20-15" data-line-number="15">        <span class="kw">if</span><span class="bu"> [</span> <span class="ot">-e</span> ../../tracts/<span class="va">${m}</span>/<span class="va">${t}</span>/tracts/tractsNorm.nii.gz<span class="bu"> ]</span>; <span class="kw">then</span></a>
<a class="sourceLine" id="cb20-16" data-line-number="16">            <span class="co"># tract mask is higher dimension!</span></a>
<a class="sourceLine" id="cb20-17" data-line-number="17">            <span class="ex">3dresample</span> -master dti_FA.nii.gz -prefix <span class="va">${mydir}</span>/mask.nii \</a>
<a class="sourceLine" id="cb20-18" data-line-number="18">                -inset ../../tracts/<span class="va">${m}</span>/<span class="va">${t}</span>/tracts/tractsNorm.nii.gz \</a>
<a class="sourceLine" id="cb20-19" data-line-number="19">                -rmode NN -overwrite <span class="kw">&amp;&amp;</span></a>
<a class="sourceLine" id="cb20-20" data-line-number="20">            <span class="va">fa=</span><span class="kw">`</span><span class="ex">3dmaskave</span> -q -mask <span class="va">${mydir}</span>/mask.nii dti_FA.nii.gz<span class="kw">`</span> <span class="kw">&amp;&amp;</span></a>
<a class="sourceLine" id="cb20-21" data-line-number="21">            <span class="va">ad=</span><span class="kw">`</span><span class="ex">3dmaskave</span> -q -mask <span class="va">${mydir}</span>/mask.nii dti_L1.nii.gz<span class="kw">`</span> <span class="kw">&amp;&amp;</span></a>
<a class="sourceLine" id="cb20-22" data-line-number="22">            <span class="ex">3dcalc</span> -a dti_L2.nii.gz -b dti_L3.nii.gz -expr <span class="st">&quot;(a + b) / 2&quot;</span> \</a>
<a class="sourceLine" id="cb20-23" data-line-number="23">                -prefix <span class="va">${mydir}</span>/RD.nii <span class="op">2&gt;</span>/dev/null <span class="kw">&amp;&amp;</span></a>
<a class="sourceLine" id="cb20-24" data-line-number="24">            <span class="va">rd=</span><span class="kw">`</span><span class="ex">3dmaskave</span> -q -mask <span class="va">${mydir}</span>/mask.nii <span class="va">${mydir}</span>/RD.nii<span class="kw">`</span> <span class="kw">&amp;&amp;</span></a>
<a class="sourceLine" id="cb20-25" data-line-number="25">            <span class="va">row=${row}</span><span class="st">&#39;,&#39;</span><span class="va">${fa}</span><span class="st">&#39;,&#39;</span><span class="va">${ad}</span><span class="st">&#39;,&#39;</span><span class="va">${rd}</span>;</a>
<a class="sourceLine" id="cb20-26" data-line-number="26">            <span class="fu">rm</span> <span class="va">${mydir}</span>/*nii<span class="kw">;</span></a>
<a class="sourceLine" id="cb20-27" data-line-number="27">        <span class="kw">else</span></a>
<a class="sourceLine" id="cb20-28" data-line-number="28">            <span class="va">row=${row}</span><span class="st">&#39;,NA,NA,NA&#39;</span>;</a>
<a class="sourceLine" id="cb20-29" data-line-number="29">        <span class="kw">fi</span>;</a>
<a class="sourceLine" id="cb20-30" data-line-number="30">    <span class="kw">done</span></a>
<a class="sourceLine" id="cb20-31" data-line-number="31">    <span class="bu">echo</span> <span class="va">$row</span> <span class="op">&gt;&gt;</span> <span class="va">$weighted_tracts</span><span class="kw">;</span></a>
<a class="sourceLine" id="cb20-32" data-line-number="32"><span class="kw">done</span></a></code></pre></div>
<h1 id="section-9">2019-03-07 11:49:18</h1>
<p>And finally merge everything:</p>
<div class="sourceCode" id="cb21"><pre class="sourceCode r"><code class="sourceCode r"><a class="sourceLine" id="cb21-1" data-line-number="1"><span class="op">&gt;</span><span class="st"> </span>a =<span class="st"> </span><span class="kw">read.csv</span>(<span class="st">&#39;PNC_weighted_tracts.csv&#39;</span>)</a>
<a class="sourceLine" id="cb21-2" data-line-number="2"><span class="op">&gt;</span><span class="st"> </span><span class="kw">dim</span>(a)</a>
<a class="sourceLine" id="cb21-3" data-line-number="3">[<span class="dv">1</span>] <span class="dv">564</span>  <span class="dv">82</span></a>
<a class="sourceLine" id="cb21-4" data-line-number="4"><span class="op">&gt;</span><span class="st"> </span>b =<span class="st"> </span><span class="kw">read.csv</span>(<span class="st">&#39;../FDT_QC/PNC/mvmt_report.csv&#39;</span>)</a>
<a class="sourceLine" id="cb21-5" data-line-number="5"><span class="op">&gt;</span><span class="st"> </span>m =<span class="st"> </span><span class="kw">merge</span>(a,b,<span class="dt">by=</span><span class="st">&#39;id&#39;</span>)</a>
<a class="sourceLine" id="cb21-6" data-line-number="6"><span class="op">&gt;</span><span class="st"> </span><span class="kw">dim</span>(m)</a>
<a class="sourceLine" id="cb21-7" data-line-number="7">[<span class="dv">1</span>] <span class="dv">564</span>  <span class="dv">89</span></a>
<a class="sourceLine" id="cb21-8" data-line-number="8"><span class="op">&gt;</span><span class="st"> </span>d =<span class="st"> </span><span class="kw">read.csv</span>(<span class="st">&#39;../FDT_QC/PNC/mean_props.csv&#39;</span>)</a>
<a class="sourceLine" id="cb21-9" data-line-number="9"><span class="op">&gt;</span><span class="st"> </span>m =<span class="st"> </span><span class="kw">merge</span>(m,d,<span class="dt">by=</span><span class="st">&#39;id&#39;</span>)</a>
<a class="sourceLine" id="cb21-10" data-line-number="10"><span class="op">&gt;</span><span class="st"> </span><span class="kw">dim</span>(m)</a>
<a class="sourceLine" id="cb21-11" data-line-number="11">[<span class="dv">1</span>] <span class="dv">564</span>  <span class="dv">93</span></a>
<a class="sourceLine" id="cb21-12" data-line-number="12"><span class="op">&gt;</span><span class="st"> </span><span class="kw">library</span>(gdata)</a>
<a class="sourceLine" id="cb21-13" data-line-number="13"><span class="op">&gt;</span><span class="st"> </span>yn =<span class="st"> </span><span class="kw">read.xls</span>(<span class="st">&#39;../FDT_QC/PNC_DTI_QC_FEB.28.xlsx&#39;</span>)</a>
<a class="sourceLine" id="cb21-14" data-line-number="14"><span class="op">&gt;</span><span class="st"> </span>m =<span class="st"> </span><span class="kw">merge</span>(m,yn,<span class="dt">by.x=</span><span class="st">&#39;id&#39;</span>,<span class="dt">by.y=</span><span class="st">&#39;PNC_ID&#39;</span>)</a>
<a class="sourceLine" id="cb21-15" data-line-number="15"><span class="op">&gt;</span><span class="st"> </span><span class="kw">dim</span>(m)</a>
<a class="sourceLine" id="cb21-16" data-line-number="16">[<span class="dv">1</span>] <span class="dv">564</span> <span class="dv">100</span></a>
<a class="sourceLine" id="cb21-17" data-line-number="17"><span class="op">&gt;</span><span class="st"> </span><span class="kw">write.csv</span>(m, <span class="dt">file=</span><span class="st">&#39;PNC_WNH_tracts_with_QC.csv&#39;</span>, <span class="dt">row.names=</span>F)</a></code></pre></div>
<p>But there were LOTS of NAs for some tracts… weird. Let me see what’s going on. So, the issue is that many tracts have norm 0! Not sure what’s going on there… let’s see if we can quantify it.</p>
<div class="sourceCode" id="cb22"><pre class="sourceCode bash"><code class="sourceCode bash"><a class="sourceLine" id="cb22-1" data-line-number="1"><span class="va">maxvox=</span>~/tmp/maxvox.csv;</a>
<a class="sourceLine" id="cb22-2" data-line-number="2"><span class="va">row=</span><span class="st">&quot;id&quot;</span>;</a>
<a class="sourceLine" id="cb22-3" data-line-number="3"><span class="kw">for</span> <span class="ex">t</span> in <span class="kw">`</span><span class="fu">cut</span> -d<span class="st">&quot; &quot;</span> -f 1 /data/NCR_SBRB/software/autoPtx/structureList<span class="kw">`;</span> <span class="kw">do</span></a>
<a class="sourceLine" id="cb22-4" data-line-number="4">        <span class="va">row=${row}</span><span class="st">&#39;,&#39;</span><span class="va">${t}</span>;</a>
<a class="sourceLine" id="cb22-5" data-line-number="5"><span class="kw">done</span></a>
<a class="sourceLine" id="cb22-6" data-line-number="6"><span class="bu">echo</span> <span class="va">$row</span> <span class="op">&gt;</span> <span class="va">$maxvox</span><span class="kw">;</span></a>
<a class="sourceLine" id="cb22-7" data-line-number="7"><span class="kw">for</span> <span class="ex">m</span> in <span class="kw">`</span><span class="fu">cat</span> ~/tmp/pnc<span class="kw">`;</span> <span class="kw">do</span></a>
<a class="sourceLine" id="cb22-8" data-line-number="8">    <span class="bu">echo</span> <span class="va">${m}</span></a>
<a class="sourceLine" id="cb22-9" data-line-number="9">    <span class="bu">cd</span> /data/NCR_SBRB/pnc/dti_fdt</a>
<a class="sourceLine" id="cb22-10" data-line-number="10">    <span class="va">row=</span><span class="st">&quot;</span><span class="va">${m}</span><span class="st">&quot;</span>;</a>
<a class="sourceLine" id="cb22-11" data-line-number="11">    <span class="kw">for</span> <span class="ex">d</span> in <span class="kw">`</span><span class="fu">cut</span> -d<span class="st">&quot; &quot;</span> -f 1 /data/NCR_SBRB/software/autoPtx/structureList<span class="kw">`;</span> <span class="kw">do</span></a>
<a class="sourceLine" id="cb22-12" data-line-number="12">        <span class="kw">if</span><span class="bu"> [</span> <span class="ot">-e</span> tracts/<span class="va">${m}</span>/<span class="va">${d}</span>/tracts/tractsNorm.nii.gz<span class="bu"> ]</span>; <span class="kw">then</span></a>
<a class="sourceLine" id="cb22-13" data-line-number="13">            <span class="va">val=</span><span class="kw">`</span><span class="ex">3dBrickStat</span> -slow tracts/<span class="va">${m}</span>/<span class="va">${d}</span>/tracts/tractsNorm.nii.gz<span class="kw">`</span>;</a>
<a class="sourceLine" id="cb22-14" data-line-number="14">        <span class="kw">else</span></a>
<a class="sourceLine" id="cb22-15" data-line-number="15">            <span class="va">val=</span><span class="st">&#39;NA&#39;</span></a>
<a class="sourceLine" id="cb22-16" data-line-number="16">        <span class="kw">fi</span></a>
<a class="sourceLine" id="cb22-17" data-line-number="17">        <span class="va">row=${row}</span><span class="st">&#39;,&#39;</span><span class="va">${val}</span></a>
<a class="sourceLine" id="cb22-18" data-line-number="18">    <span class="kw">done</span></a>
<a class="sourceLine" id="cb22-19" data-line-number="19">    <span class="bu">echo</span> <span class="va">$row</span> <span class="op">&gt;&gt;</span> <span class="va">$maxvox</span><span class="kw">;</span></a>
<a class="sourceLine" id="cb22-20" data-line-number="20"><span class="kw">done</span></a></code></pre></div>
<p>So, the code above gives us the top normative number in each mask. As we can see, there are many masks that have a norm of zero, which is quite weird. Basically, we were never able to determine the voxels that belong to the those tracts in the scan? Looks weird to me…</p>
<p>It also doesn’t look like it was just autoPtx sunning out of time… yeah, I checked some of the output from above and I find it hard to believe that CST_L was only found in 2 out of the 565 scans… what’s going on?</p>
<h1 id="section-10">2019-03-08 18:45:04</h1>
<p>Still not sure of what’s going on… it’s not a permissions issue (I did one of the new subjects all under my account), it’s not my scripts screwing it up (I ran FDT and autoPtx by themselves), and it’s not the bedpostx model either (I tried n = 1 and model 2). I still get cgc, cst as 0… maybe there’s something wrong with the transform? Or maybe the coverage of those areas?</p>
<p>I could also try running the averaging script for well-know tracts to to check for sanity.</p>
<h1 id="section-11">2019-03-14 15:46:11</h1>
<div class="sourceCode" id="cb23"><pre class="sourceCode bash"><code class="sourceCode bash"><a class="sourceLine" id="cb23-1" data-line-number="1"><span class="va">mydir=</span>/lscratch/<span class="va">${SLURM_JOBID}</span>/</a>
<a class="sourceLine" id="cb23-2" data-line-number="2"><span class="va">weighted_tracts=</span>pnc_weighted_tracts.csv;</a>
<a class="sourceLine" id="cb23-3" data-line-number="3"><span class="co"># copying everything locally first to avoid racing conditions</span></a>
<a class="sourceLine" id="cb23-4" data-line-number="4"><span class="bu">cd</span> <span class="va">$mydir</span></a>
<a class="sourceLine" id="cb23-5" data-line-number="5"><span class="fu">cp</span> /data/NCR_SBRB/software/autoPtx/structureList .</a>
<a class="sourceLine" id="cb23-6" data-line-number="6"><span class="va">row=</span><span class="st">&quot;id&quot;</span>;</a>
<a class="sourceLine" id="cb23-7" data-line-number="7"><span class="kw">for</span> <span class="ex">t</span> in <span class="kw">`</span><span class="fu">cut</span> -d<span class="st">&quot; &quot;</span> -f 1 structureList<span class="kw">`;</span> <span class="kw">do</span></a>
<a class="sourceLine" id="cb23-8" data-line-number="8">    <span class="kw">for</span> <span class="ex">m</span> in fa ad rd<span class="kw">;</span> <span class="kw">do</span></a>
<a class="sourceLine" id="cb23-9" data-line-number="9">        <span class="va">row=${row}</span><span class="st">&#39;,&#39;</span><span class="va">${t}</span>_<span class="va">${m}</span>;</a>
<a class="sourceLine" id="cb23-10" data-line-number="10">    <span class="kw">done</span></a>
<a class="sourceLine" id="cb23-11" data-line-number="11"><span class="kw">done</span></a>
<a class="sourceLine" id="cb23-12" data-line-number="12"><span class="bu">echo</span> <span class="va">$row</span> <span class="op">&gt;</span> <span class="va">$weighted_tracts</span><span class="kw">;</span></a>
<a class="sourceLine" id="cb23-13" data-line-number="13"><span class="kw">for</span> <span class="ex">m</span> in <span class="kw">`</span><span class="fu">head</span> -n 4 /data/NCR_SBRB/pnc/dti_fdt/converted.txt<span class="kw">`;</span> <span class="kw">do</span></a>
<a class="sourceLine" id="cb23-14" data-line-number="14">    <span class="bu">echo</span> <span class="va">${m}</span></a>
<a class="sourceLine" id="cb23-15" data-line-number="15">    <span class="fu">rm</span> -rf preproc tracts</a>
<a class="sourceLine" id="cb23-16" data-line-number="16">    <span class="fu">mkdir</span> preproc tracts</a>
<a class="sourceLine" id="cb23-17" data-line-number="17">    <span class="fu">cp</span> /data/NCR_SBRB/pnc/dti_fdt/preproc/<span class="va">${m}</span>/dti_??.nii.gz preproc/</a>
<a class="sourceLine" id="cb23-18" data-line-number="18">    <span class="fu">cp</span> -r /data/NCR_SBRB/pnc/dti_fdt/tracts/<span class="va">${m}</span>/* tracts/</a>
<a class="sourceLine" id="cb23-19" data-line-number="19">    <span class="va">row=</span><span class="st">&quot;</span><span class="va">${m}</span><span class="st">&quot;</span>;</a>
<a class="sourceLine" id="cb23-20" data-line-number="20">    <span class="kw">for</span> <span class="ex">t</span> in <span class="kw">`</span><span class="fu">cut</span> -d<span class="st">&quot; &quot;</span> -f 1 structureList<span class="kw">`;</span> <span class="kw">do</span></a>
<a class="sourceLine" id="cb23-21" data-line-number="21">        <span class="kw">if</span><span class="bu"> [</span> <span class="ot">-e</span> tracts/<span class="va">${t}</span>/tracts/tractsNorm.nii.gz<span class="bu"> ]</span>; <span class="kw">then</span></a>
<a class="sourceLine" id="cb23-22" data-line-number="22">            <span class="co"># tract mask is higher dimension!</span></a>
<a class="sourceLine" id="cb23-23" data-line-number="23">            <span class="ex">3dresample</span> -master preproc/dti_FA.nii.gz -prefix ./mask.nii \</a>
<a class="sourceLine" id="cb23-24" data-line-number="24">                -inset tracts/<span class="va">${t}</span>/tracts/tractsNorm.nii.gz \</a>
<a class="sourceLine" id="cb23-25" data-line-number="25">                -rmode NN -overwrite <span class="kw">&amp;&amp;</span></a>
<a class="sourceLine" id="cb23-26" data-line-number="26">            <span class="va">avg=</span><span class="kw">`</span><span class="ex">3dmaskave</span> -quiet mask.nii <span class="op">2&gt;</span>/dev/null<span class="kw">`</span> <span class="kw">&amp;&amp;</span></a>
<a class="sourceLine" id="cb23-27" data-line-number="27">            <span class="kw">if</span><span class="bu"> [</span> <span class="va">$avg</span> <span class="ot">!=</span> 0<span class="bu"> ]</span>; <span class="kw">then</span></a>
<a class="sourceLine" id="cb23-28" data-line-number="28">                <span class="va">fa=</span><span class="kw">`</span><span class="ex">3dmaskave</span> -q -mask ./mask.nii preproc/dti_FA.nii.gz<span class="kw">`</span> <span class="kw">&amp;&amp;</span></a>
<a class="sourceLine" id="cb23-29" data-line-number="29">                <span class="va">ad=</span><span class="kw">`</span><span class="ex">3dmaskave</span> -q -mask ./mask.nii preproc/dti_L1.nii.gz<span class="kw">`</span> <span class="kw">&amp;&amp;</span></a>
<a class="sourceLine" id="cb23-30" data-line-number="30">                <span class="ex">3dcalc</span> -a preproc/dti_L2.nii.gz -b preproc/dti_L3.nii.gz \</a>
<a class="sourceLine" id="cb23-31" data-line-number="31">                    -expr <span class="st">&quot;(a + b) / 2&quot;</span> -prefix ./RD.nii <span class="kw">&amp;&amp;</span></a>
<a class="sourceLine" id="cb23-32" data-line-number="32">                <span class="va">rd=</span><span class="kw">`</span><span class="ex">3dmaskave</span> -q -mask ./mask.nii ./RD.nii<span class="kw">`</span> <span class="kw">&amp;&amp;</span></a>
<a class="sourceLine" id="cb23-33" data-line-number="33">                <span class="va">row=${row}</span><span class="st">&#39;,&#39;</span><span class="va">${fa}</span><span class="st">&#39;,&#39;</span><span class="va">${ad}</span><span class="st">&#39;,&#39;</span><span class="va">${rd}</span>;</a>
<a class="sourceLine" id="cb23-34" data-line-number="34">            <span class="kw">else</span></a>
<a class="sourceLine" id="cb23-35" data-line-number="35">                <span class="co"># found nothing in the mask!</span></a>
<a class="sourceLine" id="cb23-36" data-line-number="36">                <span class="va">row=${row}</span><span class="st">&#39;,NA,NA,NA&#39;</span>;</a>
<a class="sourceLine" id="cb23-37" data-line-number="37">            <span class="kw">fi</span></a>
<a class="sourceLine" id="cb23-38" data-line-number="38">            <span class="fu">rm</span> <span class="va">${mydir}</span>/*nii<span class="kw">;</span></a>
<a class="sourceLine" id="cb23-39" data-line-number="39">        <span class="kw">else</span></a>
<a class="sourceLine" id="cb23-40" data-line-number="40">            <span class="va">row=${row}</span><span class="st">&#39;,NA,NA,NA&#39;</span>;</a>
<a class="sourceLine" id="cb23-41" data-line-number="41">        <span class="kw">fi</span>;</a>
<a class="sourceLine" id="cb23-42" data-line-number="42">    <span class="kw">done</span></a>
<a class="sourceLine" id="cb23-43" data-line-number="43">    <span class="bu">echo</span> <span class="va">$row</span> <span class="op">&gt;&gt;</span> <span class="va">$weighted_tracts</span><span class="kw">;</span></a>
<a class="sourceLine" id="cb23-44" data-line-number="44"><span class="kw">done</span></a></code></pre></div>
<p>The other tracts look reasonable, but I’m not getting anything for CST, which is quite weird. Let see if we can visualize the transform again…</p>
<h1 id="section-12">2019-03-25 16:20:56</h1>
<p>I sent an e-mail to the FSL list but nothing. Ryan gave a good idea to check for Y flips, and that’s what I’m doing. I ran the FATCAT tool and it actually suggested a Y flip.</p>
<p>https://afni.nimh.nih.gov/pub/dist/doc/htmldoc/FATCAT/GradFlipTest.html</p>
<p>It does so by trying all possible flips, and reporting the one that yields the most tracts overall (by a lot, like 2 or 3 times the others).</p>
<div class="sourceCode" id="cb24"><pre class="sourceCode bash"><code class="sourceCode bash"><a class="sourceLine" id="cb24-1" data-line-number="1"><span class="ex">@GradFlipTest</span> -in_dwi eddy_s2v_unwarped_images.nii.gz -in_row_vec eddy_s2v_unwarped_images.eddy_rotated_bvecs -in_bvals dwi_bval.dat</a>
<a class="sourceLine" id="cb24-2" data-line-number="2"><span class="ex">1dDW_Grad_o_Mat++</span> -in_row_vec eddy_s2v_unwarped_images.eddy_rotated_bvecs -out_row_vec bvecs <span class="kw">`</span><span class="fu">cat</span> GradFlipTest_rec.txt<span class="kw">`</span></a></code></pre></div>
<p>So, I’m actually running a test of doing the flip before and after eddy. When I did it before eddy, the eddy result didn’t look like it needed the flip, which is encouraging. I’m now running bedpostX in both test cases, and seeing if it makes a difference. Ideally, I’ll get the same result in both, and I’ll only need to flip the results of eddy, and redo bedpostX for everything. It could also happen that I’ll need to re-run eddy for everything. Worst case scenario is that neither one makes a difference, in which case I’m back to waiting for an answer from FSL folks.</p>
<h1 id="section-13">2019-03-26 08:26:05</h1>
<p>Well, still not working. Let’s try to repeat all steps slowly, including isomorphic sampling and grad flip, as a last resort…</p>
<div class="sourceCode" id="cb25"><pre class="sourceCode bash"><code class="sourceCode bash"><a class="sourceLine" id="cb25-1" data-line-number="1"><span class="va">s=</span>605235766122;</a>
<a class="sourceLine" id="cb25-2" data-line-number="2"><span class="bu">cd</span> ~/data/tmp</a>
<a class="sourceLine" id="cb25-3" data-line-number="3"><span class="fu">mkdir</span> <span class="va">${s}</span></a>
<a class="sourceLine" id="cb25-4" data-line-number="4"><span class="bu">cd</span> <span class="va">${s}</span></a>
<a class="sourceLine" id="cb25-5" data-line-number="5"><span class="fu">tar</span> -zxf /data/NCR_SBRB/pnc/<span class="va">${s}</span>_1.tar.gz</a>
<a class="sourceLine" id="cb25-6" data-line-number="6"><span class="ex">module</span> load CUDA/7.5</a>
<a class="sourceLine" id="cb25-7" data-line-number="7"><span class="ex">module</span> load fsl</a>
<a class="sourceLine" id="cb25-8" data-line-number="8"><span class="ex">module</span> load afni</a>
<a class="sourceLine" id="cb25-9" data-line-number="9"></a>
<a class="sourceLine" id="cb25-10" data-line-number="10"><span class="ex">fat_proc_convert_dcm_dwis</span> \</a>
<a class="sourceLine" id="cb25-11" data-line-number="11">    -indir  <span class="st">&quot;</span><span class="va">${s}</span><span class="st">/DTI_35dir/* </span><span class="va">${s}</span><span class="st">/DTI_36dir/*&quot;</span> \</a>
<a class="sourceLine" id="cb25-12" data-line-number="12">    -prefix dwi -no_qc_view</a>
<a class="sourceLine" id="cb25-13" data-line-number="13"><span class="fu">rm</span> -rf <span class="va">${s}</span></a>
<a class="sourceLine" id="cb25-14" data-line-number="14"></a>
<a class="sourceLine" id="cb25-15" data-line-number="15"><span class="co"># flipping vectors and isomorphic sampling right away</span></a>
<a class="sourceLine" id="cb25-16" data-line-number="16"><span class="ex">3dresample</span> -dxyz 1.875 1.875 1.875 -prefix dwi.nii.gz \</a>
<a class="sourceLine" id="cb25-17" data-line-number="17">    -input dwi.nii.gz -overwrite</a>
<a class="sourceLine" id="cb25-18" data-line-number="18"><span class="ex">@GradFlipTest</span> -in_dwi dwi.nii.gz \</a>
<a class="sourceLine" id="cb25-19" data-line-number="19">    -in_row_vec dwi_rvec.dat -in_bvals dwi_bval.dat</a>
<a class="sourceLine" id="cb25-20" data-line-number="20"><span class="ex">1dDW_Grad_o_Mat++</span> -in_row_vec dwi_rvec.dat \</a>
<a class="sourceLine" id="cb25-21" data-line-number="21">    -out_row_vec bvecs <span class="kw">`</span><span class="fu">cat</span> GradFlipTest_rec.txt<span class="kw">`</span></a>
<a class="sourceLine" id="cb25-22" data-line-number="22"></a>
<a class="sourceLine" id="cb25-23" data-line-number="23"><span class="co"># FSL takes bvecs in the 3 x volumes format</span></a>
<a class="sourceLine" id="cb25-24" data-line-number="24"><span class="ex">fslroi</span> dwi b0 0 1</a>
<a class="sourceLine" id="cb25-25" data-line-number="25"><span class="ex">bet</span> b0 b0_brain -m -f 0.2</a>
<a class="sourceLine" id="cb25-26" data-line-number="26"><span class="va">idx=</span><span class="st">&#39;&#39;</span>; <span class="kw">for</span> <span class="ex">i</span> in <span class="dt">{1..71}</span><span class="kw">;</span> <span class="kw">do</span> </a>
<a class="sourceLine" id="cb25-27" data-line-number="27">    <span class="va">a=$a</span><span class="st">&#39; &#39;</span>1;</a>
<a class="sourceLine" id="cb25-28" data-line-number="28"><span class="kw">done</span>;</a>
<a class="sourceLine" id="cb25-29" data-line-number="29"><span class="bu">echo</span> <span class="va">$a</span> <span class="op">&gt;</span> index.txt</a>
<a class="sourceLine" id="cb25-30" data-line-number="30"><span class="bu">echo</span> <span class="st">&quot;0 -1 0 0.102&quot;</span> <span class="op">&gt;</span> acqparams.txt</a>
<a class="sourceLine" id="cb25-31" data-line-number="31"></a>
<a class="sourceLine" id="cb25-32" data-line-number="32"><span class="fu">cp</span> /data/NCR_SBRB/pnc/dti_fdt/my_slspec.txt ./</a>
<a class="sourceLine" id="cb25-33" data-line-number="33"><span class="ex">eddy_cuda</span> --imain=dwi --acqp=acqparams.txt --index=index.txt \</a>
<a class="sourceLine" id="cb25-34" data-line-number="34">    --mask=b0_brain_mask --bvals=dwi_bval.dat --bvecs=bvecs \</a>
<a class="sourceLine" id="cb25-35" data-line-number="35">    --out=eddy_s2v_unwarped_images --repol</a>
<a class="sourceLine" id="cb25-36" data-line-number="36"></a>
<a class="sourceLine" id="cb25-37" data-line-number="37"><span class="fu">cp</span> eddy_s2v_unwarped_images.nii.gz data.nii.gz<span class="kw">;</span></a>
<a class="sourceLine" id="cb25-38" data-line-number="38"><span class="fu">cp</span> dwi_bval.dat bvals<span class="kw">;</span></a>
<a class="sourceLine" id="cb25-39" data-line-number="39"><span class="fu">cp</span> bvecs old_bvecs</a>
<a class="sourceLine" id="cb25-40" data-line-number="40"><span class="fu">cp</span> eddy_s2v_unwarped_images.eddy_rotated_bvecs bvecs<span class="kw">;</span></a>
<a class="sourceLine" id="cb25-41" data-line-number="41"><span class="fu">cp</span> b0_brain_mask.nii.gz nodif_brain_mask.nii.gz<span class="kw">;</span></a>
<a class="sourceLine" id="cb25-42" data-line-number="42"></a>
<a class="sourceLine" id="cb25-43" data-line-number="43"><span class="bu">cd</span> ../</a>
<a class="sourceLine" id="cb25-44" data-line-number="44"><span class="ex">/data/NCR_SBRB/software/autoPtx/autoPtx_1_preproc</span> <span class="va">${s}</span>/data.nii.gz</a>
<a class="sourceLine" id="cb25-45" data-line-number="45"><span class="ex">/data/NCR_SBRB/software/autoPtx/autoPtx_2_launchTractography</span></a></code></pre></div>
<p>Still, no luck… what if we erode the mask?</p>
<div class="sourceCode" id="cb26"><pre class="sourceCode bash"><code class="sourceCode bash"><a class="sourceLine" id="cb26-1" data-line-number="1"><span class="va">s=</span>605235766122;</a>
<a class="sourceLine" id="cb26-2" data-line-number="2"><span class="bu">cd</span> ~/data/tmp</a>
<a class="sourceLine" id="cb26-3" data-line-number="3"><span class="fu">mkdir</span> <span class="va">${s}</span></a>
<a class="sourceLine" id="cb26-4" data-line-number="4"><span class="bu">cd</span> <span class="va">${s}</span></a>
<a class="sourceLine" id="cb26-5" data-line-number="5"><span class="fu">tar</span> -zxf /data/NCR_SBRB/pnc/<span class="va">${s}</span>_1.tar.gz</a>
<a class="sourceLine" id="cb26-6" data-line-number="6"><span class="ex">module</span> load CUDA/7.5</a>
<a class="sourceLine" id="cb26-7" data-line-number="7"><span class="ex">module</span> load fsl</a>
<a class="sourceLine" id="cb26-8" data-line-number="8"><span class="ex">module</span> load afni</a>
<a class="sourceLine" id="cb26-9" data-line-number="9"></a>
<a class="sourceLine" id="cb26-10" data-line-number="10"><span class="ex">fat_proc_convert_dcm_dwis</span> \</a>
<a class="sourceLine" id="cb26-11" data-line-number="11">    -indir  <span class="st">&quot;</span><span class="va">${s}</span><span class="st">/DTI_35dir/* </span><span class="va">${s}</span><span class="st">/DTI_36dir/*&quot;</span> \</a>
<a class="sourceLine" id="cb26-12" data-line-number="12">    -prefix dwi -no_qc_view</a>
<a class="sourceLine" id="cb26-13" data-line-number="13"><span class="fu">rm</span> -rf <span class="va">${s}</span></a>
<a class="sourceLine" id="cb26-14" data-line-number="14"></a>
<a class="sourceLine" id="cb26-15" data-line-number="15"><span class="co"># flipping vectors and isomorphic sampling right away</span></a>
<a class="sourceLine" id="cb26-16" data-line-number="16"><span class="ex">3dresample</span> -dxyz 1.875 1.875 1.875 -prefix dwi.nii.gz \</a>
<a class="sourceLine" id="cb26-17" data-line-number="17">    -input dwi.nii.gz -overwrite</a>
<a class="sourceLine" id="cb26-18" data-line-number="18"><span class="ex">@GradFlipTest</span> -in_dwi dwi.nii.gz \</a>
<a class="sourceLine" id="cb26-19" data-line-number="19">    -in_row_vec dwi_rvec.dat -in_bvals dwi_bval.dat</a>
<a class="sourceLine" id="cb26-20" data-line-number="20"><span class="ex">1dDW_Grad_o_Mat++</span> -in_row_vec dwi_rvec.dat \</a>
<a class="sourceLine" id="cb26-21" data-line-number="21">    -out_row_vec bvecs <span class="kw">`</span><span class="fu">cat</span> GradFlipTest_rec.txt<span class="kw">`</span></a>
<a class="sourceLine" id="cb26-22" data-line-number="22"></a>
<a class="sourceLine" id="cb26-23" data-line-number="23"><span class="co"># FSL takes bvecs in the 3 x volumes format</span></a>
<a class="sourceLine" id="cb26-24" data-line-number="24"><span class="ex">fslroi</span> dwi b0 0 1</a>
<a class="sourceLine" id="cb26-25" data-line-number="25"><span class="ex">bet</span> b0 b0_brain -m -f 0.2</a>
<a class="sourceLine" id="cb26-26" data-line-number="26"></a>
<a class="sourceLine" id="cb26-27" data-line-number="27"><span class="co">#eroding</span></a>
<a class="sourceLine" id="cb26-28" data-line-number="28"><span class="va">f=</span>b0_brain_mask</a>
<a class="sourceLine" id="cb26-29" data-line-number="29"><span class="va">X=</span><span class="kw">`</span><span class="va">${FSLDIR}</span><span class="ex">/bin/fslval</span> <span class="va">$f</span> dim1<span class="kw">`</span>; <span class="va">X=</span><span class="kw">`</span><span class="bu">echo</span> <span class="st">&quot;</span><span class="va">$X</span><span class="st"> 2 - p&quot;</span> <span class="kw">|</span> <span class="fu">dc</span> -<span class="kw">`</span></a>
<a class="sourceLine" id="cb26-30" data-line-number="30"><span class="va">Y=</span><span class="kw">`</span><span class="va">${FSLDIR}</span><span class="ex">/bin/fslval</span> <span class="va">$f</span> dim2<span class="kw">`</span>; <span class="va">Y=</span><span class="kw">`</span><span class="bu">echo</span> <span class="st">&quot;</span><span class="va">$Y</span><span class="st"> 2 - p&quot;</span> <span class="kw">|</span> <span class="fu">dc</span> -<span class="kw">`</span></a>
<a class="sourceLine" id="cb26-31" data-line-number="31"><span class="va">Z=</span><span class="kw">`</span><span class="va">${FSLDIR}</span><span class="ex">/bin/fslval</span> <span class="va">$f</span> dim3<span class="kw">`</span>; <span class="va">Z=</span><span class="kw">`</span><span class="bu">echo</span> <span class="st">&quot;</span><span class="va">$Z</span><span class="st"> 2 - p&quot;</span> <span class="kw">|</span> <span class="fu">dc</span> -<span class="kw">`</span></a>
<a class="sourceLine" id="cb26-32" data-line-number="32"><span class="va">$FSLDIR</span><span class="ex">/bin/fslmaths</span> <span class="va">$f</span> -min 1 -ero -roi 1 <span class="va">$X</span> 1 <span class="va">$Y</span> 1 <span class="va">$Z</span> 0 1 <span class="va">${f}</span>_eroded</a>
<a class="sourceLine" id="cb26-33" data-line-number="33"></a>
<a class="sourceLine" id="cb26-34" data-line-number="34"><span class="va">idx=</span><span class="st">&#39;&#39;</span>; <span class="kw">for</span> <span class="ex">i</span> in <span class="dt">{1..71}</span><span class="kw">;</span> <span class="kw">do</span></a>
<a class="sourceLine" id="cb26-35" data-line-number="35">    <span class="va">a=$a</span><span class="st">&#39; &#39;</span>1;</a>
<a class="sourceLine" id="cb26-36" data-line-number="36"><span class="kw">done</span>;</a>
<a class="sourceLine" id="cb26-37" data-line-number="37"><span class="bu">echo</span> <span class="va">$a</span> <span class="op">&gt;</span> index.txt</a>
<a class="sourceLine" id="cb26-38" data-line-number="38"><span class="bu">echo</span> <span class="st">&quot;0 -1 0 0.102&quot;</span> <span class="op">&gt;</span> acqparams.txt</a>
<a class="sourceLine" id="cb26-39" data-line-number="39"></a>
<a class="sourceLine" id="cb26-40" data-line-number="40"><span class="fu">cp</span> /data/NCR_SBRB/pnc/dti_fdt/my_slspec.txt ./</a>
<a class="sourceLine" id="cb26-41" data-line-number="41"><span class="ex">eddy_cuda</span> --imain=dwi --acqp=acqparams.txt --index=index.txt \</a>
<a class="sourceLine" id="cb26-42" data-line-number="42">    --mask=b0_brain_mask_eroded --bvals=dwi_bval.dat --bvecs=bvecs \</a>
<a class="sourceLine" id="cb26-43" data-line-number="43">    --out=eddy_s2v_unwarped_images --repol</a>
<a class="sourceLine" id="cb26-44" data-line-number="44"></a>
<a class="sourceLine" id="cb26-45" data-line-number="45"><span class="fu">cp</span> eddy_s2v_unwarped_images.nii.gz data.nii.gz<span class="kw">;</span></a>
<a class="sourceLine" id="cb26-46" data-line-number="46"><span class="fu">cp</span> dwi_bval.dat bvals<span class="kw">;</span></a>
<a class="sourceLine" id="cb26-47" data-line-number="47"><span class="fu">cp</span> bvecs old_bvecs</a>
<a class="sourceLine" id="cb26-48" data-line-number="48"><span class="fu">cp</span> eddy_s2v_unwarped_images.eddy_rotated_bvecs bvecs<span class="kw">;</span></a>
<a class="sourceLine" id="cb26-49" data-line-number="49"><span class="fu">cp</span> b0_brain_mask_eroded.nii.gz nodif_brain_mask.nii.gz<span class="kw">;</span></a>
<a class="sourceLine" id="cb26-50" data-line-number="50"></a>
<a class="sourceLine" id="cb26-51" data-line-number="51"><span class="bu">cd</span> ../</a>
<a class="sourceLine" id="cb26-52" data-line-number="52"><span class="ex">/data/NCR_SBRB/software/autoPtx/autoPtx_1_preproc</span> <span class="va">${s}</span>/data.nii.gz</a>
<a class="sourceLine" id="cb26-53" data-line-number="53"><span class="ex">/data/NCR_SBRB/software/autoPtx/autoPtx_2_launchTractography</span></a></code></pre></div>
<div class="sourceCode" id="cb27"><pre class="sourceCode bash"><code class="sourceCode bash"><a class="sourceLine" id="cb27-1" data-line-number="1"><span class="ex">fslreorient2std</span> dwi dwi_reorient</a>
<a class="sourceLine" id="cb27-2" data-line-number="2"><span class="co">#just checking directions</span></a>
<a class="sourceLine" id="cb27-3" data-line-number="3"><span class="va">$FSLDIR</span><span class="ex">/bin/dtifit</span> --sse -k dwi -o dti -m b0_brain_mask_eroded \</a>
<a class="sourceLine" id="cb27-4" data-line-number="4">    -r dwi_rvec.dat -b dwi_bval.dat</a></code></pre></div>
<p>I thin just doing the standard flip should do it? Not even eroding the mask, because the mask for the sample data subject doesn’t look that clean either. Let’s see:</p>
<div class="sourceCode" id="cb28"><pre class="sourceCode bash"><code class="sourceCode bash"><a class="sourceLine" id="cb28-1" data-line-number="1"><span class="va">s=</span>605235766122;</a>
<a class="sourceLine" id="cb28-2" data-line-number="2"><span class="bu">cd</span> ~/data/tmp</a>
<a class="sourceLine" id="cb28-3" data-line-number="3"><span class="fu">mkdir</span> <span class="va">${s}</span></a>
<a class="sourceLine" id="cb28-4" data-line-number="4"><span class="bu">cd</span> <span class="va">${s}</span></a>
<a class="sourceLine" id="cb28-5" data-line-number="5"><span class="fu">tar</span> -zxf /data/NCR_SBRB/pnc/<span class="va">${s}</span>_1.tar.gz</a>
<a class="sourceLine" id="cb28-6" data-line-number="6"><span class="ex">module</span> load CUDA/7.5</a>
<a class="sourceLine" id="cb28-7" data-line-number="7"><span class="ex">module</span> load fsl</a>
<a class="sourceLine" id="cb28-8" data-line-number="8"><span class="ex">module</span> load afni</a>
<a class="sourceLine" id="cb28-9" data-line-number="9"></a>
<a class="sourceLine" id="cb28-10" data-line-number="10"><span class="ex">fat_proc_convert_dcm_dwis</span> \</a>
<a class="sourceLine" id="cb28-11" data-line-number="11">    -indir  <span class="st">&quot;</span><span class="va">${s}</span><span class="st">/DTI_35dir/* </span><span class="va">${s}</span><span class="st">/DTI_36dir/*&quot;</span> \</a>
<a class="sourceLine" id="cb28-12" data-line-number="12">    -prefix dwi -no_qc_view</a>
<a class="sourceLine" id="cb28-13" data-line-number="13"><span class="fu">rm</span> -rf <span class="va">${s}</span></a>
<a class="sourceLine" id="cb28-14" data-line-number="14"><span class="ex">fslreorient2std</span> dwi dwi_reorient</a>
<a class="sourceLine" id="cb28-15" data-line-number="15"><span class="ex">immv</span> dwi_reorient dwi</a>
<a class="sourceLine" id="cb28-16" data-line-number="16"></a>
<a class="sourceLine" id="cb28-17" data-line-number="17"><span class="co"># FSL takes bvecs in the 3 x volumes format</span></a>
<a class="sourceLine" id="cb28-18" data-line-number="18"><span class="ex">fslroi</span> dwi b0 0 1</a>
<a class="sourceLine" id="cb28-19" data-line-number="19"><span class="ex">bet</span> b0 b0_brain -m -f 0.2</a>
<a class="sourceLine" id="cb28-20" data-line-number="20"></a>
<a class="sourceLine" id="cb28-21" data-line-number="21"><span class="va">idx=</span><span class="st">&#39;&#39;</span>; <span class="kw">for</span> <span class="ex">i</span> in <span class="dt">{1..71}</span><span class="kw">;</span> <span class="kw">do</span></a>
<a class="sourceLine" id="cb28-22" data-line-number="22">    <span class="va">a=$a</span><span class="st">&#39; &#39;</span>1;</a>
<a class="sourceLine" id="cb28-23" data-line-number="23"><span class="kw">done</span>;</a>
<a class="sourceLine" id="cb28-24" data-line-number="24"><span class="bu">echo</span> <span class="va">$a</span> <span class="op">&gt;</span> index.txt</a>
<a class="sourceLine" id="cb28-25" data-line-number="25"><span class="bu">echo</span> <span class="st">&quot;0 -1 0 0.102&quot;</span> <span class="op">&gt;</span> acqparams.txt</a>
<a class="sourceLine" id="cb28-26" data-line-number="26"></a>
<a class="sourceLine" id="cb28-27" data-line-number="27"><span class="fu">cp</span> /data/NCR_SBRB/pnc/dti_fdt/my_slspec.txt ./</a>
<a class="sourceLine" id="cb28-28" data-line-number="28"><span class="co"># eddy_cuda --imain=dwi --acqp=acqparams.txt --index=index.txt \</span></a>
<a class="sourceLine" id="cb28-29" data-line-number="29">#     <span class="ex">--mask</span>=b0_brain_mask --bvals=dwi_bval.dat --bvecs=dwi_rvec.dat \</a>
<a class="sourceLine" id="cb28-30" data-line-number="30">#     --out=eddy_s2v_unwarped_images --repol</a>
<a class="sourceLine" id="cb28-31" data-line-number="31"></a>
<a class="sourceLine" id="cb28-32" data-line-number="32"><span class="ex">eddy_cuda</span> --imain=dwi --acqp=acqparams.txt --index=index.txt \</a>
<a class="sourceLine" id="cb28-33" data-line-number="33">    --mask=b0_brain_mask --bvals=dwi_bval.dat --bvecs=dwi_rvec.dat \</a>
<a class="sourceLine" id="cb28-34" data-line-number="34">    --out=eddy_s2v_unwarped_images --niter=8 --fwhm=10,6,4,2,0,0,0,0 \</a>
<a class="sourceLine" id="cb28-35" data-line-number="35">    --repol --ol_type=both --mporder=8 --s2v_niter=8 \</a>
<a class="sourceLine" id="cb28-36" data-line-number="36">    --slspec=my_slspec.txt --cnr_maps</a>
<a class="sourceLine" id="cb28-37" data-line-number="37"></a>
<a class="sourceLine" id="cb28-38" data-line-number="38"><span class="fu">cp</span> eddy_s2v_unwarped_images.nii.gz data.nii.gz<span class="kw">;</span></a>
<a class="sourceLine" id="cb28-39" data-line-number="39"><span class="fu">cp</span> dwi_bval.dat bvals<span class="kw">;</span></a>
<a class="sourceLine" id="cb28-40" data-line-number="40"><span class="fu">cp</span> eddy_s2v_unwarped_images.eddy_rotated_bvecs bvecs<span class="kw">;</span></a>
<a class="sourceLine" id="cb28-41" data-line-number="41"><span class="fu">cp</span> b0_brain_mask.nii.gz nodif_brain_mask.nii.gz<span class="kw">;</span></a>
<a class="sourceLine" id="cb28-42" data-line-number="42"></a>
<a class="sourceLine" id="cb28-43" data-line-number="43"><span class="bu">cd</span> ../</a>
<a class="sourceLine" id="cb28-44" data-line-number="44"><span class="ex">/data/NCR_SBRB/software/autoPtx/autoPtx_1_preproc</span> <span class="va">${s}</span>/data.nii.gz</a>
<a class="sourceLine" id="cb28-45" data-line-number="45"></a>
<a class="sourceLine" id="cb28-46" data-line-number="46"><span class="co">### later</span></a>
<a class="sourceLine" id="cb28-47" data-line-number="47"></a>
<a class="sourceLine" id="cb28-48" data-line-number="48"><span class="ex">/data/NCR_SBRB/software/autoPtx/autoPtx_2_launchTractography</span></a></code></pre></div>
<h1 id="section-14">2019-03-27 11:10:15</h1>
<p>OK, so this is working! So, the main thing was the fslreorient2std bit. So, let’s implement that in the script and run everybody!</p>
<h1 id="section-15">2019-03-29 16:45:38</h1>
<p>Since we have new data that is working now, let’s regenerate the QC images. The brainmask is the only one that we actually run before eddy. Because I already ran eddy, let’s do it manually here:</p>
<div class="sourceCode" id="cb29"><pre class="sourceCode bash"><code class="sourceCode bash"><a class="sourceLine" id="cb29-1" data-line-number="1"><span class="bu">cd</span> /data/NCR_SBRB/pnc/dti_fdt</a>
<a class="sourceLine" id="cb29-2" data-line-number="2"><span class="kw">for</span> <span class="ex">m</span> in <span class="kw">`</span><span class="fu">cat</span> converted.txt<span class="kw">`;</span> <span class="kw">do</span></a>
<a class="sourceLine" id="cb29-3" data-line-number="3">    <span class="bu">cd</span> /data/NCR_SBRB/pnc/dti_fdt/<span class="va">${m}</span></a>
<a class="sourceLine" id="cb29-4" data-line-number="4">    <span class="fu">mkdir</span> QC</a>
<a class="sourceLine" id="cb29-5" data-line-number="5">    <span class="ex">@chauffeur_afni</span>                             \</a>
<a class="sourceLine" id="cb29-6" data-line-number="6">        -ulay  dwi.nii.gz[0]                         \</a>
<a class="sourceLine" id="cb29-7" data-line-number="7">        -olay  b0_brain_mask.nii.gz                        \</a>
<a class="sourceLine" id="cb29-8" data-line-number="8">        -opacity 4                              \</a>
<a class="sourceLine" id="cb29-9" data-line-number="9">        -prefix   QC/brain_mask              \</a>
<a class="sourceLine" id="cb29-10" data-line-number="10">        -montx 6 -monty 6                       \</a>
<a class="sourceLine" id="cb29-11" data-line-number="11">        -set_xhairs OFF                         \</a>
<a class="sourceLine" id="cb29-12" data-line-number="12">        -label_mode 1 -label_size 3             \</a>
<a class="sourceLine" id="cb29-13" data-line-number="13">        -do_clean</a>
<a class="sourceLine" id="cb29-14" data-line-number="14"><span class="kw">done</span></a></code></pre></div>
<p>Then, the other processing/QC images:</p>
<div class="sourceCode" id="cb30"><pre class="sourceCode bash"><code class="sourceCode bash"><a class="sourceLine" id="cb30-1" data-line-number="1"><span class="bu">cd</span> /data/NCR_SBRB/pnc/dti_fdt</a>
<a class="sourceLine" id="cb30-2" data-line-number="2"><span class="kw">for</span> <span class="ex">m</span> in <span class="kw">`</span><span class="fu">cat</span> converted.txt<span class="kw">`;</span> <span class="kw">do</span></a>
<a class="sourceLine" id="cb30-3" data-line-number="3">    <span class="fu">bash</span> ~/research_code/dti/fdt_TBSS_and_QC.sh /data/NCR_SBRB/pnc/dti_fdt/preproc/<span class="va">${m}</span><span class="kw">;</span></a>
<a class="sourceLine" id="cb30-4" data-line-number="4"><span class="kw">done</span></a></code></pre></div>
<h1 id="section-16">2019-03-31 11:43:32</h1>
<p>And we finish by gathering the tract values:</p>
<div class="sourceCode" id="cb31"><pre class="sourceCode bash"><code class="sourceCode bash"><a class="sourceLine" id="cb31-1" data-line-number="1"><span class="va">mydir=</span>/lscratch/<span class="va">${SLURM_JOBID}</span>/</a>
<a class="sourceLine" id="cb31-2" data-line-number="2"><span class="va">weighted_tracts=</span>~/tmp/pnc_weighted_tracts.csv;</a>
<a class="sourceLine" id="cb31-3" data-line-number="3"><span class="va">row=</span><span class="st">&quot;id&quot;</span>;</a>
<a class="sourceLine" id="cb31-4" data-line-number="4"><span class="kw">for</span> <span class="ex">t</span> in <span class="kw">`</span><span class="fu">cut</span> -d<span class="st">&quot; &quot;</span> -f 1 /data/NCR_SBRB/software/autoPtx/structureList<span class="kw">`;</span> <span class="kw">do</span></a>
<a class="sourceLine" id="cb31-5" data-line-number="5">    <span class="kw">for</span> <span class="ex">m</span> in fa ad rd<span class="kw">;</span> <span class="kw">do</span></a>
<a class="sourceLine" id="cb31-6" data-line-number="6">        <span class="va">row=${row}</span><span class="st">&#39;,&#39;</span><span class="va">${t}</span>_<span class="va">${m}</span>;</a>
<a class="sourceLine" id="cb31-7" data-line-number="7">    <span class="kw">done</span></a>
<a class="sourceLine" id="cb31-8" data-line-number="8"><span class="kw">done</span></a>
<a class="sourceLine" id="cb31-9" data-line-number="9"><span class="bu">echo</span> <span class="va">$row</span> <span class="op">&gt;</span> <span class="va">$weighted_tracts</span><span class="kw">;</span></a>
<a class="sourceLine" id="cb31-10" data-line-number="10"><span class="kw">for</span> <span class="ex">m</span> in <span class="kw">`</span><span class="fu">cat</span> /data/NCR_SBRB/pnc/dti_fdt/converted.txt<span class="kw">`;</span> <span class="kw">do</span></a>
<a class="sourceLine" id="cb31-11" data-line-number="11">    <span class="bu">echo</span> <span class="va">$m</span><span class="kw">;</span></a>
<a class="sourceLine" id="cb31-12" data-line-number="12">    <span class="va">row=</span><span class="st">&quot;</span><span class="va">${m}</span><span class="st">&quot;</span>;</a>
<a class="sourceLine" id="cb31-13" data-line-number="13">    <span class="bu">cd</span> /data/NCR_SBRB/pnc/dti_fdt/preproc/<span class="va">$m</span> <span class="kw">&amp;&amp;</span></a>
<a class="sourceLine" id="cb31-14" data-line-number="14">    <span class="kw">for</span> <span class="ex">t</span> in <span class="kw">`</span><span class="fu">cut</span> -d<span class="st">&quot; &quot;</span> -f 1 /data/NCR_SBRB/software/autoPtx/structureList<span class="kw">`;</span> <span class="kw">do</span></a>
<a class="sourceLine" id="cb31-15" data-line-number="15">        <span class="kw">if</span><span class="bu"> [</span> <span class="ot">-e</span> ../../tracts/<span class="va">${m}</span>/<span class="va">${t}</span>/tracts/tractsNorm.nii.gz<span class="bu"> ]</span>; <span class="kw">then</span></a>
<a class="sourceLine" id="cb31-16" data-line-number="16">            <span class="co"># tract mask is higher dimension!</span></a>
<a class="sourceLine" id="cb31-17" data-line-number="17">            <span class="ex">3dresample</span> -master dti_FA.nii.gz -prefix <span class="va">${mydir}</span>/mask.nii \</a>
<a class="sourceLine" id="cb31-18" data-line-number="18">                -inset ../../tracts/<span class="va">${m}</span>/<span class="va">${t}</span>/tracts/tractsNorm.nii.gz \</a>
<a class="sourceLine" id="cb31-19" data-line-number="19">                -rmode NN -overwrite <span class="kw">&amp;&amp;</span></a>
<a class="sourceLine" id="cb31-20" data-line-number="20">            <span class="va">nvox=</span><span class="kw">`</span><span class="ex">3dBrickStat</span> -count -non-zero <span class="va">${mydir}</span>/mask.nii <span class="op">2&gt;</span>/dev/null<span class="kw">`</span> <span class="kw">&amp;&amp;</span></a>
<a class="sourceLine" id="cb31-21" data-line-number="21">            <span class="kw">if</span><span class="bu"> [</span> <span class="va">$nvox</span> <span class="ot">-gt</span> 0<span class="bu"> ]</span>; <span class="kw">then</span></a>
<a class="sourceLine" id="cb31-22" data-line-number="22">                <span class="va">fa=</span><span class="kw">`</span><span class="ex">3dmaskave</span> -q -mask <span class="va">${mydir}</span>/mask.nii dti_FA.nii.gz <span class="op">2&gt;</span>/dev/null<span class="kw">`</span> <span class="kw">&amp;&amp;</span></a>
<a class="sourceLine" id="cb31-23" data-line-number="23">                <span class="va">ad=</span><span class="kw">`</span><span class="ex">3dmaskave</span> -q -mask <span class="va">${mydir}</span>/mask.nii dti_L1.nii.gz <span class="op">2&gt;</span>/dev/null<span class="kw">`</span> <span class="kw">&amp;&amp;</span></a>
<a class="sourceLine" id="cb31-24" data-line-number="24">                <span class="ex">3dcalc</span> -a dti_L2.nii.gz -b dti_L3.nii.gz -expr <span class="st">&quot;(a + b) / 2&quot;</span> \</a>
<a class="sourceLine" id="cb31-25" data-line-number="25">                    -prefix <span class="va">${mydir}</span>/RD.nii <span class="op">2&gt;</span>/dev/null <span class="kw">&amp;&amp;</span></a>
<a class="sourceLine" id="cb31-26" data-line-number="26">                <span class="va">rd=</span><span class="kw">`</span><span class="ex">3dmaskave</span> -q -mask <span class="va">${mydir}</span>/mask.nii <span class="va">${mydir}</span>/RD.nii <span class="op">2&gt;</span>/dev/null<span class="kw">`</span> <span class="kw">&amp;&amp;</span></a>
<a class="sourceLine" id="cb31-27" data-line-number="27">                <span class="va">row=${row}</span><span class="st">&#39;,&#39;</span><span class="va">${fa}</span><span class="st">&#39;,&#39;</span><span class="va">${ad}</span><span class="st">&#39;,&#39;</span><span class="va">${rd}</span>;</a>
<a class="sourceLine" id="cb31-28" data-line-number="28">            <span class="kw">else</span></a>
<a class="sourceLine" id="cb31-29" data-line-number="29">                <span class="va">row=${row}</span><span class="st">&#39;,NA,NA,NA&#39;</span>;</a>
<a class="sourceLine" id="cb31-30" data-line-number="30">            <span class="kw">fi</span>;</a>
<a class="sourceLine" id="cb31-31" data-line-number="31">        <span class="kw">else</span></a>
<a class="sourceLine" id="cb31-32" data-line-number="32">            <span class="va">row=${row}</span><span class="st">&#39;,NA,NA,NA&#39;</span>;</a>
<a class="sourceLine" id="cb31-33" data-line-number="33">        <span class="kw">fi</span>;</a>
<a class="sourceLine" id="cb31-34" data-line-number="34">    <span class="kw">done</span></a>
<a class="sourceLine" id="cb31-35" data-line-number="35">    <span class="bu">echo</span> <span class="va">$row</span> <span class="op">&gt;&gt;</span> <span class="va">$weighted_tracts</span><span class="kw">;</span></a>
<a class="sourceLine" id="cb31-36" data-line-number="36"><span class="kw">done</span></a></code></pre></div>
<h1 id="section-17">2019-04-09 14:46:01</h1>
<p>Just for good measure, let’s do this again because I noticed that the RD mask was not being overwritten in the NCR cohort:</p>
<div class="sourceCode" id="cb32"><pre class="sourceCode bash"><code class="sourceCode bash"><a class="sourceLine" id="cb32-1" data-line-number="1"><span class="va">mydir=</span>/lscratch/<span class="va">${SLURM_JOBID}</span>/</a>
<a class="sourceLine" id="cb32-2" data-line-number="2"><span class="va">weighted_tracts=</span>~/tmp/pnc_weighted_tracts.csv;</a>
<a class="sourceLine" id="cb32-3" data-line-number="3"><span class="va">row=</span><span class="st">&quot;id&quot;</span>;</a>
<a class="sourceLine" id="cb32-4" data-line-number="4"><span class="kw">for</span> <span class="ex">t</span> in <span class="kw">`</span><span class="fu">cut</span> -d<span class="st">&quot; &quot;</span> -f 1 /data/NCR_SBRB/software/autoPtx/structureList<span class="kw">`;</span> <span class="kw">do</span></a>
<a class="sourceLine" id="cb32-5" data-line-number="5">    <span class="kw">for</span> <span class="ex">m</span> in fa ad rd<span class="kw">;</span> <span class="kw">do</span></a>
<a class="sourceLine" id="cb32-6" data-line-number="6">        <span class="va">row=${row}</span><span class="st">&#39;,&#39;</span><span class="va">${t}</span>_<span class="va">${m}</span>;</a>
<a class="sourceLine" id="cb32-7" data-line-number="7">    <span class="kw">done</span></a>
<a class="sourceLine" id="cb32-8" data-line-number="8"><span class="kw">done</span></a>
<a class="sourceLine" id="cb32-9" data-line-number="9"><span class="bu">echo</span> <span class="va">$row</span> <span class="op">&gt;</span> <span class="va">$weighted_tracts</span><span class="kw">;</span></a>
<a class="sourceLine" id="cb32-10" data-line-number="10"><span class="kw">for</span> <span class="ex">m</span> in <span class="kw">`</span><span class="fu">cat</span> /data/NCR_SBRB/pnc/dti_fdt/converted.txt<span class="kw">`;</span> <span class="kw">do</span></a>
<a class="sourceLine" id="cb32-11" data-line-number="11">    <span class="bu">echo</span> <span class="va">$m</span><span class="kw">;</span></a>
<a class="sourceLine" id="cb32-12" data-line-number="12">    <span class="va">row=</span><span class="st">&quot;</span><span class="va">${m}</span><span class="st">&quot;</span>;</a>
<a class="sourceLine" id="cb32-13" data-line-number="13">    <span class="bu">cd</span> /data/NCR_SBRB/pnc/dti_fdt/preproc/<span class="va">$m</span> <span class="kw">&amp;&amp;</span></a>
<a class="sourceLine" id="cb32-14" data-line-number="14">    <span class="kw">for</span> <span class="ex">t</span> in <span class="kw">`</span><span class="fu">cut</span> -d<span class="st">&quot; &quot;</span> -f 1 /data/NCR_SBRB/software/autoPtx/structureList<span class="kw">`;</span> <span class="kw">do</span></a>
<a class="sourceLine" id="cb32-15" data-line-number="15">        <span class="kw">if</span><span class="bu"> [</span> <span class="ot">-e</span> ../../tracts/<span class="va">${m}</span>/<span class="va">${t}</span>/tracts/tractsNorm.nii.gz<span class="bu"> ]</span>; <span class="kw">then</span></a>
<a class="sourceLine" id="cb32-16" data-line-number="16">            <span class="co"># tract mask is higher dimension!</span></a>
<a class="sourceLine" id="cb32-17" data-line-number="17">            <span class="ex">3dresample</span> -master dti_FA.nii.gz -prefix <span class="va">${mydir}</span>/mask.nii \</a>
<a class="sourceLine" id="cb32-18" data-line-number="18">                -inset ../../tracts/<span class="va">${m}</span>/<span class="va">${t}</span>/tracts/tractsNorm.nii.gz \</a>
<a class="sourceLine" id="cb32-19" data-line-number="19">                -rmode NN -overwrite <span class="kw">&amp;&amp;</span></a>
<a class="sourceLine" id="cb32-20" data-line-number="20">            <span class="va">nvox=</span><span class="kw">`</span><span class="ex">3dBrickStat</span> -count -non-zero <span class="va">${mydir}</span>/mask.nii <span class="op">2&gt;</span>/dev/null<span class="kw">`</span> <span class="kw">&amp;&amp;</span></a>
<a class="sourceLine" id="cb32-21" data-line-number="21">            <span class="kw">if</span><span class="bu"> [</span> <span class="va">$nvox</span> <span class="ot">-gt</span> 0<span class="bu"> ]</span>; <span class="kw">then</span></a>
<a class="sourceLine" id="cb32-22" data-line-number="22">                <span class="kw">if</span><span class="bu"> [</span> <span class="ot">-e</span> dti_FA.nii.gz<span class="bu"> ]</span>; <span class="kw">then</span></a>
<a class="sourceLine" id="cb32-23" data-line-number="23">                    <span class="va">fa=</span><span class="kw">`</span><span class="ex">3dmaskave</span> -q -mask <span class="va">${mydir}</span>/mask.nii dti_FA.nii.gz <span class="op">2&gt;</span>/dev/null<span class="kw">`</span>;</a>
<a class="sourceLine" id="cb32-24" data-line-number="24">                <span class="kw">else</span></a>
<a class="sourceLine" id="cb32-25" data-line-number="25">                    <span class="va">fa=</span><span class="st">&#39;NA&#39;</span>;</a>
<a class="sourceLine" id="cb32-26" data-line-number="26">                <span class="kw">fi</span>;</a>
<a class="sourceLine" id="cb32-27" data-line-number="27">                <span class="co"># had to increment lines piecewise because of some racing condition</span></a>
<a class="sourceLine" id="cb32-28" data-line-number="28">                <span class="va">row=${row}</span><span class="st">&#39;,&#39;</span><span class="va">${fa}</span>;</a>
<a class="sourceLine" id="cb32-29" data-line-number="29">                <span class="kw">if</span><span class="bu"> [</span> <span class="ot">-e</span> dti_L1.nii.gz<span class="bu"> ]</span>; <span class="kw">then</span></a>
<a class="sourceLine" id="cb32-30" data-line-number="30">                    <span class="va">ad=</span><span class="kw">`</span><span class="ex">3dmaskave</span> -q -mask <span class="va">${mydir}</span>/mask.nii dti_L1.nii.gz <span class="op">2&gt;</span>/dev/null<span class="kw">`</span>;</a>
<a class="sourceLine" id="cb32-31" data-line-number="31">                <span class="kw">else</span></a>
<a class="sourceLine" id="cb32-32" data-line-number="32">                    <span class="va">ad=</span><span class="st">&#39;NA&#39;</span></a>
<a class="sourceLine" id="cb32-33" data-line-number="33">                <span class="kw">fi</span>;</a>
<a class="sourceLine" id="cb32-34" data-line-number="34">                <span class="va">row=${row}</span><span class="st">&#39;,&#39;</span><span class="va">${ad}</span>;</a>
<a class="sourceLine" id="cb32-35" data-line-number="35">                <span class="kw">if</span><span class="bu"> [</span> <span class="ot">-e</span> dti_L2.nii.gz<span class="bu"> ]</span> <span class="kw">&amp;&amp;</span><span class="bu"> [</span> <span class="ot">-e</span> dti_L3.nii.gz<span class="bu"> ]</span>; <span class="kw">then</span></a>
<a class="sourceLine" id="cb32-36" data-line-number="36">                    <span class="ex">3dcalc</span> -a dti_L2.nii.gz -b dti_L3.nii.gz -expr <span class="st">&quot;(a + b) / 2&quot;</span> \</a>
<a class="sourceLine" id="cb32-37" data-line-number="37">                        -prefix <span class="va">${mydir}</span>/RD.nii -overwrite <span class="op">2&gt;</span>/dev/null <span class="kw">&amp;&amp;</span></a>
<a class="sourceLine" id="cb32-38" data-line-number="38">                    <span class="va">rd=</span><span class="kw">`</span><span class="ex">3dmaskave</span> -q -mask <span class="va">${mydir}</span>/mask.nii <span class="va">${mydir}</span>/RD.nii <span class="op">2&gt;</span>/dev/null<span class="kw">`</span>;</a>
<a class="sourceLine" id="cb32-39" data-line-number="39">                <span class="kw">else</span></a>
<a class="sourceLine" id="cb32-40" data-line-number="40">                    <span class="va">rd=</span><span class="st">&#39;NA&#39;</span>;</a>
<a class="sourceLine" id="cb32-41" data-line-number="41">                <span class="kw">fi</span>;</a>
<a class="sourceLine" id="cb32-42" data-line-number="42">                <span class="va">row=${row}</span><span class="st">&#39;,&#39;</span><span class="va">${rd}</span>;</a>
<a class="sourceLine" id="cb32-43" data-line-number="43">            <span class="kw">else</span></a>
<a class="sourceLine" id="cb32-44" data-line-number="44">                <span class="bu">echo</span> <span class="st">&quot;No nonzero voxels in mask for </span><span class="va">$t</span><span class="st">&quot;</span> <span class="kw">&amp;&amp;</span></a>
<a class="sourceLine" id="cb32-45" data-line-number="45">                <span class="va">row=${row}</span><span class="st">&#39;,NA,NA,NA&#39;</span>;</a>
<a class="sourceLine" id="cb32-46" data-line-number="46">            <span class="kw">fi</span>;</a>
<a class="sourceLine" id="cb32-47" data-line-number="47">        <span class="kw">else</span></a>
<a class="sourceLine" id="cb32-48" data-line-number="48">            <span class="bu">echo</span> <span class="st">&quot;No tractsNorm for </span><span class="va">$t</span><span class="st">&quot;</span> <span class="kw">&amp;&amp;</span></a>
<a class="sourceLine" id="cb32-49" data-line-number="49">            <span class="va">row=${row}</span><span class="st">&#39;,NA,NA,NA&#39;</span>;</a>
<a class="sourceLine" id="cb32-50" data-line-number="50">        <span class="kw">fi</span>;</a>
<a class="sourceLine" id="cb32-51" data-line-number="51">    <span class="kw">done</span></a>
<a class="sourceLine" id="cb32-52" data-line-number="52">    <span class="bu">echo</span> <span class="va">$row</span> <span class="op">&gt;&gt;</span> <span class="va">$weighted_tracts</span><span class="kw">;</span></a>
<a class="sourceLine" id="cb32-53" data-line-number="53"><span class="kw">done</span></a></code></pre></div>
<h1 id="section-18">2019-04-10 16:19:28</h1>
<p>I started running the other PNC images (non-WNH). I broke it up in sets of 10 just so it makes life easier when running bedpost later:</p>
<div class="sourceCode" id="cb33"><pre class="sourceCode bash"><code class="sourceCode bash"><a class="sourceLine" id="cb33-1" data-line-number="1"><span class="bu">cd</span> /data/NCR_SBRB/pnc/dti_fdt</a>
<a class="sourceLine" id="cb33-2" data-line-number="2"><span class="fu">rm</span> swarm.fdt</a>
<a class="sourceLine" id="cb33-3" data-line-number="3"><span class="kw">for</span> <span class="ex">m</span> in <span class="kw">`</span><span class="fu">cat</span> xaa<span class="kw">`;</span> <span class="kw">do</span></a>
<a class="sourceLine" id="cb33-4" data-line-number="4">    <span class="bu">echo</span> <span class="st">&quot;bash ~/research_code/dti/fdt_pnc_wrapper.sh </span><span class="va">${m}</span><span class="st">&quot;</span> <span class="op">&gt;&gt;</span> swarm.fdt<span class="kw">;</span></a>
<a class="sourceLine" id="cb33-5" data-line-number="5"><span class="kw">done</span>;</a>
<a class="sourceLine" id="cb33-6" data-line-number="6"><span class="ex">swarm</span> -g 4 --time 4:00:00 -f swarm.fdt --partition gpu \</a>
<a class="sourceLine" id="cb33-7" data-line-number="7">    --logdir trash_fdt --gres=gpu:k80:1 --job-name fdta</a></code></pre></div>
<h1 id="section-19">2019-04-12 17:41:05</h1>
<p>Because we are already starting bedpost, we can do at least the brainmask QC right away.</p>
<p>But I actually found out that many IDs died (113 out of 834). What happened? Let’s first make sure they have both DTI directories inside their tarballs:</p>
<div class="sourceCode" id="cb34"><pre class="sourceCode bash"><code class="sourceCode bash"><a class="sourceLine" id="cb34-1" data-line-number="1"><span class="kw">for</span> <span class="ex">m</span> in <span class="kw">`</span><span class="fu">cat</span> /data/NCR_SBRB/pnc/dti_fdt/pnc_other_imaging.txt<span class="kw">`;</span> <span class="kw">do</span></a>
<a class="sourceLine" id="cb34-2" data-line-number="2">    <span class="kw">if</span><span class="bu"> [</span> <span class="ot">!</span> <span class="ot">-e</span> /data/NCR_SBRB/pnc/dti_fdt/<span class="va">${m}</span>/dwi.nii.gz<span class="bu"> ]</span>; <span class="kw">then</span></a>
<a class="sourceLine" id="cb34-3" data-line-number="3">        <span class="bu">echo</span> <span class="va">$m</span> <span class="op">&gt;&gt;</span> /data/NCR_SBRB/pnc/dti_fdt/error_conversion1.txt<span class="kw">;</span></a>
<a class="sourceLine" id="cb34-4" data-line-number="4">    <span class="kw">fi</span>;</a>
<a class="sourceLine" id="cb34-5" data-line-number="5"><span class="kw">done</span></a>
<a class="sourceLine" id="cb34-6" data-line-number="6"></a>
<a class="sourceLine" id="cb34-7" data-line-number="7"><span class="kw">for</span> <span class="ex">m</span> in <span class="kw">`</span><span class="fu">cat</span> /data/NCR_SBRB/pnc/dti_fdt/error_conversion1.txt<span class="kw">`;</span> <span class="kw">do</span></a>
<a class="sourceLine" id="cb34-8" data-line-number="8">    <span class="bu">echo</span> <span class="va">$m</span><span class="kw">;</span></a>
<a class="sourceLine" id="cb34-9" data-line-number="9">    <span class="kw">if</span> <span class="fu">tar</span> -tf /data/NCR_SBRB/pnc/<span class="va">${m}</span>_1.tar.gz <span class="va">${m}</span>/DTI_35dir <span class="va">${m}</span>/DTI_36dir <span class="op">&gt;</span>/dev/null <span class="op">2&gt;&amp;1</span><span class="kw">;</span> <span class="kw">then</span></a>
<a class="sourceLine" id="cb34-10" data-line-number="10">        <span class="bu">echo</span> <span class="va">$m</span> should have converted<span class="kw">;</span></a>
<a class="sourceLine" id="cb34-11" data-line-number="11">    <span class="kw">fi</span>;</a>
<a class="sourceLine" id="cb34-12" data-line-number="12"><span class="kw">done</span></a></code></pre></div>
<p>Yep, apparently all of them were indeed missing at least one of the directories. Oh well. Let’s create brain masks for everything that got converted then.</p>
<div class="sourceCode" id="cb35"><pre class="sourceCode bash"><code class="sourceCode bash"><a class="sourceLine" id="cb35-1" data-line-number="1"><span class="ex">module</span> load afni</a>
<a class="sourceLine" id="cb35-2" data-line-number="2"><span class="bu">cd</span> /lscratch/<span class="va">${SLURM_JOBID}</span></a>
<a class="sourceLine" id="cb35-3" data-line-number="3"><span class="kw">for</span> <span class="ex">m</span> in <span class="kw">`</span><span class="fu">cat</span> /data/NCR_SBRB/pnc/dti_fdt/converted.txt<span class="kw">`;</span> <span class="kw">do</span></a>
<a class="sourceLine" id="cb35-4" data-line-number="4">    <span class="bu">echo</span> <span class="va">$m</span><span class="kw">;</span></a>
<a class="sourceLine" id="cb35-5" data-line-number="5">    <span class="fu">mkdir</span> <span class="va">${m}</span><span class="kw">;</span></a>
<a class="sourceLine" id="cb35-6" data-line-number="6">    <span class="fu">cp</span> /data/NCR_SBRB/pnc/dti_fdt/<span class="va">${m}</span>/dwi.nii.gz \</a>
<a class="sourceLine" id="cb35-7" data-line-number="7">        /data/NCR_SBRB/pnc/dti_fdt/<span class="va">${m}</span>/b0_brain_mask.nii.gz <span class="va">${m}</span><span class="kw">;</span></a>
<a class="sourceLine" id="cb35-8" data-line-number="8"><span class="kw">done</span></a>
<a class="sourceLine" id="cb35-9" data-line-number="9"></a>
<a class="sourceLine" id="cb35-10" data-line-number="10"><span class="kw">for</span> <span class="ex">m</span> in <span class="kw">`</span><span class="fu">cat</span> /data/NCR_SBRB/pnc/dti_fdt/converted.txt<span class="kw">`;</span> <span class="kw">do</span></a>
<a class="sourceLine" id="cb35-11" data-line-number="11">    <span class="bu">cd</span> /lscratch/<span class="va">${SLURM_JOBID}</span>/<span class="va">${m}</span></a>
<a class="sourceLine" id="cb35-12" data-line-number="12">    <span class="fu">mkdir</span> QC</a>
<a class="sourceLine" id="cb35-13" data-line-number="13">    <span class="ex">@chauffeur_afni</span>                             \</a>
<a class="sourceLine" id="cb35-14" data-line-number="14">        -ulay  dwi.nii.gz[0]                         \</a>
<a class="sourceLine" id="cb35-15" data-line-number="15">        -olay  b0_brain_mask.nii.gz                        \</a>
<a class="sourceLine" id="cb35-16" data-line-number="16">        -opacity 4                              \</a>
<a class="sourceLine" id="cb35-17" data-line-number="17">        -prefix   QC/brain_mask              \</a>
<a class="sourceLine" id="cb35-18" data-line-number="18">        -montx 6 -monty 6                       \</a>
<a class="sourceLine" id="cb35-19" data-line-number="19">        -set_xhairs OFF                         \</a>
<a class="sourceLine" id="cb35-20" data-line-number="20">        -label_mode 1 -label_size 3             \</a>
<a class="sourceLine" id="cb35-21" data-line-number="21">        -do_clean<span class="kw">;</span></a>
<a class="sourceLine" id="cb35-22" data-line-number="22">    <span class="fu">cp</span> -r QC /data/NCR_SBRB/pnc/dti_fdt/<span class="va">${m}</span>/<span class="kw">;</span></a>
<a class="sourceLine" id="cb35-23" data-line-number="23"><span class="kw">done</span></a></code></pre></div>
<p>Given the number of fails in bedpost, let’s check which ones had successful eddy, then we can just redo the bedpost splits, and rerun just the ones that have failed.</p>
<div class="sourceCode" id="cb36"><pre class="sourceCode bash"><code class="sourceCode bash"><a class="sourceLine" id="cb36-1" data-line-number="1"><span class="bu">cd</span> /data/NCR_SBRB/pnc/dti_fdt/</a>
<a class="sourceLine" id="cb36-2" data-line-number="2"><span class="kw">for</span> <span class="ex">m</span> in <span class="kw">`</span><span class="fu">cat</span> converted.txt<span class="kw">`;</span> <span class="kw">do</span></a>
<a class="sourceLine" id="cb36-3" data-line-number="3">    <span class="kw">if</span><span class="bu"> [</span> <span class="ot">!</span> <span class="ot">-e</span> <span class="va">${m}</span>/eddy_s2v_unwarped_images.nii.gz<span class="bu"> ]</span>; <span class="kw">then</span></a>
<a class="sourceLine" id="cb36-4" data-line-number="4">        <span class="bu">echo</span> <span class="va">$m</span> <span class="op">&gt;&gt;</span> need_eddy.txt<span class="kw">;</span></a>
<a class="sourceLine" id="cb36-5" data-line-number="5">    <span class="kw">fi</span>;</a>
<a class="sourceLine" id="cb36-6" data-line-number="6"><span class="kw">done</span></a></code></pre></div>
<p>And I re-ran eddy just for those IDs. But they were all bad, in the sense that they didn’t have both DTI directories in the tarball, or had errors when running eddy in the complete file. Well, we move on…</p>
<h1 id="section-20">2019-04-14 19:55:29</h1>
<p>While we wait on bedpost, let’s fire up all the splits that were done:</p>
<div class="sourceCode" id="cb37"><pre class="sourceCode bash"><code class="sourceCode bash"><a class="sourceLine" id="cb37-1" data-line-number="1"><span class="bu">cd</span> /data/NCR_SBRB/pnc/dti_fdt</a>
<a class="sourceLine" id="cb37-2" data-line-number="2"><span class="fu">rm</span> swarm.track</a>
<a class="sourceLine" id="cb37-3" data-line-number="3"><span class="kw">for</span> <span class="ex">m</span> in <span class="kw">`</span><span class="fu">cat</span> xab xac xad xae xaf<span class="kw">`;</span> <span class="kw">do</span> </a>
<a class="sourceLine" id="cb37-4" data-line-number="4">    <span class="bu">echo</span> <span class="st">&quot;bash ~/research_code/dti/run_trackSubjectStruct.sh </span><span class="va">$m</span><span class="st">&quot;</span> <span class="op">&gt;&gt;</span> swarm.track<span class="kw">;</span></a>
<a class="sourceLine" id="cb37-5" data-line-number="5"><span class="kw">done</span></a>
<a class="sourceLine" id="cb37-6" data-line-number="6"><span class="ex">swarm</span> -t 29 -g 52 -f swarm.track --job-name track --time 10:00:00 \</a>
<a class="sourceLine" id="cb37-7" data-line-number="7">        --logdir trash_track -m fsl --gres=lscratch:10<span class="kw">;</span></a></code></pre></div>
<p>And since we have some sinteractive sessions open, let’s also run the other QC pictures for the IDs that should have finished bedpost by now:</p>
<div class="sourceCode" id="cb38"><pre class="sourceCode bash"><code class="sourceCode bash"><a class="sourceLine" id="cb38-1" data-line-number="1"><span class="bu">cd</span> /data/NCR_SBRB/pnc/dti_fdt/<span class="kw">;</span></a>
<a class="sourceLine" id="cb38-2" data-line-number="2"><span class="kw">for</span> <span class="ex">m</span> in <span class="kw">`</span><span class="fu">cat</span> xaa xab xac xad xae xaf<span class="kw">`;</span> <span class="kw">do</span></a>
<a class="sourceLine" id="cb38-3" data-line-number="3">    <span class="bu">echo</span> <span class="va">$m</span><span class="kw">;</span></a>
<a class="sourceLine" id="cb38-4" data-line-number="4">    <span class="fu">mkdir</span> /lscratch/<span class="va">${SLURM_JOBID}</span>/<span class="va">${m}</span><span class="kw">;</span></a>
<a class="sourceLine" id="cb38-5" data-line-number="5">    <span class="fu">cp</span> preproc/<span class="va">${m}</span>/dti* \</a>
<a class="sourceLine" id="cb38-6" data-line-number="6">       preproc/<span class="va">${m}</span>/data.nii.gz \</a>
<a class="sourceLine" id="cb38-7" data-line-number="7">       preproc/<span class="va">${m}</span>/*mask* \</a>
<a class="sourceLine" id="cb38-8" data-line-number="8">       preproc/<span class="va">${m}</span>/*warp* /lscratch/<span class="va">${SLURM_JOBID}</span>/<span class="va">${m}</span><span class="kw">;</span></a>
<a class="sourceLine" id="cb38-9" data-line-number="9"><span class="kw">done</span></a>
<a class="sourceLine" id="cb38-10" data-line-number="10"></a>
<a class="sourceLine" id="cb38-11" data-line-number="11"><span class="kw">for</span> <span class="ex">m</span> in <span class="kw">`</span><span class="fu">cat</span> xaa xab xac xad xae xaf<span class="kw">`;</span> <span class="kw">do</span></a>
<a class="sourceLine" id="cb38-12" data-line-number="12">    <span class="bu">echo</span> <span class="st">&quot;==== </span><span class="va">$m</span><span class="st"> ====&quot;</span><span class="kw">;</span></a>
<a class="sourceLine" id="cb38-13" data-line-number="13">    <span class="fu">bash</span> ~/research_code/dti/fdt_TBSS_and_QC.sh /lscratch/<span class="va">${SLURM_JOBID}</span>/<span class="va">${m}</span><span class="kw">;</span></a>
<a class="sourceLine" id="cb38-14" data-line-number="14">    <span class="fu">cp</span> -r cd /lscratch/<span class="va">${SLURM_JOBID}</span>/<span class="va">${m}</span>/* preproc/<span class="va">${m}</span>/<span class="kw">;</span></a>
<a class="sourceLine" id="cb38-15" data-line-number="15"><span class="kw">done</span></a></code></pre></div>
<h1 id="section-21">2019-04-17 10:15:40</h1>
<p>I created a new converted.txt that doesn’t include the IDs that failed eddy. Now, let’s check everyone for bedpost and re-run the errors:</p>
<div class="sourceCode" id="cb39"><pre class="sourceCode bash"><code class="sourceCode bash"><a class="sourceLine" id="cb39-1" data-line-number="1"><span class="bu">cd</span> /data/NCR_SBRB/pnc/dti_fdt</a>
<a class="sourceLine" id="cb39-2" data-line-number="2"><span class="kw">for</span> <span class="ex">m</span> in <span class="kw">`</span><span class="fu">cat</span> converted.txt<span class="kw">`;</span> <span class="kw">do</span></a>
<a class="sourceLine" id="cb39-3" data-line-number="3">    <span class="kw">if</span><span class="bu"> [</span> <span class="ot">!</span> <span class="ot">-e</span> preproc/<span class="va">${m}</span>.bedpostX/mean_f1samples.nii.gz<span class="bu"> ]</span>; <span class="kw">then</span></a>
<a class="sourceLine" id="cb39-4" data-line-number="4">        <span class="bu">echo</span> <span class="va">$m</span> <span class="op">&gt;&gt;</span> need_bedpost.txt<span class="kw">;</span></a>
<a class="sourceLine" id="cb39-5" data-line-number="5">    <span class="kw">fi</span>;</a>
<a class="sourceLine" id="cb39-6" data-line-number="6"><span class="kw">done</span></a></code></pre></div>
<p>And let’s collect the QC pics:</p>
<div class="sourceCode" id="cb40"><pre class="sourceCode bash"><code class="sourceCode bash"><a class="sourceLine" id="cb40-1" data-line-number="1"><span class="fu">mkdir</span> /data/NCR_SBRB/pnc/dti_fdt/summary_QC</a>
<a class="sourceLine" id="cb40-2" data-line-number="2"><span class="bu">cd</span> /data/NCR_SBRB/pnc/dti_fdt/summary_QC/</a>
<a class="sourceLine" id="cb40-3" data-line-number="3"><span class="fu">mkdir</span> brainmask</a>
<a class="sourceLine" id="cb40-4" data-line-number="4"><span class="fu">mkdir</span> transform</a>
<a class="sourceLine" id="cb40-5" data-line-number="5"><span class="fu">mkdir</span> DEC</a>
<a class="sourceLine" id="cb40-6" data-line-number="6"><span class="fu">mkdir</span> SSE</a>
<a class="sourceLine" id="cb40-7" data-line-number="7"><span class="kw">for</span> <span class="ex">m</span> in <span class="kw">`</span><span class="fu">cat</span> ../converted.txt<span class="kw">`;</span> <span class="kw">do</span></a>
<a class="sourceLine" id="cb40-8" data-line-number="8">    <span class="bu">echo</span> <span class="va">${m}</span></a>
<a class="sourceLine" id="cb40-9" data-line-number="9">    <span class="fu">cp</span> ../<span class="va">${m}</span>/QC/brain_mask.axi.png brainmask/<span class="va">${m}</span>.axi.png</a>
<a class="sourceLine" id="cb40-10" data-line-number="10">    <span class="fu">cp</span> ../<span class="va">${m}</span>/QC/brain_mask.sag.png brainmask/<span class="va">${m}</span>.sag.png</a>
<a class="sourceLine" id="cb40-11" data-line-number="11">    <span class="fu">cp</span> ../<span class="va">${m}</span>/QC/brain_mask.cor.png brainmask/<span class="va">${m}</span>.cor.png</a>
<a class="sourceLine" id="cb40-12" data-line-number="12"><span class="kw">done</span></a>
<a class="sourceLine" id="cb40-13" data-line-number="13"></a>
<a class="sourceLine" id="cb40-14" data-line-number="14"><span class="va">qc_dir=</span>/data/NCR_SBRB/pnc/dti_fdt/summary_QC/</a>
<a class="sourceLine" id="cb40-15" data-line-number="15"><span class="va">img_dir=</span>/data/NCR_SBRB/pnc/dti_fdt/preproc/</a>
<a class="sourceLine" id="cb40-16" data-line-number="16"><span class="kw">for</span> <span class="ex">m</span> in <span class="kw">`</span><span class="fu">cat</span> ../converted.txt<span class="kw">`;</span> <span class="kw">do</span></a>
<a class="sourceLine" id="cb40-17" data-line-number="17">    <span class="bu">echo</span> <span class="va">$m</span><span class="kw">;</span></a>
<a class="sourceLine" id="cb40-18" data-line-number="18">    <span class="fu">cp</span> <span class="va">$img_dir</span>/<span class="va">${m}</span>/QC/FA_transform.axi.png <span class="va">$qc_dir</span>/transform/<span class="va">${m}</span>.axi.png</a>
<a class="sourceLine" id="cb40-19" data-line-number="19">    <span class="fu">cp</span> <span class="va">$img_dir</span>/<span class="va">${m}</span>/QC/FA_transform.sag.png <span class="va">$qc_dir</span>/transform/<span class="va">${m}</span>.sag.png</a>
<a class="sourceLine" id="cb40-20" data-line-number="20">    <span class="fu">cp</span> <span class="va">$img_dir</span>/<span class="va">${m}</span>/QC/FA_transform.cor.png <span class="va">$qc_dir</span>/transform/<span class="va">${m}</span>.cor.png</a>
<a class="sourceLine" id="cb40-21" data-line-number="21"></a>
<a class="sourceLine" id="cb40-22" data-line-number="22">    <span class="fu">cp</span> <span class="va">$img_dir</span>/<span class="va">${m}</span>/QC/DEC_qc_dec_sca07.axi.png <span class="va">$qc_dir</span>/DEC/<span class="va">${m}</span>.axi.png</a>
<a class="sourceLine" id="cb40-23" data-line-number="23">    <span class="fu">cp</span> <span class="va">$img_dir</span>/<span class="va">${m}</span>/QC/DEC_qc_dec_sca07.sag.png <span class="va">$qc_dir</span>/DEC/<span class="va">${m}</span>.sag.png</a>
<a class="sourceLine" id="cb40-24" data-line-number="24">    <span class="fu">cp</span> <span class="va">$img_dir</span>/<span class="va">${m}</span>/QC/DEC_qc_dec_sca07.cor.png <span class="va">$qc_dir</span>/DEC/<span class="va">${m}</span>.cor.png</a>
<a class="sourceLine" id="cb40-25" data-line-number="25"></a>
<a class="sourceLine" id="cb40-26" data-line-number="26">    <span class="fu">cp</span> <span class="va">$img_dir</span>/<span class="va">${m}</span>/QC/sse.axi.png <span class="va">$qc_dir</span>/SSE/<span class="va">${m}</span>.axi.png</a>
<a class="sourceLine" id="cb40-27" data-line-number="27">    <span class="fu">cp</span> <span class="va">$img_dir</span>/<span class="va">${m}</span>/QC/sse.cor.png <span class="va">$qc_dir</span>/SSE/<span class="va">${m}</span>.cor.png</a>
<a class="sourceLine" id="cb40-28" data-line-number="28">    <span class="fu">cp</span> <span class="va">$img_dir</span>/<span class="va">${m}</span>/QC/sse.sag.png <span class="va">$qc_dir</span>/SSE/<span class="va">${m}</span>.sag.png</a>
<a class="sourceLine" id="cb40-29" data-line-number="29"><span class="kw">done</span></a></code></pre></div>
<h1 id="section-22">2019-04-18 07:10:13</h1>
<p>Finally, check who we need to re-run the tracks and compile the summary files:</p>
<div class="sourceCode" id="cb41"><pre class="sourceCode bash"><code class="sourceCode bash"><a class="sourceLine" id="cb41-1" data-line-number="1"><span class="bu">cd</span> /data/NCR_SBRB/pnc/dti_fdt</a>
<a class="sourceLine" id="cb41-2" data-line-number="2"><span class="fu">rm</span> complete.txt errors.txt</a>
<a class="sourceLine" id="cb41-3" data-line-number="3"><span class="kw">for</span> <span class="ex">s</span> in <span class="kw">`</span><span class="fu">cat</span> converted.txt<span class="kw">`;</span> <span class="kw">do</span></a>
<a class="sourceLine" id="cb41-4" data-line-number="4">    <span class="va">ndone=</span><span class="kw">`</span><span class="fu">grep</span> ^ tracts/<span class="va">$s</span>/*/tracts/waytotal <span class="kw">|</span> <span class="fu">wc</span> -l<span class="kw">`</span>;</a>
<a class="sourceLine" id="cb41-5" data-line-number="5">    <span class="kw">if</span><span class="bu"> [</span> <span class="va">$ndone</span> <span class="ot">==</span> 27<span class="bu"> ]</span>; <span class="kw">then</span></a>
<a class="sourceLine" id="cb41-6" data-line-number="6">        <span class="bu">echo</span> <span class="va">$s</span> <span class="op">&gt;&gt;</span> complete.txt</a>
<a class="sourceLine" id="cb41-7" data-line-number="7">    <span class="kw">else</span></a>
<a class="sourceLine" id="cb41-8" data-line-number="8">        <span class="bu">echo</span> <span class="va">$s</span> <span class="op">&gt;&gt;</span> errors.txt</a>
<a class="sourceLine" id="cb41-9" data-line-number="9">    <span class="kw">fi</span></a>
<a class="sourceLine" id="cb41-10" data-line-number="10"><span class="kw">done</span></a></code></pre></div>
<div class="sourceCode" id="cb42"><pre class="sourceCode bash"><code class="sourceCode bash"><a class="sourceLine" id="cb42-1" data-line-number="1"><span class="bu">cd</span> /data/NCR_SBRB/pnc/dti_fdt</a>
<a class="sourceLine" id="cb42-2" data-line-number="2"><span class="va">out_fname=</span>~/tmp/pnc_others_mvmt_report.csv;</a>
<a class="sourceLine" id="cb42-3" data-line-number="3"><span class="bu">echo</span> <span class="st">&quot;id,Noutliers,PROPoutliers,NoutVolumes,norm.trans,norm.rot,RMS1stVol,RMSprevVol&quot;</span> <span class="op">&gt;</span> <span class="va">$out_fname</span><span class="kw">;</span></a>
<a class="sourceLine" id="cb42-4" data-line-number="4"><span class="kw">for</span> <span class="ex">m</span> in <span class="kw">`</span><span class="fu">cat</span> /data/NCR_SBRB/pnc/dti_fdt/converted.txt<span class="kw">`;</span> <span class="kw">do</span></a>
<a class="sourceLine" id="cb42-5" data-line-number="5">    <span class="bu">echo</span> <span class="st">&#39;Collecting metrics for&#39;</span> <span class="va">$m</span><span class="kw">;</span></a>
<a class="sourceLine" id="cb42-6" data-line-number="6">    <span class="kw">if</span><span class="bu"> [</span> <span class="ot">-e</span> <span class="va">${m}</span>/eddy_s2v_unwarped_images.eddy_outlier_report<span class="bu"> ]</span>; <span class="kw">then</span></a>
<a class="sourceLine" id="cb42-7" data-line-number="7">        <span class="va">noutliers=</span><span class="kw">`</span><span class="fu">cat</span> <span class="va">${m}</span>/eddy_s2v_unwarped_images.eddy_outlier_report <span class="kw">|</span> <span class="fu">wc</span> -l<span class="kw">`</span>;</a>
<a class="sourceLine" id="cb42-8" data-line-number="8">        <span class="co"># figuring out the percetnage of total slices the outliers represent</span></a>
<a class="sourceLine" id="cb42-9" data-line-number="9">        <span class="va">nslices=</span><span class="kw">`</span><span class="fu">tail</span> <span class="va">${m}</span>/eddy_s2v_unwarped_images.eddy_outlier_map <span class="kw">|</span> <span class="fu">awk</span> <span class="st">&#39;{ print NF; exit } &#39;</span><span class="kw">`</span>;</a>
<a class="sourceLine" id="cb42-10" data-line-number="10">        <span class="va">nvol=</span><span class="kw">`</span><span class="fu">cat</span> <span class="va">${m}</span>/dwi_cvec.dat <span class="kw">|</span> <span class="fu">wc</span> -l<span class="kw">`</span>;</a>
<a class="sourceLine" id="cb42-11" data-line-number="11">        <span class="bu">let</span> totalSlices=<span class="va">$nslices</span>*<span class="va">$nvol</span><span class="kw">;</span></a>
<a class="sourceLine" id="cb42-12" data-line-number="12">        <span class="va">pctOutliers=</span><span class="kw">`</span><span class="bu">echo</span> <span class="st">&quot;scale=4; </span><span class="va">$noutliers</span><span class="st"> / </span><span class="va">$totalSlices</span><span class="st">&quot;</span> <span class="kw">|</span> <span class="fu">bc</span><span class="kw">`</span>;</a>
<a class="sourceLine" id="cb42-13" data-line-number="13">        <span class="co"># figuring out how many volumes were completely removed (row of 1s)</span></a>
<a class="sourceLine" id="cb42-14" data-line-number="14">        <span class="fu">awk</span> <span class="st">&#39;{sum=0; for(i=1; i&lt;=NF; i++){sum+=$i}; sum/=NF; print sum}&#39;</span> \</a>
<a class="sourceLine" id="cb42-15" data-line-number="15">            <span class="va">${m}</span>/eddy_s2v_unwarped_images.eddy_outlier_map <span class="op">&gt;</span> outlier_avg.txt<span class="kw">;</span></a>
<a class="sourceLine" id="cb42-16" data-line-number="16">        <span class="va">nOutVols=</span><span class="kw">`</span><span class="fu">grep</span> -c -e <span class="st">&quot;^1$&quot;</span> outlier_avg.txt<span class="kw">`</span>;</a>
<a class="sourceLine" id="cb42-17" data-line-number="17">        <span class="ex">1d_tool.py</span> -infile <span class="va">${m}</span>/eddy_s2v_unwarped_images.eddy_movement_over_time \</a>
<a class="sourceLine" id="cb42-18" data-line-number="18">            -select_cols <span class="st">&#39;0..2&#39;</span> -collapse_cols euclidean_norm -overwrite \</a>
<a class="sourceLine" id="cb42-19" data-line-number="19">            -write trans_norm.1D<span class="kw">;</span></a>
<a class="sourceLine" id="cb42-20" data-line-number="20">        <span class="va">trans=</span><span class="kw">`</span><span class="ex">1d_tool.py</span> -infile trans_norm.1D -show_mmms <span class="kw">|</span> <span class="kw">\</span></a>
<a class="sourceLine" id="cb42-21" data-line-number="21">            <span class="fu">tail</span> -n -1 <span class="kw">|</span> <span class="fu">awk</span> <span class="st">&#39;{ print $8 }&#39;</span> <span class="kw">|</span> <span class="fu">sed</span> <span class="st">&#39;s/,//&#39;</span><span class="kw">`</span>;</a>
<a class="sourceLine" id="cb42-22" data-line-number="22">        <span class="ex">1d_tool.py</span> -infile <span class="va">${m}</span>/eddy_s2v_unwarped_images.eddy_movement_over_time \</a>
<a class="sourceLine" id="cb42-23" data-line-number="23">            -select_cols <span class="st">&#39;3..5&#39;</span> -collapse_cols euclidean_norm -overwrite \</a>
<a class="sourceLine" id="cb42-24" data-line-number="24">            -write rot_norm.1D<span class="kw">;</span></a>
<a class="sourceLine" id="cb42-25" data-line-number="25">        <span class="va">rot=</span><span class="kw">`</span><span class="ex">1d_tool.py</span> -infile rot_norm.1D -show_mmms <span class="kw">|</span> <span class="kw">\</span></a>
<a class="sourceLine" id="cb42-26" data-line-number="26">            <span class="fu">tail</span> -n -1 <span class="kw">|</span> <span class="fu">awk</span> <span class="st">&#39;{ print $8 }&#39;</span> <span class="kw">|</span> <span class="fu">sed</span> <span class="st">&#39;s/,//&#39;</span><span class="kw">`</span>;</a>
<a class="sourceLine" id="cb42-27" data-line-number="27">        <span class="ex">1d_tool.py</span> -infile <span class="va">${m}</span>/eddy_s2v_unwarped_images.eddy_movement_rms \</a>
<a class="sourceLine" id="cb42-28" data-line-number="28">            -show_mmms <span class="op">&gt;</span> mean_rms.txt<span class="kw">;</span></a>
<a class="sourceLine" id="cb42-29" data-line-number="29">        <span class="va">vol1=</span><span class="kw">`</span><span class="fu">head</span> -n +2 mean_rms.txt <span class="kw">|</span> <span class="fu">awk</span> <span class="st">&#39;{ print $8 }&#39;</span> <span class="kw">|</span> <span class="fu">sed</span> <span class="st">&#39;s/,//&#39;</span><span class="kw">`</span>;</a>
<a class="sourceLine" id="cb42-30" data-line-number="30">        <span class="va">pvol=</span><span class="kw">`</span><span class="fu">tail</span> -n -1 mean_rms.txt <span class="kw">|</span> <span class="fu">awk</span> <span class="st">&#39;{ print $8 }&#39;</span> <span class="kw">|</span> <span class="fu">sed</span> <span class="st">&#39;s/,//&#39;</span><span class="kw">`</span>;</a>
<a class="sourceLine" id="cb42-31" data-line-number="31">    <span class="kw">else</span></a>
<a class="sourceLine" id="cb42-32" data-line-number="32">        <span class="bu">echo</span> <span class="st">&quot;Could not find outlier report for </span><span class="va">$m</span><span class="st">&quot;</span></a>
<a class="sourceLine" id="cb42-33" data-line-number="33">        <span class="va">noutliers=</span><span class="st">&#39;NA&#39;</span>;</a>
<a class="sourceLine" id="cb42-34" data-line-number="34">        <span class="va">pctOutliers=</span><span class="st">&#39;NA&#39;</span>;</a>
<a class="sourceLine" id="cb42-35" data-line-number="35">        <span class="va">nOutVols=</span><span class="st">&#39;NA&#39;</span>;</a>
<a class="sourceLine" id="cb42-36" data-line-number="36">        <span class="va">trans=</span><span class="st">&#39;NA&#39;</span>;</a>
<a class="sourceLine" id="cb42-37" data-line-number="37">        <span class="va">rot=</span><span class="st">&#39;NA&#39;</span>;</a>
<a class="sourceLine" id="cb42-38" data-line-number="38">        <span class="va">vol1=</span><span class="st">&#39;NA&#39;</span>;</a>
<a class="sourceLine" id="cb42-39" data-line-number="39">        <span class="va">pvol=</span><span class="st">&#39;NA&#39;</span>;</a>
<a class="sourceLine" id="cb42-40" data-line-number="40">    <span class="kw">fi</span>;</a>
<a class="sourceLine" id="cb42-41" data-line-number="41">    <span class="bu">echo</span> <span class="va">$m</span>, <span class="va">$noutliers</span>, <span class="va">$pctOutliers</span>, <span class="va">$nOutVols</span>, <span class="va">$trans</span>, <span class="va">$rot</span>, <span class="va">$vol1</span>, <span class="va">$pvol</span> <span class="op">&gt;&gt;</span> <span class="va">$out_fname</span><span class="kw">;</span></a>
<a class="sourceLine" id="cb42-42" data-line-number="42"><span class="kw">done</span></a></code></pre></div>
<div class="sourceCode" id="cb43"><pre class="sourceCode bash"><code class="sourceCode bash"><a class="sourceLine" id="cb43-1" data-line-number="1"><span class="va">mydir=</span>/lscratch/<span class="va">${SLURM_JOBID}</span>/</a>
<a class="sourceLine" id="cb43-2" data-line-number="2"><span class="va">weighted_tracts=</span>~/tmp/pnc_others_weighted_tracts.csv;</a>
<a class="sourceLine" id="cb43-3" data-line-number="3"><span class="va">row=</span><span class="st">&quot;id&quot;</span>;</a>
<a class="sourceLine" id="cb43-4" data-line-number="4"><span class="kw">for</span> <span class="ex">t</span> in <span class="kw">`</span><span class="fu">cut</span> -d<span class="st">&quot; &quot;</span> -f 1 /data/NCR_SBRB/software/autoPtx/structureList<span class="kw">`;</span> <span class="kw">do</span></a>
<a class="sourceLine" id="cb43-5" data-line-number="5">    <span class="kw">for</span> <span class="ex">m</span> in fa ad rd<span class="kw">;</span> <span class="kw">do</span></a>
<a class="sourceLine" id="cb43-6" data-line-number="6">        <span class="va">row=${row}</span><span class="st">&#39;,&#39;</span><span class="va">${t}</span>_<span class="va">${m}</span>;</a>
<a class="sourceLine" id="cb43-7" data-line-number="7">    <span class="kw">done</span></a>
<a class="sourceLine" id="cb43-8" data-line-number="8"><span class="kw">done</span></a>
<a class="sourceLine" id="cb43-9" data-line-number="9"><span class="bu">echo</span> <span class="va">$row</span> <span class="op">&gt;</span> <span class="va">$weighted_tracts</span><span class="kw">;</span></a>
<a class="sourceLine" id="cb43-10" data-line-number="10"><span class="kw">for</span> <span class="ex">m</span> in <span class="kw">`</span><span class="fu">cat</span> /data/NCR_SBRB/pnc/dti_fdt/complete2.txt<span class="kw">`;</span> <span class="kw">do</span></a>
<a class="sourceLine" id="cb43-11" data-line-number="11">    <span class="bu">echo</span> <span class="va">$m</span><span class="kw">;</span></a>
<a class="sourceLine" id="cb43-12" data-line-number="12">    <span class="va">row=</span><span class="st">&quot;</span><span class="va">${m}</span><span class="st">&quot;</span>;</a>
<a class="sourceLine" id="cb43-13" data-line-number="13">    <span class="bu">cd</span> /data/NCR_SBRB/pnc/dti_fdt/preproc/<span class="va">$m</span> <span class="kw">&amp;&amp;</span></a>
<a class="sourceLine" id="cb43-14" data-line-number="14">    <span class="kw">for</span> <span class="ex">t</span> in <span class="kw">`</span><span class="fu">cut</span> -d<span class="st">&quot; &quot;</span> -f 1 /data/NCR_SBRB/software/autoPtx/structureList<span class="kw">`;</span> <span class="kw">do</span></a>
<a class="sourceLine" id="cb43-15" data-line-number="15">        <span class="kw">if</span><span class="bu"> [</span> <span class="ot">-e</span> ../../tracts/<span class="va">${m}</span>/<span class="va">${t}</span>/tracts/tractsNorm.nii.gz<span class="bu"> ]</span>; <span class="kw">then</span></a>
<a class="sourceLine" id="cb43-16" data-line-number="16">            <span class="co"># tract mask is higher dimension!</span></a>
<a class="sourceLine" id="cb43-17" data-line-number="17">            <span class="ex">3dresample</span> -master dti_FA.nii.gz -prefix <span class="va">${mydir}</span>/mask.nii \</a>
<a class="sourceLine" id="cb43-18" data-line-number="18">                -inset ../../tracts/<span class="va">${m}</span>/<span class="va">${t}</span>/tracts/tractsNorm.nii.gz \</a>
<a class="sourceLine" id="cb43-19" data-line-number="19">                -rmode NN -overwrite <span class="kw">&amp;&amp;</span></a>
<a class="sourceLine" id="cb43-20" data-line-number="20">            <span class="va">nvox=</span><span class="kw">`</span><span class="ex">3dBrickStat</span> -count -non-zero <span class="va">${mydir}</span>/mask.nii <span class="op">2&gt;</span>/dev/null<span class="kw">`</span> <span class="kw">&amp;&amp;</span></a>
<a class="sourceLine" id="cb43-21" data-line-number="21">            <span class="kw">if</span><span class="bu"> [</span> <span class="va">$nvox</span> <span class="ot">-gt</span> 0<span class="bu"> ]</span>; <span class="kw">then</span></a>
<a class="sourceLine" id="cb43-22" data-line-number="22">                <span class="kw">if</span><span class="bu"> [</span> <span class="ot">-e</span> dti_FA.nii.gz<span class="bu"> ]</span>; <span class="kw">then</span></a>
<a class="sourceLine" id="cb43-23" data-line-number="23">                    <span class="va">fa=</span><span class="kw">`</span><span class="ex">3dmaskave</span> -q -mask <span class="va">${mydir}</span>/mask.nii dti_FA.nii.gz <span class="op">2&gt;</span>/dev/null<span class="kw">`</span>;</a>
<a class="sourceLine" id="cb43-24" data-line-number="24">                <span class="kw">else</span></a>
<a class="sourceLine" id="cb43-25" data-line-number="25">                    <span class="va">fa=</span><span class="st">&#39;NA&#39;</span>;</a>
<a class="sourceLine" id="cb43-26" data-line-number="26">                <span class="kw">fi</span>;</a>
<a class="sourceLine" id="cb43-27" data-line-number="27">                <span class="co"># had to increment lines piecewise because of some racing condition</span></a>
<a class="sourceLine" id="cb43-28" data-line-number="28">                <span class="va">row=${row}</span><span class="st">&#39;,&#39;</span><span class="va">${fa}</span>;</a>
<a class="sourceLine" id="cb43-29" data-line-number="29">                <span class="kw">if</span><span class="bu"> [</span> <span class="ot">-e</span> dti_L1.nii.gz<span class="bu"> ]</span>; <span class="kw">then</span></a>
<a class="sourceLine" id="cb43-30" data-line-number="30">                    <span class="va">ad=</span><span class="kw">`</span><span class="ex">3dmaskave</span> -q -mask <span class="va">${mydir}</span>/mask.nii dti_L1.nii.gz <span class="op">2&gt;</span>/dev/null<span class="kw">`</span>;</a>
<a class="sourceLine" id="cb43-31" data-line-number="31">                <span class="kw">else</span></a>
<a class="sourceLine" id="cb43-32" data-line-number="32">                    <span class="va">ad=</span><span class="st">&#39;NA&#39;</span></a>
<a class="sourceLine" id="cb43-33" data-line-number="33">                <span class="kw">fi</span>;</a>
<a class="sourceLine" id="cb43-34" data-line-number="34">                <span class="va">row=${row}</span><span class="st">&#39;,&#39;</span><span class="va">${ad}</span>;</a>
<a class="sourceLine" id="cb43-35" data-line-number="35">                <span class="kw">if</span><span class="bu"> [</span> <span class="ot">-e</span> dti_L2.nii.gz<span class="bu"> ]</span> <span class="kw">&amp;&amp;</span><span class="bu"> [</span> <span class="ot">-e</span> dti_L3.nii.gz<span class="bu"> ]</span>; <span class="kw">then</span></a>
<a class="sourceLine" id="cb43-36" data-line-number="36">                    <span class="ex">3dcalc</span> -a dti_L2.nii.gz -b dti_L3.nii.gz -expr <span class="st">&quot;(a + b) / 2&quot;</span> \</a>
<a class="sourceLine" id="cb43-37" data-line-number="37">                        -prefix <span class="va">${mydir}</span>/RD.nii -overwrite <span class="op">2&gt;</span>/dev/null <span class="kw">&amp;&amp;</span></a>
<a class="sourceLine" id="cb43-38" data-line-number="38">                    <span class="va">rd=</span><span class="kw">`</span><span class="ex">3dmaskave</span> -q -mask <span class="va">${mydir}</span>/mask.nii <span class="va">${mydir}</span>/RD.nii <span class="op">2&gt;</span>/dev/null<span class="kw">`</span>;</a>
<a class="sourceLine" id="cb43-39" data-line-number="39">                <span class="kw">else</span></a>
<a class="sourceLine" id="cb43-40" data-line-number="40">                    <span class="va">rd=</span><span class="st">&#39;NA&#39;</span>;</a>
<a class="sourceLine" id="cb43-41" data-line-number="41">                <span class="kw">fi</span>;</a>
<a class="sourceLine" id="cb43-42" data-line-number="42">                <span class="va">row=${row}</span><span class="st">&#39;,&#39;</span><span class="va">${rd}</span>;</a>
<a class="sourceLine" id="cb43-43" data-line-number="43">            <span class="kw">else</span></a>
<a class="sourceLine" id="cb43-44" data-line-number="44">                <span class="bu">echo</span> <span class="st">&quot;No nonzero voxels in mask for </span><span class="va">$t</span><span class="st">&quot;</span> <span class="kw">&amp;&amp;</span></a>
<a class="sourceLine" id="cb43-45" data-line-number="45">                <span class="va">row=${row}</span><span class="st">&#39;,NA,NA,NA&#39;</span>;</a>
<a class="sourceLine" id="cb43-46" data-line-number="46">            <span class="kw">fi</span>;</a>
<a class="sourceLine" id="cb43-47" data-line-number="47">        <span class="kw">else</span></a>
<a class="sourceLine" id="cb43-48" data-line-number="48">            <span class="bu">echo</span> <span class="st">&quot;No tractsNorm for </span><span class="va">$t</span><span class="st">&quot;</span> <span class="kw">&amp;&amp;</span></a>
<a class="sourceLine" id="cb43-49" data-line-number="49">            <span class="va">row=${row}</span><span class="st">&#39;,NA,NA,NA&#39;</span>;</a>
<a class="sourceLine" id="cb43-50" data-line-number="50">        <span class="kw">fi</span>;</a>
<a class="sourceLine" id="cb43-51" data-line-number="51">    <span class="kw">done</span></a>
<a class="sourceLine" id="cb43-52" data-line-number="52">    <span class="bu">echo</span> <span class="va">$row</span> <span class="op">&gt;&gt;</span> <span class="va">$weighted_tracts</span><span class="kw">;</span></a>
<a class="sourceLine" id="cb43-53" data-line-number="53"><span class="kw">done</span></a></code></pre></div>
