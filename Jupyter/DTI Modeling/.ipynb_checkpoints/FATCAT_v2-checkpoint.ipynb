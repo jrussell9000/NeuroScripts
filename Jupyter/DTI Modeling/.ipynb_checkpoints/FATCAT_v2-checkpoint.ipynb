{
 "cells": [
  {
   "cell_type": "code",
   "execution_count": 1,
   "metadata": {
    "ExecuteTime": {
     "end_time": "2019-11-20T03:43:19.053327Z",
     "start_time": "2019-11-20T03:43:18.941077Z"
    }
   },
   "outputs": [],
   "source": [
    "def fatcatproc_part1(subjdir, sesdir):\n",
    "    sourcedir = Path(sesdir,'dti')\n",
    "    subjroot = \"_\".join([subjdir.name, sesdir.name])\n",
    "\n",
    "    #Creating processing directories\n",
    "    afniprocdir = Path(sourcedir, 'afni')\n",
    "    afniprocdir.mkdir(exist_ok=True)\n",
    "    fatcat_dir = Path(afniprocdir, 'fatcat')\n",
    "    fatcat_dir.mkdir(exist_ok=True)\n",
    "    fatcat_dwidir = fatcat_dir / 'dwi'\n",
    "    fatcat_dwidir.mkdir(exist_ok=True)\n",
    "    fatcat_t2wdir = fatcat_dir / 't2w'\n",
    "    fatcat_t2wdir.mkdir(exist_ok=True)\n",
    "    fatcat_t1wdir = fatcat_dir / 't1w'\n",
    "    fatcat_t1wdir.mkdir(exist_ok=True)\n",
    "\n",
    "    #Creating source file variable\n",
    "    sourcedwi = sourcedir / (subjroot + \"_ppd.mif\")\n",
    "\n",
    "    #Creating mrconvert output file variables\n",
    "    fatcat_bvec = fatcat_dwidir / (subjroot + \".bvec\")\n",
    "    fatcat_bval = fatcat_dwidir / (subjroot + \".bval\")\n",
    "    fatcat_dwinii = fatcat_dwidir / (subjroot + \".nii\")\n",
    "\n",
    "    #Running mrconvert on sourcedwi and outputting to fatcat_dwidir\n",
    "    !mrconvert -force -export_grad_fsl $fatcat_bvec $fatcat_bval $sourcedwi $fatcat_dwinii\n",
    "\n",
    "    #>>>>>>>>>>>>>>>>>>>>>>>>>>>>>>>>>>>>>>>>#\n",
    "    #-------fat_proc_convert_dcm_dwis--------#\n",
    "    #<<<<<<<<<<<<<<<<<<<<<<<<<<<<<<<<<<<<<<<<#\n",
    "    os.chdir(fatcat_dir) #Must change to fatcat_dir first\n",
    "    !fat_proc_convert_dcm_dwis -innii $fatcat_dwinii -inbvec $fatcat_bvec -inbval $fatcat_bval -prefix $fatcat_dir/dwi_00/dwi\n",
    "\n",
    "    #>>>>>>>>>>>>>>>>>>>>>>>>>>>>>>>>>>>>>>>>>>>>>>>>>>>#\n",
    "    #-------Copying original T1w and T2w volumes--------#\n",
    "    #<<<<<<<<<<<<<<<<<<<<<<<<<<<<<<<<<<<<<<<<<<<<<<<<<<<#\n",
    "\n",
    "    #Creating variables as necessary to copy the T2w and T1w volumes from BIDS_master\n",
    "    ##Source variables\n",
    "    anat_sourcedir = Path(bidsmaster_dir, subjdir.name, sesdir.name, 'anat')\n",
    "    orig_t1w = Path(anat_sourcedir, \"_\".join([subjdir.name, sesdir.name, 'acq-AXFSPGRBRAVONEW', 'T1w.nii']))\n",
    "    orig_t2w = Path(anat_sourcedir, \"_\".join([subjdir.name, sesdir.name, 'acq-AxT2FLAIRCOPYDTI', 'T2w.nii']))\n",
    "\n",
    "    ##Destination variables\n",
    "    fatcat_t1w = fatcat_t1wdir / 't1w.nii'\n",
    "    fatcat_t2w = fatcat_t2wdir / 't2w.nii'\n",
    "\n",
    "    #Copying original T1w and T2w volumes to fatcat/t1w and fatcat/t2w\n",
    "    if anat_sourcedir.exists():\n",
    "        print(\"Copying T1w NiFTI...\")  \n",
    "        shutil.copy(orig_t1w, fatcat_t1w)\n",
    "\n",
    "        print(\"Copying T2w NiFTI...\")\n",
    "        shutil.copy(orig_t2w, fatcat_t2w)\n",
    "\n",
    "    #>>>>>>>>>>>>>>>>>>>>>>>>>>>>>>>>>>>>>>>>#\n",
    "    #-------fat_proc_convert_dcm_anat--------#\n",
    "    #<<<<<<<<<<<<<<<<<<<<<<<<<<<<<<<<<<<<<<<<#\n",
    "\n",
    "    #Making output directory\n",
    "    fatcat_anat00dir = fatcat_dir / 'anat_00'\n",
    "\n",
    "    #T1w - Outputting to fatcat_anat00dir/t1w.nii.gz\n",
    "    !fat_proc_convert_dcm_anat -innii $fatcat_t1w -prefix $fatcat_anat00dir/t1w\n",
    "    fatcat_anat00dir_t1w = fatcat_anat00dir / 't1w.nii.gz'\n",
    "\n",
    "    #T2w - Outputting to fatcat_anat00dir/t2w.nii.gz\n",
    "    !fat_proc_convert_dcm_anat -innii $fatcat_t2w -prefix $fatcat_anat00dir/t2w\n",
    "    fatcat_anat00dir_t2w = fatcat_anat00dir / 't2w.nii.gz'\n",
    "\n",
    "    #>>>>>>>>>>>>>>>>>>>>>>>>>>>>>>>>>>>>>#\n",
    "    #-------fat_proc_axialize_anat--------#\n",
    "    #<<<<<<<<<<<<<<<<<<<<<<<<<<<<<<<<<<<<<#\n",
    "\n",
    "    #Making output directory\n",
    "    fatcat_anat01dir = fatcat_dir / 'anat_01'\n",
    "\n",
    "    #Axializing the T2w volume - Outputting to fatcat_anat00dir/t2w.nii.gz\n",
    "    !fat_proc_axialize_anat -inset $fatcat_anat00dir_t2w -prefix $fatcat_anat01dir/t2w -mode_t2w \\\n",
    "    -refset $axializeref_t2w -extra_al_wtmask $axializeref_t2w_wt -out_match_ref -extra_al_opts \"-newgrid 1.0\"\n",
    "    fatcat_anat01dir_t2w = fatcat_anat01dir / 't2w.nii.gz'\n",
    "\n",
    "    #>>>>>>>>>>>>>>>>>>>>>>>>>>>>>>>>>>>>>#\n",
    "    #-------fat_proc_axialize_anat--------#\n",
    "    #<<<<<<<<<<<<<<<<<<<<<<<<<<<<<<<<<<<<<#\n",
    "\n",
    "    !align_epi_anat.py -dset1 $fatcat_anat01dir_t2w -dset2 $fatcat_anat00dir_t1w -align_centers yes -dset1_strip None \\\n",
    "    -dset2_strip None -big_move -rigid_body -dset2to1 -dset2_base 0 -prep_off -suffix align\n"
   ]
  },
  {
   "cell_type": "code",
   "execution_count": 4,
   "metadata": {
    "ExecuteTime": {
     "end_time": "2019-11-20T03:49:38.867432Z",
     "start_time": "2019-11-20T03:49:38.817387Z"
    }
   },
   "outputs": [
    {
     "name": "stdout",
     "output_type": "stream",
     "text": [
      "env: OMP_NUM_THREADS=32\n"
     ]
    },
    {
     "ename": "TypeError",
     "evalue": "__init__() got an unexpected keyword argument 'inner_max_num_threads'",
     "output_type": "error",
     "traceback": [
      "\u001b[0;31m---------------------------------------------------------------------------\u001b[0m",
      "\u001b[0;31mTypeError\u001b[0m                                 Traceback (most recent call last)",
      "\u001b[0;32m<ipython-input-4-eedee87f84a7>\u001b[0m in \u001b[0;36m<module>\u001b[0;34m\u001b[0m\n\u001b[1;32m     31\u001b[0m         \u001b[0mnext\u001b[0m\u001b[0;34m\u001b[0m\u001b[0;34m\u001b[0m\u001b[0m\n\u001b[1;32m     32\u001b[0m \u001b[0;34m\u001b[0m\u001b[0m\n\u001b[0;32m---> 33\u001b[0;31m \u001b[0;32mwith\u001b[0m \u001b[0mparallel_backend\u001b[0m\u001b[0;34m(\u001b[0m\u001b[0;34m\"loky\"\u001b[0m\u001b[0;34m,\u001b[0m \u001b[0minner_max_num_threads\u001b[0m\u001b[0;34m=\u001b[0m\u001b[0;36m4\u001b[0m\u001b[0;34m)\u001b[0m\u001b[0;34m:\u001b[0m\u001b[0;34m\u001b[0m\u001b[0;34m\u001b[0m\u001b[0m\n\u001b[0m\u001b[1;32m     34\u001b[0m     \u001b[0mParallel\u001b[0m\u001b[0;34m(\u001b[0m\u001b[0mn_jobs\u001b[0m\u001b[0;34m=\u001b[0m\u001b[0;36m8\u001b[0m\u001b[0;34m)\u001b[0m\u001b[0;34m(\u001b[0m\u001b[0mdelayed\u001b[0m\u001b[0;34m(\u001b[0m\u001b[0mfatrun\u001b[0m\u001b[0;34m)\u001b[0m\u001b[0;34m(\u001b[0m\u001b[0mrow\u001b[0m\u001b[0;34m[\u001b[0m\u001b[0;36m0\u001b[0m\u001b[0;34m]\u001b[0m\u001b[0;34m,\u001b[0m \u001b[0mrow\u001b[0m\u001b[0;34m[\u001b[0m\u001b[0;36m1\u001b[0m\u001b[0;34m]\u001b[0m\u001b[0;34m)\u001b[0m \u001b[0;32mfor\u001b[0m \u001b[0mrow\u001b[0m \u001b[0;32min\u001b[0m \u001b[0msubjseslist\u001b[0m\u001b[0;34m)\u001b[0m\u001b[0;34m\u001b[0m\u001b[0;34m\u001b[0m\u001b[0m\n\u001b[1;32m     35\u001b[0m \u001b[0;34m\u001b[0m\u001b[0m\n",
      "\u001b[0;32m/Volumes/conda/jdrussell3/lib/python3.7/site-packages/joblib/parallel.py\u001b[0m in \u001b[0;36m__init__\u001b[0;34m(self, backend, n_jobs, **backend_params)\u001b[0m\n\u001b[1;32m    171\u001b[0m     \u001b[0;32mor\u001b[0m \u001b[0mOpenMP\u001b[0m\u001b[0;34m.\u001b[0m \u001b[0mThe\u001b[0m \u001b[0mdefault\u001b[0m \u001b[0mlimit\u001b[0m \u001b[0;32min\u001b[0m \u001b[0meach\u001b[0m \u001b[0mworker\u001b[0m \u001b[0;32mis\u001b[0m \u001b[0mset\u001b[0m \u001b[0mto\u001b[0m\u001b[0;34m\u001b[0m\u001b[0;34m\u001b[0m\u001b[0m\n\u001b[1;32m    172\u001b[0m     \u001b[0;31m`\u001b[0m\u001b[0;31m`\u001b[0m\u001b[0mmax\u001b[0m\u001b[0;34m(\u001b[0m\u001b[0mcpu_count\u001b[0m\u001b[0;34m(\u001b[0m\u001b[0;34m)\u001b[0m \u001b[0;34m//\u001b[0m \u001b[0meffective_n_jobs\u001b[0m\u001b[0;34m,\u001b[0m \u001b[0;36m1\u001b[0m\u001b[0;34m)\u001b[0m\u001b[0;31m`\u001b[0m\u001b[0;31m`\u001b[0m \u001b[0mbut\u001b[0m \u001b[0mthis\u001b[0m \u001b[0mlimit\u001b[0m \u001b[0mcan\u001b[0m \u001b[0mbe\u001b[0m\u001b[0;34m\u001b[0m\u001b[0;34m\u001b[0m\u001b[0m\n\u001b[0;32m--> 173\u001b[0;31m     \u001b[0moverwritten\u001b[0m \u001b[0;32mwith\u001b[0m \u001b[0mthe\u001b[0m\u001b[0;31m \u001b[0m\u001b[0;31m`\u001b[0m\u001b[0;31m`\u001b[0m\u001b[0minner_max_num_threads\u001b[0m\u001b[0;31m`\u001b[0m\u001b[0;31m`\u001b[0m \u001b[0margument\u001b[0m \u001b[0mwhich\u001b[0m \u001b[0mwill\u001b[0m \u001b[0mbe\u001b[0m \u001b[0mused\u001b[0m\u001b[0;34m\u001b[0m\u001b[0;34m\u001b[0m\u001b[0m\n\u001b[0m\u001b[1;32m    174\u001b[0m     \u001b[0mto\u001b[0m \u001b[0mset\u001b[0m \u001b[0mthis\u001b[0m \u001b[0mlimit\u001b[0m \u001b[0;32min\u001b[0m \u001b[0mthe\u001b[0m \u001b[0mchild\u001b[0m \u001b[0mprocesses\u001b[0m\u001b[0;34m.\u001b[0m\u001b[0;34m\u001b[0m\u001b[0;34m\u001b[0m\u001b[0m\n\u001b[1;32m    175\u001b[0m \u001b[0;34m\u001b[0m\u001b[0m\n",
      "\u001b[0;31mTypeError\u001b[0m: __init__() got an unexpected keyword argument 'inner_max_num_threads'"
     ]
    }
   ],
   "source": [
    "import os,sys,shutil\n",
    "from pathlib import Path\n",
    "from joblib import Parallel, delayed, parallel_backend\n",
    "\n",
    "bidsproc_dir = Path('/scratch/jdrussell3/bidsproc')\n",
    "bidsmaster_dir = Path('/Volumes/Vol6/YouthPTSD/BIDS_master/')\n",
    "\n",
    "axializeref_t2w = Path('/scratch/jdrussell3/mni2009/mni_icbm152_t2_relx_tal_nlin_sym_09a_ACPCE.nii.gz')\n",
    "axializeref_t2w_wt = Path('/scratch/jdrussell3/mni2009/mni_icbm152_t1_tal_nlin_sym_09a_MSKD_ACPCE_wtell.nii.gz')\n",
    "\n",
    "subjdirs = (subjdir for subjdir in bidsproc_dir.iterdir() if subjdir.is_dir())\n",
    "\n",
    "%env OMP_NUM_THREADS=32\n",
    "\n",
    "subjseslist = []\n",
    "for subjdir in sorted(subjdirs):\n",
    "    sesdirs = (sesdir for sesdir in subjdir.iterdir() if sesdir.is_dir())\n",
    "    for sesdir in sorted(sesdirs):\n",
    "        looplist=[subjdir, sesdir]\n",
    "        subjseslist.append(looplist)\n",
    "\n",
    "def fatrun(subjdir,sesdir):\n",
    "    try:\n",
    "        fatcatproc_part1(subjdir, sesdir)\n",
    "    except Exception as e:\n",
    "        print(e)\n",
    "        errfile = Path(bidsproc_dir / 'fatcatproc_pt1_error_log.txt')\n",
    "        with open(errfile, 'a+') as errorfile:\n",
    "            errorfile.write(str('Error processing ' + subjdir.name + ', ' + \\\n",
    "                                sesdir.name + ':\\n' + str(e) + '\\n'))\n",
    "        next\n",
    "\n",
    "with parallel_backend(\"loky\", inner_max_num_threads=4):\n",
    "    Parallel(n_jobs=8)(delayed(fatrun)(row[0], row[1]) for row in subjseslist)\n",
    "    "
   ]
  },
  {
   "cell_type": "code",
   "execution_count": null,
   "metadata": {},
   "outputs": [],
   "source": []
  }
 ],
 "metadata": {
  "kernelspec": {
   "display_name": "Python 3",
   "language": "python",
   "name": "python3"
  },
  "language_info": {
   "codemirror_mode": {
    "name": "ipython",
    "version": 3
   },
   "file_extension": ".py",
   "mimetype": "text/x-python",
   "name": "python",
   "nbconvert_exporter": "python",
   "pygments_lexer": "ipython3",
   "version": "3.7.4"
  },
  "varInspector": {
   "cols": {
    "lenName": 16,
    "lenType": 16,
    "lenVar": 40
   },
   "kernels_config": {
    "python": {
     "delete_cmd_postfix": "",
     "delete_cmd_prefix": "del ",
     "library": "var_list.py",
     "varRefreshCmd": "print(var_dic_list())"
    },
    "r": {
     "delete_cmd_postfix": ") ",
     "delete_cmd_prefix": "rm(",
     "library": "var_list.r",
     "varRefreshCmd": "cat(var_dic_list()) "
    }
   },
   "types_to_exclude": [
    "module",
    "function",
    "builtin_function_or_method",
    "instance",
    "_Feature"
   ],
   "window_display": false
  }
 },
 "nbformat": 4,
 "nbformat_minor": 2
}
