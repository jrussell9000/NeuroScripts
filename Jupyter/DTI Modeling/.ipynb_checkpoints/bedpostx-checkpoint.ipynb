{
 "cells": [
  {
   "cell_type": "code",
   "execution_count": 15,
   "metadata": {
    "ExecuteTime": {
     "end_time": "2019-11-24T21:07:11.538119Z",
     "start_time": "2019-11-24T21:07:11.506499Z"
    }
   },
   "outputs": [],
   "source": [
    "import os,sys,shutil\n",
    "from pathlib import Path\n",
    "\n",
    "#https://fsl.fmrib.ox.ac.uk/fsl/fslwiki/FDT/UserGuide#BEDPOSTX\n",
    "#Create starting bedpostx_start directory with data.nii.gz nodif_brain_mask.nii.gz bvecs bvals\n",
    "\n",
    "def bedpostx(subjdir, sesdir):\n",
    "    sourcedir = Path(sesdir,'dti')\n",
    "    fslprocdir = Path(sourcedir, 'fsl')\n",
    "    fslprocdir.mkdir(exist_ok=True)\n",
    "    bedpostxdir = Path(fslprocdir, \"bedpostx\")\n",
    "    bedpostxdir.mkdir(exist_ok=True)\n",
    "    subjroot = \"_\".join([subjdir.name, sesdir.name])\n",
    "    dtimif = sourcedir / (subjroot + '_ppd.mif')\n",
    "    dtimaskmif = sourcedir / (subjroot + '_mask_ppd.mif')\n",
    "    sourcedwinii = fslprocdir / (subjroot + \"_ppd.nii\")\n",
    "    sourcedwimasknii = fslprocdir / (subjroot + \"_mask_ppd.nii\")\n",
    "    sourcebvecs = fslprocdir / (subjroot + \".bvec\")\n",
    "    sourcebvals = fslprocdir / (subjroot + '.bval')\n",
    "    !mrconvert -force -fslgrad $sourcebvecs $sourcebvals $dtimif $sourcedwinii\n",
    "    !mrconvert -force $dtimaskmif $sourcedwimasknii\n",
    "    bedpostxbasename = Path(bedpostxdir, subjroot)\n",
    "    bedpostxsubj_dir = bedpostxdir / subjroot\n",
    "    bedpostxsubj_dir.mkdir(exist_ok=True)\n",
    "    bedpostxstartdwiniigz = bedpostxsubj_dir / 'data.nii.gz'\n",
    "    bedpostxstartmaskniigz = bedpostxsubj_dir / 'nodif_brain_mask.nii.gz'\n",
    "    bedpostxstartbvecs = bedpostxsubj_dir / 'bvecs'\n",
    "    bedpostxstartbvals = bedpostxsubj_dir / 'bvals'\n",
    "    shutil.copy(sourcedwinii, bedpostxstartdwiniigz)\n",
    "    shutil.copy(sourcedwimasknii, bedpostxstartmaskniigz)\n",
    "    shutil.copy(sourcebvecs, bedpostxstartbvecs)\n",
    "    shutil.copy(sourcebvals, bedpostxstartbvals)\n",
    "\n",
    "    !bedpostx_gpu $bedpostxsubj_dir -model=1\n",
    "    \n",
    "    "
   ]
  },
  {
   "cell_type": "code",
   "execution_count": 16,
   "metadata": {
    "ExecuteTime": {
     "end_time": "2019-11-24T21:07:13.943214Z",
     "start_time": "2019-11-24T21:07:12.434657Z"
    }
   },
   "outputs": [
    {
     "name": "stdout",
     "output_type": "stream",
     "text": [
      "mrconvert: \u001b[01;31m[ERROR] not enough parameters to option \"-fslgrad\"\u001b[0m\n",
      "mrconvert: \u001b[00;31m[WARNING] existing output files will be overwritten\u001b[0m\n",
      "mrconvert: \u001b[00;31m[WARNING] requested datatype (Bit) not supported - substituting with UInt8\u001b[0m\n",
      "mrconvert: [100%] copying from \"/scratch/j...sub-001_ses-01_mask_ppd.mif\" to \"/scratch/j...sub-001_ses-01_mask_ppd.nii\"\u001b[0K\u001b[0K\u001b[?7h\u001b[?7l\n"
     ]
    },
    {
     "ename": "NameError",
     "evalue": "name 'sourcebvals' is not defined",
     "output_type": "error",
     "traceback": [
      "\u001b[0;31m---------------------------------------------------------------------------\u001b[0m",
      "\u001b[0;31mNameError\u001b[0m                                 Traceback (most recent call last)",
      "\u001b[0;32m<ipython-input-16-e854d2c19913>\u001b[0m in \u001b[0;36m<module>\u001b[0;34m\u001b[0m\n\u001b[1;32m      7\u001b[0m     \u001b[0msesdirs\u001b[0m \u001b[0;34m=\u001b[0m \u001b[0;34m(\u001b[0m\u001b[0msesdir\u001b[0m \u001b[0;32mfor\u001b[0m \u001b[0msesdir\u001b[0m \u001b[0;32min\u001b[0m \u001b[0msubjdir\u001b[0m\u001b[0;34m.\u001b[0m\u001b[0miterdir\u001b[0m\u001b[0;34m(\u001b[0m\u001b[0;34m)\u001b[0m \u001b[0;32mif\u001b[0m \u001b[0msesdir\u001b[0m\u001b[0;34m.\u001b[0m\u001b[0mis_dir\u001b[0m\u001b[0;34m(\u001b[0m\u001b[0;34m)\u001b[0m\u001b[0;34m)\u001b[0m\u001b[0;34m\u001b[0m\u001b[0;34m\u001b[0m\u001b[0m\n\u001b[1;32m      8\u001b[0m     \u001b[0;32mfor\u001b[0m \u001b[0msesdir\u001b[0m \u001b[0;32min\u001b[0m \u001b[0msesdirs\u001b[0m\u001b[0;34m:\u001b[0m\u001b[0;34m\u001b[0m\u001b[0;34m\u001b[0m\u001b[0m\n\u001b[0;32m----> 9\u001b[0;31m         \u001b[0mbedpostx\u001b[0m\u001b[0;34m(\u001b[0m\u001b[0msubjdir\u001b[0m\u001b[0;34m,\u001b[0m \u001b[0msesdir\u001b[0m\u001b[0;34m)\u001b[0m\u001b[0;34m\u001b[0m\u001b[0;34m\u001b[0m\u001b[0m\n\u001b[0m\u001b[1;32m     10\u001b[0m \u001b[0;34m\u001b[0m\u001b[0m\n",
      "\u001b[0;32m<ipython-input-15-77d2a86189fc>\u001b[0m in \u001b[0;36mbedpostx\u001b[0;34m(subjdir, sesdir)\u001b[0m\n\u001b[1;32m     30\u001b[0m     \u001b[0mshutil\u001b[0m\u001b[0;34m.\u001b[0m\u001b[0mcopy\u001b[0m\u001b[0;34m(\u001b[0m\u001b[0msourcedwimasknii\u001b[0m\u001b[0;34m,\u001b[0m \u001b[0mbedpostxstartmaskniigz\u001b[0m\u001b[0;34m)\u001b[0m\u001b[0;34m\u001b[0m\u001b[0;34m\u001b[0m\u001b[0m\n\u001b[1;32m     31\u001b[0m     \u001b[0mshutil\u001b[0m\u001b[0;34m.\u001b[0m\u001b[0mcopy\u001b[0m\u001b[0;34m(\u001b[0m\u001b[0msourcebvecs\u001b[0m\u001b[0;34m,\u001b[0m \u001b[0mbedpostxstartbvecs\u001b[0m\u001b[0;34m)\u001b[0m\u001b[0;34m\u001b[0m\u001b[0;34m\u001b[0m\u001b[0m\n\u001b[0;32m---> 32\u001b[0;31m     \u001b[0mshutil\u001b[0m\u001b[0;34m.\u001b[0m\u001b[0mcopy\u001b[0m\u001b[0;34m(\u001b[0m\u001b[0msourcebvals\u001b[0m\u001b[0;34m,\u001b[0m \u001b[0mbedpostxstartbvals\u001b[0m\u001b[0;34m)\u001b[0m\u001b[0;34m\u001b[0m\u001b[0;34m\u001b[0m\u001b[0m\n\u001b[0m\u001b[1;32m     33\u001b[0m \u001b[0;34m\u001b[0m\u001b[0m\n\u001b[1;32m     34\u001b[0m     \u001b[0mget_ipython\u001b[0m\u001b[0;34m(\u001b[0m\u001b[0;34m)\u001b[0m\u001b[0;34m.\u001b[0m\u001b[0msystem\u001b[0m\u001b[0;34m(\u001b[0m\u001b[0;34m'bedpostx_gpu $bedpostxsubj_dir -model=1'\u001b[0m\u001b[0;34m)\u001b[0m\u001b[0;34m\u001b[0m\u001b[0;34m\u001b[0m\u001b[0m\n",
      "\u001b[0;31mNameError\u001b[0m: name 'sourcebvals' is not defined"
     ]
    }
   ],
   "source": [
    "scratch_proc = Path('/scratch/jdrussell3/bids_proc')\n",
    "subjlist = ['sub-001']\n",
    "\n",
    "subjdirs = (subjdir for subjdir in scratch_proc.iterdir() if subjdir.is_dir() and subjdir.name in subjlist)\n",
    "\n",
    "for subjdir in sorted(subjdirs):\n",
    "    sesdirs = (sesdir for sesdir in subjdir.iterdir() if sesdir.is_dir())\n",
    "    for sesdir in sesdirs:\n",
    "        bedpostx(subjdir, sesdir)\n",
    "        "
   ]
  },
  {
   "cell_type": "code",
   "execution_count": null,
   "metadata": {},
   "outputs": [],
   "source": []
  }
 ],
 "metadata": {
  "kernelspec": {
   "display_name": "Python 3",
   "language": "python",
   "name": "python3"
  },
  "language_info": {
   "codemirror_mode": {
    "name": "ipython",
    "version": 3
   },
   "file_extension": ".py",
   "mimetype": "text/x-python",
   "name": "python",
   "nbconvert_exporter": "python",
   "pygments_lexer": "ipython3",
   "version": "3.7.4"
  },
  "varInspector": {
   "cols": {
    "lenName": 16,
    "lenType": 16,
    "lenVar": 40
   },
   "kernels_config": {
    "python": {
     "delete_cmd_postfix": "",
     "delete_cmd_prefix": "del ",
     "library": "var_list.py",
     "varRefreshCmd": "print(var_dic_list())"
    },
    "r": {
     "delete_cmd_postfix": ") ",
     "delete_cmd_prefix": "rm(",
     "library": "var_list.r",
     "varRefreshCmd": "cat(var_dic_list()) "
    }
   },
   "types_to_exclude": [
    "module",
    "function",
    "builtin_function_or_method",
    "instance",
    "_Feature"
   ],
   "window_display": false
  }
 },
 "nbformat": 4,
 "nbformat_minor": 2
}
