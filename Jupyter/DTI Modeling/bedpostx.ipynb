{
 "cells": [
  {
   "cell_type": "code",
   "execution_count": 19,
   "metadata": {
    "ExecuteTime": {
     "end_time": "2019-11-24T21:16:02.901812Z",
     "start_time": "2019-11-24T21:16:02.884019Z"
    }
   },
   "outputs": [],
   "source": [
    "import os,sys,shutil\n",
    "from pathlib import Path\n",
    "\n",
    "#https://fsl.fmrib.ox.ac.uk/fsl/fslwiki/FDT/UserGuide#BEDPOSTX\n",
    "#Create starting bedpostx_start directory with data.nii.gz nodif_brain_mask.nii.gz bvecs bvals\n",
    "\n",
    "def bedpostx(subjdir, sesdir):\n",
    "    sourcedir = Path(sesdir,'dti')\n",
    "    fslprocdir = Path(sourcedir, 'fsl')\n",
    "    fslprocdir.mkdir(exist_ok=True)\n",
    "    bedpostxdir = Path(fslprocdir, \"bedpostx\")\n",
    "    bedpostxdir.mkdir(exist_ok=True)\n",
    "    subjroot = \"_\".join([subjdir.name, sesdir.name])\n",
    "    dtimif = sourcedir / (subjroot + '_ppd.mif')\n",
    "    dtimaskmif = sourcedir / (subjroot + '_mask_ppd.mif')\n",
    "    sourcedwinii = fslprocdir / (subjroot + \"_ppd.nii\")\n",
    "    sourcedwimasknii = fslprocdir / (subjroot + \"_mask_ppd.nii\")\n",
    "    sourcebvecs = fslprocdir / (subjroot + \".bvec\")\n",
    "    sourcebvals = fslprocdir / (subjroot + '.bval')\n",
    "    !mrconvert -force -fslgrad $sourcebvecs $sourcebvals $dtimif $sourcedwinii\n",
    "    !mrconvert -force $dtimaskmif $sourcedwimasknii\n",
    "    bedpostxbasename = Path(bedpostxdir, subjroot)\n",
    "    bedpostxsubj_dir = bedpostxdir / subjroot\n",
    "    bedpostxsubj_dir.mkdir(exist_ok=True)\n",
    "    bedpostxstartdwiniigz = bedpostxsubj_dir / 'data.nii.gz'\n",
    "    bedpostxstartmaskniigz = bedpostxsubj_dir / 'nodif_brain_mask.nii.gz'\n",
    "    bedpostxstartbvecs = bedpostxsubj_dir / 'bvecs'\n",
    "    bedpostxstartbvals = bedpostxsubj_dir / 'bvals'\n",
    "    shutil.copy(sourcedwinii, bedpostxstartdwiniigz)\n",
    "    shutil.copy(sourcedwimasknii, bedpostxstartmaskniigz)\n",
    "    shutil.copy(sourcebvecs, bedpostxstartbvecs)\n",
    "    shutil.copy(sourcebvals, bedpostxstartbvals)\n",
    "    os.chdir(bedpostxsubj_dir)\n",
    "    !bedpostx_gpu $bedpostxsubj_dir --model=1\n",
    "    \n",
    "    "
   ]
  },
  {
   "cell_type": "code",
   "execution_count": null,
   "metadata": {
    "ExecuteTime": {
     "start_time": "2019-11-24T21:25:30.108Z"
    }
   },
   "outputs": [
    {
     "name": "stdout",
     "output_type": "stream",
     "text": [
      "mrconvert: \u001b[00;31m[WARNING] existing output files will be overwritten\u001b[0m\n",
      "mrconvert: [100%] copying from \"/scratch/j.../dti/sub-001_ses-01_ppd.mif\" to \"/scratch/j.../fsl/sub-001_ses-01_ppd.nii\"\u001b[0K\u001b[0K\u001b[?7h\u001b[?7l\u001b[?7l\u001b[?7l\u001b[?7l\u001b[?7l\u001b[?7l\u001b[?7l\u001b[?7l\u001b[?7l\n",
      "mrconvert: \u001b[00;31m[WARNING] existing output files will be overwritten\u001b[0m\n",
      "mrconvert: \u001b[00;31m[WARNING] requested datatype (Bit) not supported - substituting with UInt8\u001b[0m\n",
      "mrconvert: [100%] copying from \"/scratch/j...sub-001_ses-01_mask_ppd.mif\" to \"/scratch/j...sub-001_ses-01_mask_ppd.nii\"\u001b[0K\u001b[0K\u001b[?7h\n",
      "---------------------------------------------\n",
      "------------ BedpostX GPU Version -----------\n",
      "---------------------------------------------\n",
      "subjectdir is /scratch/jdrussell3/bids_proc/sub-001/ses-01/dti/fsl/bedpostx/sub-001_ses-01\n",
      "/scratch/jdrussell3/bids_proc/sub-001/ses-01/dti/fsl/bedpostx/sub-001_ses-01 has already been processed: /scratch/jdrussell3/bids_proc/sub-001/ses-01/dti/fsl/bedpostx/sub-001_ses-01.bedpostX.\n",
      "Delete or rename /scratch/jdrussell3/bids_proc/sub-001/ses-01/dti/fsl/bedpostx/sub-001_ses-01.bedpostX before repeating the process.\n",
      "mrconvert: \u001b[00;31m[WARNING] existing output files will be overwritten\u001b[0m\n",
      "mrconvert: [100%] copying from \"/scratch/j.../dti/sub-003_ses-01_ppd.mif\" to \"/scratch/j.../fsl/sub-003_ses-01_ppd.nii\"\u001b[0K\u001b[0K\u001b[?7h\u001b[?7l\u001b[?7l\u001b[?7l\u001b[?7l\u001b[?7l\u001b[?7l\u001b[?7l\u001b[?7l\u001b[?7l\u001b[?7l\u001b[?7l\u001b[?7l\u001b[?7l\u001b[?7l\u001b[?7l\u001b[?7l\n",
      "mrconvert: \u001b[00;31m[WARNING] existing output files will be overwritten\u001b[0m\n",
      "mrconvert: \u001b[00;31m[WARNING] requested datatype (Bit) not supported - substituting with UInt8\u001b[0m\n",
      "mrconvert: [100%] copying from \"/scratch/j...sub-003_ses-01_mask_ppd.mif\" to \"/scratch/j...sub-003_ses-01_mask_ppd.nii\"\u001b[0K\u001b[0K\u001b[?7h\n",
      "---------------------------------------------\n",
      "------------ BedpostX GPU Version -----------\n",
      "---------------------------------------------\n",
      "subjectdir is /scratch/jdrussell3/bids_proc/sub-003/ses-01/dti/fsl/bedpostx/sub-003_ses-01\n",
      "Making bedpostx directory structure\n",
      "Copying files to bedpost directory\n",
      "Pre-processing stage\n",
      "Queuing parallel processing stage\n",
      "\n",
      "----- Bedpostx Monitor -----\n",
      "1 parts processed out of 4\n",
      "2 parts processed out of 4\n",
      "3 parts processed out of 4\n",
      "Queuing post processing stage\n",
      "4 parts processed out of 4\n"
     ]
    }
   ],
   "source": [
    "scratch_proc = Path('/scratch/jdrussell3/bids_proc')\n",
    "\n",
    "subjdirs = (subjdir for subjdir in scratch_proc.iterdir() if subjdir.is_dir())\n",
    "\n",
    "for subjdir in sorted(subjdirs):\n",
    "    sesdirs = (sesdir for sesdir in subjdir.iterdir() if sesdir.is_dir())\n",
    "    for sesdir in sesdirs:\n",
    "        bedpostx(subjdir, sesdir)\n",
    "        "
   ]
  },
  {
   "cell_type": "code",
   "execution_count": null,
   "metadata": {},
   "outputs": [],
   "source": []
  }
 ],
 "metadata": {
  "kernelspec": {
   "display_name": "Python 3",
   "language": "python",
   "name": "python3"
  },
  "language_info": {
   "codemirror_mode": {
    "name": "ipython",
    "version": 3
   },
   "file_extension": ".py",
   "mimetype": "text/x-python",
   "name": "python",
   "nbconvert_exporter": "python",
   "pygments_lexer": "ipython3",
   "version": "3.7.4"
  },
  "varInspector": {
   "cols": {
    "lenName": 16,
    "lenType": 16,
    "lenVar": 40
   },
   "kernels_config": {
    "python": {
     "delete_cmd_postfix": "",
     "delete_cmd_prefix": "del ",
     "library": "var_list.py",
     "varRefreshCmd": "print(var_dic_list())"
    },
    "r": {
     "delete_cmd_postfix": ") ",
     "delete_cmd_prefix": "rm(",
     "library": "var_list.r",
     "varRefreshCmd": "cat(var_dic_list()) "
    }
   },
   "types_to_exclude": [
    "module",
    "function",
    "builtin_function_or_method",
    "instance",
    "_Feature"
   ],
   "window_display": false
  }
 },
 "nbformat": 4,
 "nbformat_minor": 2
}
