{
 "cells": [
  {
   "cell_type": "code",
   "execution_count": 32,
   "metadata": {
    "ExecuteTime": {
     "end_time": "2019-11-20T17:56:49.869632Z",
     "start_time": "2019-11-20T17:56:49.655045Z"
    }
   },
   "outputs": [],
   "source": [
    "def fatcatproc_part1(subjdir):\n",
    "    for sesdir in subjdir.iterdir():\n",
    "        #print(\"##########################################\")\n",
    "        #print(\"Starting subject: \" + subjdir.name + \", session: \", sesdir.name + \"....\")\n",
    "        #print(\"##########################################\")\n",
    "        sourcedir = Path(sesdir,'dti')\n",
    "        if not sourcedir.exists():\n",
    "            sourcedir.mkdir()\n",
    "        subjroot = \"_\".join([subjdir.name, sesdir.name])\n",
    "\n",
    "        #Creating processing directories\n",
    "        afniprocdir = Path(sourcedir, 'afni')\n",
    "        if afniprocdir.exists():\n",
    "            shutil.rmtree(afniprocdir)\n",
    "        afniprocdir.mkdir()\n",
    "        fatcat_dir = Path(afniprocdir, 'fatcat')\n",
    "        fatcat_dir.mkdir(exist_ok=True)\n",
    "        fatcat_dwidir = fatcat_dir / 'dwi'\n",
    "        fatcat_dwidir.mkdir(exist_ok=True)\n",
    "        fatcat_t2wdir = fatcat_dir / 't2w'\n",
    "        fatcat_t2wdir.mkdir(exist_ok=True)\n",
    "        fatcat_t1wdir = fatcat_dir / 't1w'\n",
    "        fatcat_t1wdir.mkdir(exist_ok=True)\n",
    "\n",
    "        #Creating source file variable\n",
    "        sourcedwi = sourcedir / (subjroot + \"_ppd.mif\")\n",
    "\n",
    "        #Creating mrconvert output file variables\n",
    "        fatcat_bvec = fatcat_dwidir / (subjroot + \".bvec\")\n",
    "        fatcat_bval = fatcat_dwidir / (subjroot + \".bval\")\n",
    "        fatcat_dwinii = fatcat_dwidir / (subjroot + \".nii\")\n",
    "\n",
    "        #Running mrconvert on sourcedwi and outputting to fatcat_dwidir\n",
    "        !mrconvert -force -export_grad_fsl $fatcat_bvec $fatcat_bval $sourcedwi $fatcat_dwinii\n",
    "\n",
    "        #>>>>>>>>>>>>>>>>>>>>>>>>>>>>>>>>>>>>>>>>#\n",
    "        #-------fat_proc_convert_dcm_dwis--------#\n",
    "        #<<<<<<<<<<<<<<<<<<<<<<<<<<<<<<<<<<<<<<<<#\n",
    "        os.chdir(fatcat_dir) #Must change to fatcat_dir first\n",
    "        !fat_proc_convert_dcm_dwis -innii $fatcat_dwinii -inbvec $fatcat_bvec -inbval $fatcat_bval -prefix $fatcat_dir/dwi_00/dwi\n",
    "\n",
    "        #>>>>>>>>>>>>>>>>>>>>>>>>>>>>>>>>>>>>>>>>>>>>>>>>>>>#\n",
    "        #-------Copying original T1w and T2w volumes--------#\n",
    "        #<<<<<<<<<<<<<<<<<<<<<<<<<<<<<<<<<<<<<<<<<<<<<<<<<<<#\n",
    "\n",
    "        #Creating variables as necessary to copy the T2w and T1w volumes from BIDS_master\n",
    "        ##Source variables\n",
    "        anat_sourcedir = Path(bidsmaster_dir, subjdir.name, sesdir.name, 'anat')\n",
    "        orig_t1w = Path(anat_sourcedir, \"_\".join([subjdir.name, sesdir.name, 'acq-AXFSPGRBRAVONEW', 'T1w.nii']))\n",
    "        orig_t2w = Path(anat_sourcedir, \"_\".join([subjdir.name, sesdir.name, 'acq-AxT2FLAIRCOPYDTI', 'T2w.nii']))\n",
    "\n",
    "        ##Destination variables\n",
    "        fatcat_t1w = fatcat_t1wdir / 't1w.nii'\n",
    "        fatcat_t2w = fatcat_t2wdir / 't2w.nii'\n",
    "\n",
    "        #Copying original T1w and T2w volumes to fatcat/t1w and fatcat/t2w\n",
    "        if anat_sourcedir.exists():\n",
    "            print(\"Copying T1w NiFTI...\")  \n",
    "            shutil.copy(orig_t1w, fatcat_t1w)\n",
    "\n",
    "            print(\"Copying T2w NiFTI...\")\n",
    "            shutil.copy(orig_t2w, fatcat_t2w)\n",
    "\n",
    "        #>>>>>>>>>>>>>>>>>>>>>>>>>>>>>>>>>>>>>>>>#\n",
    "        #-------fat_proc_convert_dcm_anat--------#\n",
    "        #<<<<<<<<<<<<<<<<<<<<<<<<<<<<<<<<<<<<<<<<#\n",
    "\n",
    "        #Making output directory\n",
    "        fatcat_anat00dir = fatcat_dir / 'anat_00'\n",
    "\n",
    "        #T1w - Outputting to fatcat_anat00dir/t1w.nii.gz\n",
    "        !fat_proc_convert_dcm_anat -innii $fatcat_t1w -prefix $fatcat_anat00dir/t1w\n",
    "        fatcat_anat00dir_t1w = fatcat_anat00dir / 't1w.nii.gz'\n",
    "\n",
    "        #T2w - Outputting to fatcat_anat00dir/t2w.nii.gz\n",
    "        !fat_proc_convert_dcm_anat -innii $fatcat_t2w -prefix $fatcat_anat00dir/t2w\n",
    "        fatcat_anat00dir_t2w = fatcat_anat00dir / 't2w.nii.gz'\n",
    "\n",
    "        #>>>>>>>>>>>>>>>>>>>>>>>>>>>>>>>>>>>>>#\n",
    "        #-------fat_proc_axialize_anat--------#\n",
    "        #<<<<<<<<<<<<<<<<<<<<<<<<<<<<<<<<<<<<<#\n",
    "\n",
    "        #Making output directory\n",
    "        fatcat_anat01dir = fatcat_dir / 'anat_01'\n",
    "\n",
    "        #Axializing the T2w volume - Outputting to fatcat_anat00dir/t2w.nii.gz\n",
    "        !fat_proc_axialize_anat -inset $fatcat_anat00dir_t2w -prefix $fatcat_anat01dir/t2w -mode_t2w \\\n",
    "        -refset $axializeref_t2w -extra_al_wtmask $axializeref_t2w_wt -out_match_ref -extra_al_opts \"-newgrid 1.0\"\n",
    "        fatcat_anat01dir_t2w = fatcat_anat01dir / 't2w.nii.gz'\n",
    "\n",
    "        #>>>>>>>>>>>>>>>>>>>>>>>>>>>>>>>>>>>>>#\n",
    "        #-------fat_proc_axialize_anat--------#\n",
    "        #<<<<<<<<<<<<<<<<<<<<<<<<<<<<<<<<<<<<<#\n",
    "\n",
    "        !align_epi_anat.py -dset1 $fatcat_anat01dir_t2w -dset2 $fatcat_anat00dir_t1w -align_centers yes -dset1_strip None \\\n",
    "        -dset2_strip None -big_move -rigid_body -dset2to1 -dset2_base 0 -prep_off -suffix align\n"
   ]
  },
  {
   "cell_type": "code",
   "execution_count": 37,
   "metadata": {
    "ExecuteTime": {
     "end_time": "2019-11-20T17:58:32.279786Z",
     "start_time": "2019-11-20T17:58:27.602555Z"
    }
   },
   "outputs": [
    {
     "name": "stdout",
     "output_type": "stream",
     "text": [
      "env: OMP_NUM_THREADS=32\n"
     ]
    },
    {
     "name": "stderr",
     "output_type": "stream",
     "text": [
      "[Parallel(n_jobs=8)]: Using backend LokyBackend with 8 concurrent workers.\n"
     ]
    },
    {
     "ename": "AttributeError",
     "evalue": "'NoneType' object has no attribute 'system'",
     "output_type": "error",
     "traceback": [
      "\u001b[0;31m---------------------------------------------------------------------------\u001b[0m",
      "\u001b[0;31m_RemoteTraceback\u001b[0m                          Traceback (most recent call last)",
      "\u001b[0;31m_RemoteTraceback\u001b[0m: \n\"\"\"\nTraceback (most recent call last):\n  File \"/Volumes/conda/jdrussell3/lib/python3.7/site-packages/joblib/externals/loky/process_executor.py\", line 418, in _process_worker\n    r = call_item()\n  File \"/Volumes/conda/jdrussell3/lib/python3.7/site-packages/joblib/externals/loky/process_executor.py\", line 272, in __call__\n    return self.fn(*self.args, **self.kwargs)\n  File \"/Volumes/conda/jdrussell3/lib/python3.7/site-packages/joblib/_parallel_backends.py\", line 600, in __call__\n    return self.func(*args, **kwargs)\n  File \"/Volumes/conda/jdrussell3/lib/python3.7/site-packages/joblib/parallel.py\", line 256, in __call__\n    for func, args, kwargs in self.items]\n  File \"/Volumes/conda/jdrussell3/lib/python3.7/site-packages/joblib/parallel.py\", line 256, in <listcomp>\n    for func, args, kwargs in self.items]\n  File \"<ipython-input-32-3db72a32f4be>\", line 34, in fatcatproc_part1\nAttributeError: 'NoneType' object has no attribute 'system'\n\"\"\"",
      "\nThe above exception was the direct cause of the following exception:\n",
      "\u001b[0;31mAttributeError\u001b[0m                            Traceback (most recent call last)",
      "\u001b[0;32m<ipython-input-37-61815917cb1e>\u001b[0m in \u001b[0;36m<module>\u001b[0;34m\u001b[0m\n\u001b[1;32m     18\u001b[0m \u001b[0mos\u001b[0m\u001b[0;34m.\u001b[0m\u001b[0mchdir\u001b[0m\u001b[0;34m(\u001b[0m\u001b[0;34m'/scratch/jdrussell3/'\u001b[0m\u001b[0;34m)\u001b[0m\u001b[0;34m\u001b[0m\u001b[0;34m\u001b[0m\u001b[0m\n\u001b[1;32m     19\u001b[0m \u001b[0;32mwith\u001b[0m \u001b[0mparallel_backend\u001b[0m\u001b[0;34m(\u001b[0m\u001b[0;34m\"loky\"\u001b[0m\u001b[0;34m,\u001b[0m \u001b[0minner_max_num_threads\u001b[0m\u001b[0;34m=\u001b[0m\u001b[0;36m4\u001b[0m\u001b[0;34m)\u001b[0m\u001b[0;34m:\u001b[0m\u001b[0;34m\u001b[0m\u001b[0;34m\u001b[0m\u001b[0m\n\u001b[0;32m---> 20\u001b[0;31m     \u001b[0mresults\u001b[0m \u001b[0;34m=\u001b[0m \u001b[0mParallel\u001b[0m\u001b[0;34m(\u001b[0m\u001b[0mn_jobs\u001b[0m\u001b[0;34m=\u001b[0m\u001b[0;36m8\u001b[0m\u001b[0;34m,\u001b[0m \u001b[0mverbose\u001b[0m \u001b[0;34m=\u001b[0m \u001b[0;36m2\u001b[0m\u001b[0;34m)\u001b[0m\u001b[0;34m(\u001b[0m\u001b[0mdelayed\u001b[0m\u001b[0;34m(\u001b[0m\u001b[0mfatcatproc_part1\u001b[0m\u001b[0;34m)\u001b[0m\u001b[0;34m(\u001b[0m\u001b[0msubjdir\u001b[0m\u001b[0;34m)\u001b[0m \u001b[0;32mfor\u001b[0m \u001b[0msubjdir\u001b[0m \u001b[0;32min\u001b[0m \u001b[0mbidsproc_dir\u001b[0m\u001b[0;34m.\u001b[0m\u001b[0miterdir\u001b[0m\u001b[0;34m(\u001b[0m\u001b[0;34m)\u001b[0m \u001b[0;32mif\u001b[0m \u001b[0msubjdir\u001b[0m\u001b[0;34m.\u001b[0m\u001b[0mis_dir\u001b[0m\u001b[0;34m(\u001b[0m\u001b[0;34m)\u001b[0m\u001b[0;34m)\u001b[0m\u001b[0;34m\u001b[0m\u001b[0;34m\u001b[0m\u001b[0m\n\u001b[0m\u001b[1;32m     21\u001b[0m \u001b[0mprint\u001b[0m\u001b[0;34m(\u001b[0m\u001b[0mresults\u001b[0m\u001b[0;34m)\u001b[0m\u001b[0;34m\u001b[0m\u001b[0;34m\u001b[0m\u001b[0m\n",
      "\u001b[0;32m/Volumes/conda/jdrussell3/lib/python3.7/site-packages/joblib/parallel.py\u001b[0m in \u001b[0;36m__call__\u001b[0;34m(self, iterable)\u001b[0m\n\u001b[1;32m   1014\u001b[0m \u001b[0;34m\u001b[0m\u001b[0m\n\u001b[1;32m   1015\u001b[0m             \u001b[0;32mwith\u001b[0m \u001b[0mself\u001b[0m\u001b[0;34m.\u001b[0m\u001b[0m_backend\u001b[0m\u001b[0;34m.\u001b[0m\u001b[0mretrieval_context\u001b[0m\u001b[0;34m(\u001b[0m\u001b[0;34m)\u001b[0m\u001b[0;34m:\u001b[0m\u001b[0;34m\u001b[0m\u001b[0;34m\u001b[0m\u001b[0m\n\u001b[0;32m-> 1016\u001b[0;31m                 \u001b[0mself\u001b[0m\u001b[0;34m.\u001b[0m\u001b[0mretrieve\u001b[0m\u001b[0;34m(\u001b[0m\u001b[0;34m)\u001b[0m\u001b[0;34m\u001b[0m\u001b[0;34m\u001b[0m\u001b[0m\n\u001b[0m\u001b[1;32m   1017\u001b[0m             \u001b[0;31m# Make sure that we get a last message telling us we are done\u001b[0m\u001b[0;34m\u001b[0m\u001b[0;34m\u001b[0m\u001b[0;34m\u001b[0m\u001b[0m\n\u001b[1;32m   1018\u001b[0m             \u001b[0melapsed_time\u001b[0m \u001b[0;34m=\u001b[0m \u001b[0mtime\u001b[0m\u001b[0;34m.\u001b[0m\u001b[0mtime\u001b[0m\u001b[0;34m(\u001b[0m\u001b[0;34m)\u001b[0m \u001b[0;34m-\u001b[0m \u001b[0mself\u001b[0m\u001b[0;34m.\u001b[0m\u001b[0m_start_time\u001b[0m\u001b[0;34m\u001b[0m\u001b[0;34m\u001b[0m\u001b[0m\n",
      "\u001b[0;32m/Volumes/conda/jdrussell3/lib/python3.7/site-packages/joblib/parallel.py\u001b[0m in \u001b[0;36mretrieve\u001b[0;34m(self)\u001b[0m\n\u001b[1;32m    906\u001b[0m             \u001b[0;32mtry\u001b[0m\u001b[0;34m:\u001b[0m\u001b[0;34m\u001b[0m\u001b[0;34m\u001b[0m\u001b[0m\n\u001b[1;32m    907\u001b[0m                 \u001b[0;32mif\u001b[0m \u001b[0mgetattr\u001b[0m\u001b[0;34m(\u001b[0m\u001b[0mself\u001b[0m\u001b[0;34m.\u001b[0m\u001b[0m_backend\u001b[0m\u001b[0;34m,\u001b[0m \u001b[0;34m'supports_timeout'\u001b[0m\u001b[0;34m,\u001b[0m \u001b[0;32mFalse\u001b[0m\u001b[0;34m)\u001b[0m\u001b[0;34m:\u001b[0m\u001b[0;34m\u001b[0m\u001b[0;34m\u001b[0m\u001b[0m\n\u001b[0;32m--> 908\u001b[0;31m                     \u001b[0mself\u001b[0m\u001b[0;34m.\u001b[0m\u001b[0m_output\u001b[0m\u001b[0;34m.\u001b[0m\u001b[0mextend\u001b[0m\u001b[0;34m(\u001b[0m\u001b[0mjob\u001b[0m\u001b[0;34m.\u001b[0m\u001b[0mget\u001b[0m\u001b[0;34m(\u001b[0m\u001b[0mtimeout\u001b[0m\u001b[0;34m=\u001b[0m\u001b[0mself\u001b[0m\u001b[0;34m.\u001b[0m\u001b[0mtimeout\u001b[0m\u001b[0;34m)\u001b[0m\u001b[0;34m)\u001b[0m\u001b[0;34m\u001b[0m\u001b[0;34m\u001b[0m\u001b[0m\n\u001b[0m\u001b[1;32m    909\u001b[0m                 \u001b[0;32melse\u001b[0m\u001b[0;34m:\u001b[0m\u001b[0;34m\u001b[0m\u001b[0;34m\u001b[0m\u001b[0m\n\u001b[1;32m    910\u001b[0m                     \u001b[0mself\u001b[0m\u001b[0;34m.\u001b[0m\u001b[0m_output\u001b[0m\u001b[0;34m.\u001b[0m\u001b[0mextend\u001b[0m\u001b[0;34m(\u001b[0m\u001b[0mjob\u001b[0m\u001b[0;34m.\u001b[0m\u001b[0mget\u001b[0m\u001b[0;34m(\u001b[0m\u001b[0;34m)\u001b[0m\u001b[0;34m)\u001b[0m\u001b[0;34m\u001b[0m\u001b[0;34m\u001b[0m\u001b[0m\n",
      "\u001b[0;32m/Volumes/conda/jdrussell3/lib/python3.7/site-packages/joblib/_parallel_backends.py\u001b[0m in \u001b[0;36mwrap_future_result\u001b[0;34m(future, timeout)\u001b[0m\n\u001b[1;32m    552\u001b[0m         AsyncResults.get from multiprocessing.\"\"\"\n\u001b[1;32m    553\u001b[0m         \u001b[0;32mtry\u001b[0m\u001b[0;34m:\u001b[0m\u001b[0;34m\u001b[0m\u001b[0;34m\u001b[0m\u001b[0m\n\u001b[0;32m--> 554\u001b[0;31m             \u001b[0;32mreturn\u001b[0m \u001b[0mfuture\u001b[0m\u001b[0;34m.\u001b[0m\u001b[0mresult\u001b[0m\u001b[0;34m(\u001b[0m\u001b[0mtimeout\u001b[0m\u001b[0;34m=\u001b[0m\u001b[0mtimeout\u001b[0m\u001b[0;34m)\u001b[0m\u001b[0;34m\u001b[0m\u001b[0;34m\u001b[0m\u001b[0m\n\u001b[0m\u001b[1;32m    555\u001b[0m         \u001b[0;32mexcept\u001b[0m \u001b[0mLokyTimeoutError\u001b[0m\u001b[0;34m:\u001b[0m\u001b[0;34m\u001b[0m\u001b[0;34m\u001b[0m\u001b[0m\n\u001b[1;32m    556\u001b[0m             \u001b[0;32mraise\u001b[0m \u001b[0mTimeoutError\u001b[0m\u001b[0;34m(\u001b[0m\u001b[0;34m)\u001b[0m\u001b[0;34m\u001b[0m\u001b[0;34m\u001b[0m\u001b[0m\n",
      "\u001b[0;32m/Volumes/conda/jdrussell3/lib/python3.7/concurrent/futures/_base.py\u001b[0m in \u001b[0;36mresult\u001b[0;34m(self, timeout)\u001b[0m\n\u001b[1;32m    433\u001b[0m                 \u001b[0;32mraise\u001b[0m \u001b[0mCancelledError\u001b[0m\u001b[0;34m(\u001b[0m\u001b[0;34m)\u001b[0m\u001b[0;34m\u001b[0m\u001b[0;34m\u001b[0m\u001b[0m\n\u001b[1;32m    434\u001b[0m             \u001b[0;32melif\u001b[0m \u001b[0mself\u001b[0m\u001b[0;34m.\u001b[0m\u001b[0m_state\u001b[0m \u001b[0;34m==\u001b[0m \u001b[0mFINISHED\u001b[0m\u001b[0;34m:\u001b[0m\u001b[0;34m\u001b[0m\u001b[0;34m\u001b[0m\u001b[0m\n\u001b[0;32m--> 435\u001b[0;31m                 \u001b[0;32mreturn\u001b[0m \u001b[0mself\u001b[0m\u001b[0;34m.\u001b[0m\u001b[0m__get_result\u001b[0m\u001b[0;34m(\u001b[0m\u001b[0;34m)\u001b[0m\u001b[0;34m\u001b[0m\u001b[0;34m\u001b[0m\u001b[0m\n\u001b[0m\u001b[1;32m    436\u001b[0m             \u001b[0;32melse\u001b[0m\u001b[0;34m:\u001b[0m\u001b[0;34m\u001b[0m\u001b[0;34m\u001b[0m\u001b[0m\n\u001b[1;32m    437\u001b[0m                 \u001b[0;32mraise\u001b[0m \u001b[0mTimeoutError\u001b[0m\u001b[0;34m(\u001b[0m\u001b[0;34m)\u001b[0m\u001b[0;34m\u001b[0m\u001b[0;34m\u001b[0m\u001b[0m\n",
      "\u001b[0;32m/Volumes/conda/jdrussell3/lib/python3.7/concurrent/futures/_base.py\u001b[0m in \u001b[0;36m__get_result\u001b[0;34m(self)\u001b[0m\n\u001b[1;32m    382\u001b[0m     \u001b[0;32mdef\u001b[0m \u001b[0m__get_result\u001b[0m\u001b[0;34m(\u001b[0m\u001b[0mself\u001b[0m\u001b[0;34m)\u001b[0m\u001b[0;34m:\u001b[0m\u001b[0;34m\u001b[0m\u001b[0;34m\u001b[0m\u001b[0m\n\u001b[1;32m    383\u001b[0m         \u001b[0;32mif\u001b[0m \u001b[0mself\u001b[0m\u001b[0;34m.\u001b[0m\u001b[0m_exception\u001b[0m\u001b[0;34m:\u001b[0m\u001b[0;34m\u001b[0m\u001b[0;34m\u001b[0m\u001b[0m\n\u001b[0;32m--> 384\u001b[0;31m             \u001b[0;32mraise\u001b[0m \u001b[0mself\u001b[0m\u001b[0;34m.\u001b[0m\u001b[0m_exception\u001b[0m\u001b[0;34m\u001b[0m\u001b[0;34m\u001b[0m\u001b[0m\n\u001b[0m\u001b[1;32m    385\u001b[0m         \u001b[0;32melse\u001b[0m\u001b[0;34m:\u001b[0m\u001b[0;34m\u001b[0m\u001b[0;34m\u001b[0m\u001b[0m\n\u001b[1;32m    386\u001b[0m             \u001b[0;32mreturn\u001b[0m \u001b[0mself\u001b[0m\u001b[0;34m.\u001b[0m\u001b[0m_result\u001b[0m\u001b[0;34m\u001b[0m\u001b[0;34m\u001b[0m\u001b[0m\n",
      "\u001b[0;31mAttributeError\u001b[0m: 'NoneType' object has no attribute 'system'"
     ]
    }
   ],
   "source": [
    "import os,sys,shutil\n",
    "from pathlib import Path\n",
    "from joblib import Parallel, delayed, parallel_backend\n",
    "\n",
    "bidsproc_dir = Path('/scratch/jdrussell3/bidsproc')\n",
    "bidsmaster_dir = Path('/Volumes/Vol6/YouthPTSD/BIDS_master/')\n",
    "\n",
    "axializeref_t2w = Path('/scratch/jdrussell3/mni2009/mni_icbm152_t2_relx_tal_nlin_sym_09a_ACPCE.nii.gz')\n",
    "axializeref_t2w_wt = Path('/scratch/jdrussell3/mni2009/mni_icbm152_t1_tal_nlin_sym_09a_MSKD_ACPCE_wtell.nii.gz')\n",
    "\n",
    "subjdirs = (subjdir for subjdir in bidsproc_dir.iterdir() if subjdir.is_dir())\n",
    "\n",
    "%env OMP_NUM_THREADS=32\n",
    "\n",
    "\n",
    "#for row in subjseslist:\n",
    "#    fatcatproc_part1(row[0], row[1])\n",
    "os.chdir('/scratch/jdrussell3/')        \n",
    "with parallel_backend(\"loky\", inner_max_num_threads=4):\n",
    "    results = Parallel(n_jobs=8, verbose = 2)(delayed(fatcatproc_part1)(subjdir) for subjdir in bidsproc_dir.iterdir() if subjdir.is_dir())\n",
    "print(results)"
   ]
  },
  {
   "cell_type": "code",
   "execution_count": 15,
   "metadata": {
    "ExecuteTime": {
     "end_time": "2019-11-20T17:50:55.704946Z",
     "start_time": "2019-11-20T17:50:55.697481Z"
    }
   },
   "outputs": [],
   "source": [
    "import os,sys,shutil\n",
    "from pathlib import Path\n",
    "from joblib import Parallel, delayed, parallel_backend\n",
    "\n",
    "bidsproc_dir = Path('/scratch/jdrussell3/bidsproc')\n",
    "bidsmaster_dir = Path('/Volumes/Vol6/YouthPTSD/BIDS_master/')\n",
    "\n",
    "axializeref_t2w = Path('/scratch/jdrussell3/mni2009/mni_icbm152_t2_relx_tal_nlin_sym_09a_ACPCE.nii.gz')\n",
    "axializeref_t2w_wt = Path('/scratch/jdrussell3/mni2009/mni_icbm152_t1_tal_nlin_sym_09a_MSKD_ACPCE_wtell.nii.gz')\n",
    "subjdirs = (subjdir for subjdir in bidsproc_dir.iterdir() if subjdir.is_dir())\n",
    "\n",
    "subjseslist = []\n",
    "for subjdir in sorted(subjdirs):\n",
    "    print(subjdir)\n",
    "    sesdirs = (sesdir for sesdir in subjdir.iterdir() if sesdir.is_dir())\n",
    "    for sesdir in sorted(sesdirs):\n",
    "        looplist=[subjdir, sesdir]\n",
    "        subjseslist.append(looplist)\n",
    "\n",
    "\n",
    "#Parallel(n_jobs=2, verbose = 1)(delayed(fatcatproc_part1)(subjdir) for subjdir in subjdirs)"
   ]
  },
  {
   "cell_type": "code",
   "execution_count": 27,
   "metadata": {
    "ExecuteTime": {
     "end_time": "2019-11-20T17:53:44.691325Z",
     "start_time": "2019-11-20T17:53:44.684866Z"
    }
   },
   "outputs": [],
   "source": [
    "for i in subjdirs:\n",
    "    print(i)"
   ]
  }
 ],
 "metadata": {
  "kernelspec": {
   "display_name": "Python 3",
   "language": "python",
   "name": "python3"
  },
  "language_info": {
   "codemirror_mode": {
    "name": "ipython",
    "version": 3
   },
   "file_extension": ".py",
   "mimetype": "text/x-python",
   "name": "python",
   "nbconvert_exporter": "python",
   "pygments_lexer": "ipython3",
   "version": "3.7.4"
  },
  "varInspector": {
   "cols": {
    "lenName": 16,
    "lenType": 16,
    "lenVar": 40
   },
   "kernels_config": {
    "python": {
     "delete_cmd_postfix": "",
     "delete_cmd_prefix": "del ",
     "library": "var_list.py",
     "varRefreshCmd": "print(var_dic_list())"
    },
    "r": {
     "delete_cmd_postfix": ") ",
     "delete_cmd_prefix": "rm(",
     "library": "var_list.r",
     "varRefreshCmd": "cat(var_dic_list()) "
    }
   },
   "types_to_exclude": [
    "module",
    "function",
    "builtin_function_or_method",
    "instance",
    "_Feature"
   ],
   "window_display": false
  }
 },
 "nbformat": 4,
 "nbformat_minor": 2
}
