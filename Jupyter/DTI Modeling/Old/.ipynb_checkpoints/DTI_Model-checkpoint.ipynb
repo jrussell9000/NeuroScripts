{
 "cells": [
  {
   "cell_type": "code",
   "execution_count": 1,
   "metadata": {
    "ExecuteTime": {
     "end_time": "2020-01-24T21:02:28.476370Z",
     "start_time": "2020-01-24T21:02:28.281733Z"
    }
   },
   "outputs": [],
   "source": [
    "import numpy as np\n",
    "from dipy.io.image import load_nifti, save_nifti\n",
    "from dipy.io.gradients import read_bvals_bvecs\n",
    "from dipy.core.gradients import gradient_table\n",
    "from dipy.segment.mask import median_otsu\n",
    "from dipy.reconst.dti import fractional_anisotropy, color_fa\n",
    "\n",
    "import dipy.reconst.dti as dti\n",
    "import nibabel as nib"
   ]
  },
  {
   "cell_type": "code",
   "execution_count": 15,
   "metadata": {
    "ExecuteTime": {
     "end_time": "2020-01-24T21:21:56.142422Z",
     "start_time": "2020-01-24T21:21:56.064000Z"
    }
   },
   "outputs": [],
   "source": [
    "data, affine = load_nifti('/Users/jdrussell3/scratch/dtimodel/sub-001_ses-01_ppd.nii')\n",
    "bvals, bvecs = read_bvals_bvecs('/Users/jdrussell3/scratch/dtimodel/sub-001_ses-01_ppd.bval',\n",
    "                                '/Users/jdrussell3/scratch/dtimodel/sub-001_ses-01_ppd.bvec')\n",
    "gtab = gradient_table(bvals, bvecs)\n",
    "values = np.array(bvals)\n",
    "ii = np.where(values == bvals.min())[0]\n",
    "b0_average = np.mean(data[:,:,:,ii], axis=3)\n",
    "\n"
   ]
  },
  {
   "cell_type": "code",
   "execution_count": 17,
   "metadata": {
    "ExecuteTime": {
     "end_time": "2020-01-24T21:23:58.960493Z",
     "start_time": "2020-01-24T21:23:34.739543Z"
    }
   },
   "outputs": [],
   "source": [
    "maskdata = nib.load('/Users/jdrussell3/scratch/dtimodel/sub-001_ses-01_mask_ppd.nii').get_fdata()\n",
    "\n",
    "dti_model = dti.TensorModel(gtab)\n",
    "\n",
    "dti_fit = tenmodel.fit(data, maskdata)\n",
    "evals = dti_fit.evals.astype(np.float32)\n",
    "evecs = dti_fit.evecs.astype(np.float32)\n",
    "\n",
    "FA = fractional_anisotropy(dti_fit.evals)\n",
    "FA[np.isnan(FA)] = 0\n",
    "\n",
    "estimate_data = dti_fit.predict(gtab, S0=b0_average)\n",
    "\n",
    "\n"
   ]
  },
  {
   "cell_type": "code",
   "execution_count": 18,
   "metadata": {
    "ExecuteTime": {
     "end_time": "2020-01-24T21:24:31.205318Z",
     "start_time": "2020-01-24T21:24:28.380596Z"
    }
   },
   "outputs": [],
   "source": [
    "residuals = np.absolute(data - estimate_data)"
   ]
  },
  {
   "cell_type": "code",
   "execution_count": 12,
   "metadata": {
    "ExecuteTime": {
     "end_time": "2020-01-24T21:11:23.456243Z",
     "start_time": "2020-01-24T21:11:22.766409Z"
    }
   },
   "outputs": [],
   "source": [
    "\n",
    "save_nifti('tensor_fa.nii.gz', FA.astype(np.float32), affine)\n",
    "\n",
    "# https://www.ncbi.nlm.nih.gov/pmc/articles/PMC2041910/\n",
    "# diffusion tensor may be visualized using an ellipsoid with the \n",
    "# eigenvectors defining the directions of the principle axes and \n",
    "# the ellipsoidal radii (apparent diffusivity in each direction)\n",
    "# defined by the eigenvalues\n",
    "\n",
    "# Diffusion is isotropic when L1 ~ L2 ~ L3, and anisotropic when L1 > L2 > L3\n",
    "\n",
    "# Eigenvector V1\n",
    "dti_V1 = evecs[:,:,:,:,0]\n",
    "save_nifti('tensor_V1.nii.gz', dti_V1.astype(np.float32), affine)\n",
    "\n",
    "# Eigenvector V2\n",
    "dti_V2 = evecs[:,:,:,:,1]\n",
    "save_nifti('tensor_V2.nii.gz', dti_V2.astype(np.float32), affine)\n",
    "\n",
    "# Eigenvector V3\n",
    "dti_V3 = evecs[:,:,:,:,2]\n",
    "save_nifti('tensor_V3.nii.gz', dti_V3.astype(np.float32), affine)\n",
    "\n",
    "# Eigenvalue L1\n",
    "dti_L1 = evals[:,:,:,0]\n",
    "save_nifti('tensor_L1.nii.gz', dti_L1.astype(np.float32), affine)\n",
    "\n",
    "# Eigenvalue L2\n",
    "dti_L2 = evals[:,:,:,0]\n",
    "save_nifti('tensor_L2.nii.gz', dti_L2.astype(np.float32), affine)\n",
    "\n",
    "# Eigenvalue L3\n",
    "dti_L3 = evals[:,:,:,0]\n",
    "save_nifti('tensor_L3.nii.gz', dti_L3.astype(np.float32), affine)\n",
    "\n",
    "res_img"
   ]
  }
 ],
 "metadata": {
  "kernelspec": {
   "display_name": "Python 3",
   "language": "python",
   "name": "python3"
  },
  "language_info": {
   "codemirror_mode": {
    "name": "ipython",
    "version": 3
   },
   "file_extension": ".py",
   "mimetype": "text/x-python",
   "name": "python",
   "nbconvert_exporter": "python",
   "pygments_lexer": "ipython3",
   "version": "3.7.5"
  },
  "varInspector": {
   "cols": {
    "lenName": 16,
    "lenType": 16,
    "lenVar": 40
   },
   "kernels_config": {
    "python": {
     "delete_cmd_postfix": "",
     "delete_cmd_prefix": "del ",
     "library": "var_list.py",
     "varRefreshCmd": "print(var_dic_list())"
    },
    "r": {
     "delete_cmd_postfix": ") ",
     "delete_cmd_prefix": "rm(",
     "library": "var_list.r",
     "varRefreshCmd": "cat(var_dic_list()) "
    }
   },
   "types_to_exclude": [
    "module",
    "function",
    "builtin_function_or_method",
    "instance",
    "_Feature"
   ],
   "window_display": false
  }
 },
 "nbformat": 4,
 "nbformat_minor": 2
}
