{
 "cells": [
  {
   "cell_type": "code",
   "execution_count": 4,
   "metadata": {
    "ExecuteTime": {
     "end_time": "2020-03-01T00:56:02.797945Z",
     "start_time": "2020-03-01T00:56:02.648935Z"
    }
   },
   "outputs": [],
   "source": [
    "import nibabel as nb\n",
    "import numpy as np\n",
    "import subprocess\n",
    "\n",
    "from dipy.core.gradients import gradient_table\n",
    "from dipy.data import get_fnames, default_sphere\n",
    "from dipy.io.gradients import read_bvals_bvecs\n",
    "from dipy.io.image import load_nifti\n",
    "from pathlib import Path\n",
    "\n",
    "work_dir = Path('/scratch/jdrussell3/dipy')\n",
    "orig_dir = work_dir / 'orig'\n",
    "subjroot = 'sub-011_ses-01'\n",
    "input_mif = orig_dir / (subjroot + '_ppd.mif')\n",
    "mask_mif = orig_dir / (subjroot + '_mask_ppd.mif')\n",
    "input_bvec = str(orig_dir / (subjroot + '_ppd.bvec'))\n",
    "input_bval = str(orig_dir / (subjroot + '_ppd.bval'))\n",
    "input_dwi = work_dir / (subjroot + '_ppd.nii')\n",
    "input_mask = work_dir / (subjroot + '_mask_ppd.nii')\n",
    "subprocess.run(['mrconvert', input_mif, input_dwi])\n",
    "subprocess.run(['mrconvert', mask_mif, input_mask])\n",
    "\n",
    "data, affine, img = load_nifti(input_dwi, return_img=True)\n",
    "bvals, bvecs = read_bvals_bvecs(input_bval, input_bvec)\n",
    "gtab = gradient_table(bvals, bvecs)\n",
    "sform = img.get_sform()\n",
    "qform = img.get_qform()"
   ]
  },
  {
   "cell_type": "code",
   "execution_count": 8,
   "metadata": {
    "ExecuteTime": {
     "end_time": "2020-03-01T00:58:33.914247Z",
     "start_time": "2020-03-01T00:58:33.519587Z"
    }
   },
   "outputs": [
    {
     "name": "stdout",
     "output_type": "stream",
     "text": [
      "(array([0.00178826, 0.0003949 , 0.0003949 ]), 2060.4368)\n",
      "0.2208276824486483\n"
     ]
    }
   ],
   "source": [
    "from dipy.reconst.csdeconv import auto_response\n",
    "response, ratio = auto_response(gtab, data, roi_radius=10, fa_thr=0.7)\n",
    "print(response)\n",
    "print(ratio)"
   ]
  },
  {
   "cell_type": "code",
   "execution_count": 11,
   "metadata": {
    "ExecuteTime": {
     "end_time": "2020-03-01T01:04:57.614948Z",
     "start_time": "2020-03-01T01:04:57.591451Z"
    }
   },
   "outputs": [
    {
     "ename": "ImportError",
     "evalue": "cannot import name 'window' from 'dipy.viz' (/Volumes/conda/jdrussell3/lib/python3.7/site-packages/dipy/viz/__init__.py)",
     "output_type": "error",
     "traceback": [
      "\u001b[0;31m---------------------------------------------------------------------------\u001b[0m",
      "\u001b[0;31mImportError\u001b[0m                               Traceback (most recent call last)",
      "\u001b[0;32m<ipython-input-11-f7d6809a954b>\u001b[0m in \u001b[0;36m<module>\u001b[0;34m\u001b[0m\n\u001b[0;32m----> 1\u001b[0;31m \u001b[0;32mfrom\u001b[0m \u001b[0mdipy\u001b[0m\u001b[0;34m.\u001b[0m\u001b[0mviz\u001b[0m \u001b[0;32mimport\u001b[0m \u001b[0mwindow\u001b[0m\u001b[0;34m,\u001b[0m \u001b[0mactor\u001b[0m\u001b[0;34m\u001b[0m\u001b[0;34m\u001b[0m\u001b[0m\n\u001b[0m\u001b[1;32m      2\u001b[0m \u001b[0;32mfrom\u001b[0m \u001b[0mdipy\u001b[0m\u001b[0;34m.\u001b[0m\u001b[0msims\u001b[0m\u001b[0;34m.\u001b[0m\u001b[0mvoxel\u001b[0m \u001b[0;32mimport\u001b[0m \u001b[0msingle_tensor_odf\u001b[0m\u001b[0;34m\u001b[0m\u001b[0;34m\u001b[0m\u001b[0m\n\u001b[1;32m      3\u001b[0m \u001b[0;34m\u001b[0m\u001b[0m\n\u001b[1;32m      4\u001b[0m \u001b[0minteractive\u001b[0m \u001b[0;34m=\u001b[0m \u001b[0;32mFalse\u001b[0m\u001b[0;34m\u001b[0m\u001b[0;34m\u001b[0m\u001b[0m\n\u001b[1;32m      5\u001b[0m \u001b[0mren\u001b[0m \u001b[0;34m=\u001b[0m \u001b[0mwindow\u001b[0m\u001b[0;34m.\u001b[0m\u001b[0mRenderer\u001b[0m\u001b[0;34m(\u001b[0m\u001b[0;34m)\u001b[0m\u001b[0;34m\u001b[0m\u001b[0;34m\u001b[0m\u001b[0m\n",
      "\u001b[0;31mImportError\u001b[0m: cannot import name 'window' from 'dipy.viz' (/Volumes/conda/jdrussell3/lib/python3.7/site-packages/dipy/viz/__init__.py)"
     ]
    }
   ],
   "source": [
    "from dipy.viz import window, actor\n",
    "from dipy.sims.voxel import single_tensor_odf\n",
    "\n",
    "interactive = False\n",
    "ren = window.Renderer()\n",
    "evals = response[0]\n",
    "evecs = np.array([[0, 1, 0], [0, 0, 1], [1, 0, 0]]).T\n",
    "\n",
    "response_odf = single_tensor_odf(default_sphere.vertices, evals, evecs)\n",
    "response_odf = response_odf[None, None, None, :]\n",
    "response_actor = actor.odf_slicer(response_odf, sphere=default_sphere, colormap='plasma')\n",
    "\n",
    "ren.add(response_actor)\n",
    "window.record(ren, out_path='csd_response.png', size=(200,200))\n",
    "if interactive:\n",
    "    window.show(ren)"
   ]
  },
  {
   "cell_type": "code",
   "execution_count": null,
   "metadata": {},
   "outputs": [],
   "source": []
  }
 ],
 "metadata": {
  "kernelspec": {
   "display_name": "Python 3",
   "language": "python",
   "name": "python3"
  },
  "language_info": {
   "codemirror_mode": {
    "name": "ipython",
    "version": 3
   },
   "file_extension": ".py",
   "mimetype": "text/x-python",
   "name": "python",
   "nbconvert_exporter": "python",
   "pygments_lexer": "ipython3",
   "version": "3.7.5"
  },
  "varInspector": {
   "cols": {
    "lenName": 16,
    "lenType": 16,
    "lenVar": 40
   },
   "kernels_config": {
    "python": {
     "delete_cmd_postfix": "",
     "delete_cmd_prefix": "del ",
     "library": "var_list.py",
     "varRefreshCmd": "print(var_dic_list())"
    },
    "r": {
     "delete_cmd_postfix": ") ",
     "delete_cmd_prefix": "rm(",
     "library": "var_list.r",
     "varRefreshCmd": "cat(var_dic_list()) "
    }
   },
   "types_to_exclude": [
    "module",
    "function",
    "builtin_function_or_method",
    "instance",
    "_Feature"
   ],
   "window_display": false
  }
 },
 "nbformat": 4,
 "nbformat_minor": 2
}
